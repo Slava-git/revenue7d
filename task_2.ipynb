{
 "cells": [
  {
   "cell_type": "markdown",
   "id": "e9bdeb2b-cf97-4fc3-9103-1bf7c19b31ea",
   "metadata": {},
   "source": [
    "## Import"
   ]
  },
  {
   "cell_type": "code",
   "execution_count": 1,
   "id": "b4abc3bb-b24a-4041-92c2-40380fb4d012",
   "metadata": {},
   "outputs": [],
   "source": [
    "import pandas as pd\n",
    "from fuzzywuzzy import fuzz, process\n",
    "import matplotlib.pyplot as plt\n",
    "import seaborn as sns\n",
    "import lightgbm as lgb\n",
    "import numpy as np\n",
    "\n",
    "from sklearn.metrics import r2_score, mean_pinball_loss\n",
    "from sklearn.metrics import mean_squared_error, mean_absolute_error\n",
    "\n",
    "plt.style.use('default')\n",
    "sns.set_palette(\"husl\")"
   ]
  },
  {
   "cell_type": "code",
   "execution_count": 2,
   "id": "fb1f98c7-930c-4cbd-b2a7-a8f4800b81b5",
   "metadata": {},
   "outputs": [],
   "source": [
    "df_user_actions = pd.read_csv(\"task_2_users_actions.csv\")"
   ]
  },
  {
   "cell_type": "code",
   "execution_count": 3,
   "id": "8b53ef42-a913-4830-a1e8-85eccb546d77",
   "metadata": {},
   "outputs": [],
   "source": [
    "df_user_params = pd.read_csv(\"task_2_users_params.csv\")"
   ]
  },
  {
   "cell_type": "markdown",
   "id": "5b8dfeac-03da-4f2c-a65a-3c4f9beb0214",
   "metadata": {},
   "source": [
    "## EDA"
   ]
  },
  {
   "cell_type": "code",
   "execution_count": null,
   "id": "90e924b0-bb4b-40e7-a16f-e2d3f82209b4",
   "metadata": {
    "scrolled": true
   },
   "outputs": [],
   "source": [
    "df_user_actions"
   ]
  },
  {
   "cell_type": "code",
   "execution_count": null,
   "id": "8d93aed8-0f05-4e33-9442-b1e7d2a4c2f6",
   "metadata": {},
   "outputs": [],
   "source": [
    "df_user_params"
   ]
  },
  {
   "cell_type": "code",
   "execution_count": null,
   "id": "2aac0808-42e0-4a50-8d95-5eb81cb3ce16",
   "metadata": {},
   "outputs": [],
   "source": [
    "df_user_params.id_user.value_counts()"
   ]
  },
  {
   "cell_type": "markdown",
   "id": "5cc0ebeb-ab9b-49ae-9835-4751be99956a",
   "metadata": {},
   "source": [
    "Check for duplicates. Remove unnecessary duplicates."
   ]
  },
  {
   "cell_type": "code",
   "execution_count": 4,
   "id": "5d49acef-acb3-4fee-aefe-2a5782477898",
   "metadata": {},
   "outputs": [
    {
     "name": "stdout",
     "output_type": "stream",
     "text": [
      "Users duplicated in BOTH params and actions: 39\n"
     ]
    }
   ],
   "source": [
    "dup_params  = df_user_params[df_user_params.duplicated(keep=False)]\n",
    "dup_actions = df_user_actions[df_user_actions.duplicated(keep=False)]\n",
    "\n",
    "ids_params  = set(dup_params['id_user'])\n",
    "ids_actions = set(dup_actions['id_user'])\n",
    "\n",
    "common_ids = ids_params.intersection(ids_actions)\n",
    "\n",
    "print(f\"Users duplicated in BOTH params and actions: {len(common_ids)}\")"
   ]
  },
  {
   "cell_type": "code",
   "execution_count": 5,
   "id": "b25cf4ed-a4ec-4bb1-8870-4017f7055c6a",
   "metadata": {},
   "outputs": [
    {
     "data": {
      "text/plain": [
       "78"
      ]
     },
     "execution_count": 5,
     "metadata": {},
     "output_type": "execute_result"
    }
   ],
   "source": [
    "len(dup_actions)"
   ]
  },
  {
   "cell_type": "code",
   "execution_count": 6,
   "id": "fefaa5a3-1b89-4576-a95f-28e7defd559a",
   "metadata": {},
   "outputs": [
    {
     "data": {
      "text/plain": [
       "483083"
      ]
     },
     "execution_count": 6,
     "metadata": {},
     "output_type": "execute_result"
    }
   ],
   "source": [
    "len(dup_params)"
   ]
  },
  {
   "cell_type": "code",
   "execution_count": 7,
   "id": "d6e91b67-9a79-4a7e-8d4f-1ba3935fe250",
   "metadata": {},
   "outputs": [
    {
     "name": "stdout",
     "output_type": "stream",
     "text": [
      "Unique records with duplicates in params: 191956\n",
      "Unique records with duplicates in actions: 39\n"
     ]
    }
   ],
   "source": [
    "unique_duplicate_params = len(dup_params.drop_duplicates())\n",
    "unique_duplicate_actions = len(dup_actions.drop_duplicates())\n",
    "\n",
    "print(f\"Unique records with duplicates in params: {unique_duplicate_params}\")\n",
    "print(f\"Unique records with duplicates in actions: {unique_duplicate_actions}\")"
   ]
  },
  {
   "cell_type": "code",
   "execution_count": 8,
   "id": "10b3ff37-cd74-4f3c-9ea1-1caac9ae925a",
   "metadata": {},
   "outputs": [],
   "source": [
    "df_user_params = df_user_params.drop_duplicates()\n",
    "df_user_actions = df_user_actions.drop_duplicates()"
   ]
  },
  {
   "cell_type": "code",
   "execution_count": null,
   "id": "202790ed-4542-48ab-ab65-d2d1c5b58da1",
   "metadata": {},
   "outputs": [],
   "source": []
  },
  {
   "cell_type": "code",
   "execution_count": 9,
   "id": "a991ebd1-9c23-431b-bc11-6f4ea46be119",
   "metadata": {},
   "outputs": [],
   "source": [
    "counts = df_user_params['id_user'].value_counts()\n",
    "dup_ids = counts[counts == 2].index.tolist()"
   ]
  },
  {
   "cell_type": "code",
   "execution_count": null,
   "id": "7f6cfefa-6993-4d74-bf94-9a1f5d8d0a65",
   "metadata": {},
   "outputs": [],
   "source": []
  },
  {
   "cell_type": "markdown",
   "id": "4c06911d-2639-4f4c-b4ce-c9cb0bf3c415",
   "metadata": {},
   "source": [
    "There are still duplicated id_user. let's investigate."
   ]
  },
  {
   "cell_type": "code",
   "execution_count": 10,
   "id": "18bed681-b9f1-4f3c-a514-2524c59959a3",
   "metadata": {
    "scrolled": true
   },
   "outputs": [
    {
     "name": "stdout",
     "output_type": "stream",
     "text": [
      "\n",
      "--- id_user = 56116 | differing columns: ['device_browser'] ---\n",
      "         id_user  device_browser\n",
      "19087      56116    Opera Mobile\n",
      "1702027    56116  Chrome Webview\n",
      "\n",
      "--- id_user = 411934 | differing columns: ['device_browser', 'device_platform', 'device_os'] ---\n",
      "         id_user device_browser device_platform  device_os\n",
      "136897    411934         Chrome         desktop  GNU/Linux\n",
      "1244639   411934  Chrome Mobile          mobile    Android\n",
      "\n",
      "--- id_user = 2152216 | differing columns: ['device_browser', 'device_brand', 'device_model'] ---\n",
      "         id_user  device_browser device_brand device_model\n",
      "742826   2152216   Chrome Mobile       Google        Pixel\n",
      "1697363  2152216  Chrome Webview      Samsung  Galaxy A02s\n",
      "\n",
      "--- id_user = 479889 | differing columns: ['device_browser', 'device_platform'] ---\n",
      "         id_user device_browser device_platform\n",
      "158860    479889         Safari         desktop\n",
      "1565013   479889  Mobile Safari          mobile\n",
      "\n",
      "--- id_user = 258037 | differing columns: ['device_browser', 'device_platform', 'device_os'] ---\n",
      "        id_user device_browser device_platform  device_os\n",
      "86853    258037         Chrome         desktop  GNU/Linux\n",
      "806372   258037  Chrome Mobile          mobile    Android\n",
      "\n",
      "--- id_user = 141402 | differing columns: ['device_browser'] ---\n",
      "         id_user  device_browser\n",
      "48078     141402     Instabridge\n",
      "1721355   141402  Chrome Webview\n",
      "\n",
      "--- id_user = 223818 | differing columns: ['device_browser'] ---\n",
      "        id_user device_browser\n",
      "75806    223818         Chrome\n",
      "709495   223818  Chrome Mobile\n",
      "\n",
      "--- id_user = 292194 | differing columns: ['device_browser', 'device_platform', 'device_os'] ---\n",
      "         id_user device_browser device_platform device_os\n",
      "98112     292194         Chrome         desktop   Windows\n",
      "1585111   292194  Mobile Safari          mobile       iOS\n",
      "\n",
      "--- id_user = 497161 | differing columns: ['device_browser', 'device_platform', 'device_os'] ---\n",
      "         id_user device_browser device_platform device_os\n",
      "164258    497161         Safari         desktop       Mac\n",
      "1620633   497161  Mobile Safari          mobile       iOS\n",
      "\n",
      "--- id_user = 238483 | differing columns: ['device_browser'] ---\n",
      "        id_user device_browser\n",
      "80548    238483         Chrome\n",
      "750994   238483  Chrome Mobile\n",
      "\n",
      "--- id_user = 2101289 | differing columns: ['device_brand', 'device_model'] ---\n",
      "        id_user device_brand device_model\n",
      "723305  2101289         Asus    ROG Phone\n",
      "723306  2101289       Google      Pixel 2\n",
      "\n",
      "--- id_user = 4901530 | differing columns: ['device_platform'] ---\n",
      "         id_user device_platform\n",
      "1728586  4901530          tablet\n",
      "1728608  4901530          mobile\n",
      "\n",
      "--- id_user = 1944380 | differing columns: ['device_brand', 'device_model'] ---\n",
      "        id_user device_brand            device_model\n",
      "663277  1944380        Nubia             Red Magic 7\n",
      "663278  1944380      OnePlus  10 Pro Extreme Edition\n",
      "\n",
      "--- id_user = 254612 | differing columns: ['device_browser'] ---\n",
      "        id_user device_browser\n",
      "85718    254612         Chrome\n",
      "796201   254612  Chrome Mobile\n",
      "\n",
      "--- id_user = 5096557 | differing columns: ['device_platform', 'device_os'] ---\n",
      "         id_user device_platform  device_os\n",
      "1803581  5096557          mobile  GNU/Linux\n",
      "1803582  5096557          tablet    Android\n",
      "\n",
      "--- id_user = 516691 | differing columns: ['device_browser', 'device_platform'] ---\n",
      "         id_user device_browser device_platform\n",
      "170411    516691         Safari         desktop\n",
      "1683318   516691  Mobile Safari          mobile\n",
      "\n",
      "--- id_user = 16258 | differing columns: ['device_browser'] ---\n",
      "         id_user  device_browser\n",
      "5582       16258    MIUI Browser\n",
      "1692922    16258  Chrome Webview\n",
      "\n",
      "--- id_user = 278446 | differing columns: ['device_browser', 'device_platform'] ---\n",
      "        id_user device_browser device_platform\n",
      "93607    278446         Chrome          tablet\n",
      "864433   278446  Chrome Mobile          mobile\n",
      "\n",
      "--- id_user = 139786 | differing columns: ['device_browser'] ---\n",
      "         id_user  device_browser\n",
      "47572     139786    MIUI Browser\n",
      "1720909   139786  Chrome Webview\n",
      "\n",
      "--- id_user = 332252 | differing columns: ['device_browser', 'device_platform', 'device_os'] ---\n",
      "         id_user device_browser device_platform  device_os\n",
      "111127    332252         Chrome         desktop  GNU/Linux\n",
      "1017264   332252  Chrome Mobile          mobile    Android\n",
      "\n",
      "--- id_user = 473521 | differing columns: ['device_browser', 'device_platform'] ---\n",
      "         id_user device_browser device_platform\n",
      "156813    473521         Safari         desktop\n",
      "1544459   473521  Mobile Safari          mobile\n",
      "\n",
      "--- id_user = 273237 | differing columns: ['device_browser'] ---\n",
      "        id_user device_browser\n",
      "91900    273237         Chrome\n",
      "849150   273237  Chrome Mobile\n",
      "\n",
      "--- id_user = 130169 | differing columns: ['device_browser'] ---\n",
      "         id_user         device_browser\n",
      "44343     130169  Microsoft Bing Search\n",
      "1753785   130169         Microsoft Edge\n",
      "\n",
      "--- id_user = 61687 | differing columns: ['device_browser'] ---\n",
      "         id_user  device_browser\n",
      "21006      61687     Instabridge\n",
      "1703319    61687  Chrome Webview\n",
      "\n",
      "--- id_user = 3824067 | differing columns: ['device_browser', 'device_brand', 'device_model'] ---\n",
      "         id_user  device_browser device_brand device_model\n",
      "1380374  3824067   Chrome Mobile       Google      Pixel 3\n",
      "1728948  3824067  Chrome Webview       Huawei  Honor 50 5G\n",
      "\n",
      "--- id_user = 3581010 | differing columns: ['device_browser'] ---\n",
      "         id_user  device_browser\n",
      "1287866  3581010   Chrome Mobile\n",
      "1724244  3581010  Chrome Webview\n",
      "\n",
      "--- id_user = 487692 | differing columns: ['device_browser', 'device_platform'] ---\n",
      "         id_user device_browser device_platform\n",
      "161366    487692         Safari         desktop\n",
      "1590050   487692  Mobile Safari          mobile\n",
      "\n",
      "--- id_user = 237465 | differing columns: ['device_browser', 'device_platform', 'device_os'] ---\n",
      "        id_user device_browser device_platform  device_os\n",
      "80205    237465         Chrome         desktop  GNU/Linux\n",
      "748029   237465  Chrome Mobile          mobile    Android\n",
      "\n",
      "--- id_user = 140798 | differing columns: ['device_browser', 'device_platform', 'device_os'] ---\n",
      "        id_user  device_browser device_platform  device_os\n",
      "47907    140798  Firefox Mobile          mobile    Android\n",
      "183323   140798         Firefox         desktop  GNU/Linux\n",
      "\n",
      "--- id_user = 186735 | differing columns: ['device_browser'] ---\n",
      "        id_user device_browser\n",
      "63725    186735         Chrome\n",
      "604091   186735  Chrome Mobile\n",
      "\n",
      "--- id_user = 133433 | differing columns: ['device_browser', 'device_platform'] ---\n",
      "         id_user              device_browser device_platform\n",
      "45439     133433  DuckDuckGo Privacy Browser          tablet\n",
      "1191978   133433               Chrome Mobile          mobile\n",
      "\n",
      "--- id_user = 36003 | differing columns: ['device_browser'] ---\n",
      "         id_user  device_browser\n",
      "12311      36003    MIUI Browser\n",
      "1697418    36003  Chrome Webview\n",
      "\n",
      "--- id_user = 479448 | differing columns: ['device_browser', 'device_platform'] ---\n",
      "         id_user device_browser device_platform\n",
      "158726    479448         Safari         desktop\n",
      "1563699   479448  Mobile Safari          mobile\n",
      "\n",
      "--- id_user = 442486 | differing columns: ['device_browser', 'device_platform'] ---\n",
      "         id_user device_browser device_platform\n",
      "146710    442486         Chrome          tablet\n",
      "1331736   442486  Chrome Mobile          mobile\n",
      "\n",
      "--- id_user = 381989 | differing columns: ['device_browser'] ---\n",
      "         id_user device_browser\n",
      "127260    381989         Chrome\n",
      "1159231   381989  Chrome Mobile\n",
      "\n",
      "--- id_user = 4988567 | differing columns: ['device_platform', 'device_os'] ---\n",
      "         id_user device_platform device_os\n",
      "1756698  4988567          mobile   Android\n",
      "1756699  4988567         desktop   Windows\n",
      "\n",
      "--- id_user = 20118 | differing columns: ['device_browser'] ---\n",
      "         id_user  device_browser\n",
      "6920       20118    Opera Mobile\n",
      "1693800    20118  Chrome Webview\n",
      "\n",
      "--- id_user = 23859 | differing columns: ['device_browser'] ---\n",
      "         id_user  device_browser\n",
      "8144       23859     Instabridge\n",
      "1694648    23859  Chrome Webview\n",
      "\n",
      "--- id_user = 134720 | differing columns: ['device_browser'] ---\n",
      "         id_user         device_browser\n",
      "45919     134720  Microsoft Bing Search\n",
      "1754656   134720         Microsoft Edge\n",
      "\n",
      "--- id_user = 417 | differing columns: ['device_browser'] ---\n",
      "         id_user  device_browser\n",
      "147          417   Aloha Browser\n",
      "1689338      417  Chrome Webview\n",
      "\n",
      "--- id_user = 476232 | differing columns: ['device_browser', 'device_platform'] ---\n",
      "         id_user device_browser device_platform\n",
      "157682    476232         Safari         desktop\n",
      "1553507   476232  Mobile Safari          mobile\n",
      "\n",
      "--- id_user = 67887 | differing columns: ['device_browser'] ---\n",
      "         id_user  device_browser\n",
      "23105      67887    Opera Mobile\n",
      "1704711    67887  Chrome Webview\n",
      "\n",
      "--- id_user = 26409 | differing columns: ['device_browser', 'device_model', 'device_platform'] ---\n",
      "        id_user              device_browser   device_model device_platform\n",
      "9009      26409  DuckDuckGo Privacy Browser  Nokia G310 5G          tablet\n",
      "700078    26409               Chrome Mobile        G310 5G          mobile\n",
      "\n",
      "--- id_user = 4816430 | differing columns: ['device_browser', 'device_platform', 'device_os'] ---\n",
      "         id_user  device_browser device_platform device_os\n",
      "1698108  4816430  Chrome Webview          mobile   Android\n",
      "1737105  4816430  Microsoft Edge         desktop   Windows\n",
      "\n",
      "--- id_user = 168816 | differing columns: ['device_browser'] ---\n",
      "         id_user  device_browser\n",
      "57605     168816    Opera Mobile\n",
      "1727621   168816  Chrome Webview\n",
      "\n",
      "--- id_user = 179565 | differing columns: ['device_browser'] ---\n",
      "        id_user device_browser\n",
      "61277    179565         Chrome\n",
      "583735   179565  Chrome Mobile\n",
      "\n",
      "--- id_user = 2654755 | differing columns: ['device_browser'] ---\n",
      "         id_user  device_browser\n",
      "934037   2654755   Chrome Mobile\n",
      "1706864  2654755  Chrome Webview\n",
      "\n",
      "--- id_user = 2439849 | differing columns: ['device_browser'] ---\n",
      "         id_user  device_browser\n",
      "851751   2439849   Chrome Mobile\n",
      "1702876  2439849  Chrome Webview\n",
      "\n",
      "--- id_user = 190131 | differing columns: ['device_browser'] ---\n",
      "        id_user device_browser\n",
      "64816    190131         Chrome\n",
      "613816   190131  Chrome Mobile\n",
      "\n",
      "--- id_user = 518306 | differing columns: ['device_browser', 'device_platform'] ---\n",
      "         id_user device_browser device_platform\n",
      "170954    518306         Safari         desktop\n",
      "1688495   518306  Mobile Safari          mobile\n",
      "\n",
      "--- id_user = 508419 | differing columns: ['device_browser', 'device_platform'] ---\n",
      "         id_user device_browser device_platform\n",
      "167825    508419         Safari         desktop\n",
      "1656821   508419  Mobile Safari          mobile\n",
      "\n",
      "--- id_user = 414543 | differing columns: ['device_browser'] ---\n",
      "         id_user device_browser\n",
      "137712    414543         Chrome\n",
      "1252181   414543  Chrome Mobile\n",
      "\n",
      "--- id_user = 508635 | differing columns: ['device_browser', 'device_platform'] ---\n",
      "         id_user device_browser device_platform\n",
      "167893    508635         Safari         desktop\n",
      "1657551   508635  Mobile Safari          mobile\n",
      "\n",
      "--- id_user = 122352 | differing columns: ['device_browser'] ---\n",
      "         id_user         device_browser\n",
      "41666     122352  Microsoft Bing Search\n",
      "1752343   122352         Microsoft Edge\n",
      "\n",
      "--- id_user = 311925 | differing columns: ['device_browser'] ---\n",
      "        id_user device_browser\n",
      "104559   311925         Chrome\n",
      "959269   311925  Chrome Mobile\n",
      "\n",
      "--- id_user = 47980 | differing columns: ['device_browser'] ---\n",
      "         id_user  device_browser\n",
      "16337      47980    Opera Mobile\n",
      "1700177    47980  Chrome Webview\n",
      "\n",
      "--- id_user = 28065 | differing columns: ['device_browser'] ---\n",
      "         id_user  device_browser\n",
      "9585       28065    MIUI Browser\n",
      "1695600    28065  Chrome Webview\n",
      "\n",
      "--- id_user = 436753 | differing columns: ['device_browser', 'device_platform'] ---\n",
      "         id_user device_browser device_platform\n",
      "144865    436753         Chrome          tablet\n",
      "1315599   436753  Chrome Mobile          mobile\n",
      "\n",
      "--- id_user = 4820513 | differing columns: ['device_platform'] ---\n",
      "         id_user device_platform\n",
      "1699578  4820513          mobile\n",
      "1699582  4820513          tablet\n",
      "\n",
      "--- id_user = 518149 | differing columns: ['device_browser', 'device_platform', 'device_os'] ---\n",
      "         id_user device_browser device_platform device_os\n",
      "170892    518149         Safari         desktop       Mac\n",
      "1687998   518149  Mobile Safari          tablet       iOS\n",
      "\n",
      "--- id_user = 95269 | differing columns: ['device_browser'] ---\n",
      "         id_user  device_browser\n",
      "32362      95269        Opera GX\n",
      "1710947    95269  Chrome Webview\n",
      "\n",
      "--- id_user = 2007382 | differing columns: ['device_browser', 'device_brand', 'device_model'] ---\n",
      "         id_user  device_browser device_brand device_model\n",
      "687251   2007382   Chrome Mobile       Google      Pixel 3\n",
      "1694602  2007382  Chrome Webview       Xiaomi      12T Pro\n",
      "\n",
      "--- id_user = 122222 | differing columns: ['device_browser'] ---\n",
      "         id_user         device_browser\n",
      "41615     122222  Microsoft Bing Search\n",
      "1752318   122222         Microsoft Edge\n",
      "\n",
      "--- id_user = 122854 | differing columns: ['device_browser'] ---\n",
      "         id_user  device_browser\n",
      "41837     122854    MIUI Browser\n",
      "1717169   122854  Chrome Webview\n",
      "\n",
      "--- id_user = 124552 | differing columns: ['device_browser'] ---\n",
      "         id_user  device_browser\n",
      "42369     124552    MIUI Browser\n",
      "1717513   124552  Chrome Webview\n",
      "\n",
      "--- id_user = 247150 | differing columns: ['device_browser', 'device_platform', 'device_os'] ---\n",
      "        id_user device_browser device_platform  device_os\n",
      "83372    247150         Chrome         desktop  GNU/Linux\n",
      "775112   247150  Chrome Mobile          mobile    Android\n",
      "\n",
      "--- id_user = 228790 | differing columns: ['device_browser'] ---\n",
      "        id_user device_browser\n",
      "77394    228790         Chrome\n",
      "723288   228790  Chrome Mobile\n",
      "\n",
      "--- id_user = 2892466 | differing columns: ['device_browser'] ---\n",
      "         id_user  device_browser\n",
      "1025057  2892466   Chrome Mobile\n",
      "1711321  2892466  Chrome Webview\n",
      "\n",
      "--- id_user = 262755 | differing columns: ['device_browser'] ---\n",
      "         id_user  device_browser\n",
      "88388     262755          Chrome\n",
      "1701246   262755  Chrome Webview\n",
      "\n",
      "--- id_user = 463741 | differing columns: ['device_browser', 'device_platform', 'device_os'] ---\n",
      "         id_user device_browser device_platform  device_os\n",
      "153677    463741         Chrome         desktop  GNU/Linux\n",
      "1392062   463741  Chrome Mobile          mobile    Android\n",
      "\n",
      "--- id_user = 511773 | differing columns: ['device_browser', 'device_platform'] ---\n",
      "         id_user device_browser device_platform\n",
      "168876    511773         Safari         desktop\n",
      "1667363   511773  Mobile Safari          mobile\n",
      "\n",
      "--- id_user = 417267 | differing columns: ['device_browser'] ---\n",
      "         id_user device_browser\n",
      "138553    417267         Chrome\n",
      "1259935   417267  Chrome Mobile\n",
      "\n",
      "--- id_user = 3445358 | differing columns: ['device_browser'] ---\n",
      "         id_user  device_browser\n",
      "1236144  3445358   Chrome Mobile\n",
      "1721735  3445358  Chrome Webview\n",
      "\n",
      "--- id_user = 28032 | differing columns: ['device_browser'] ---\n",
      "         id_user  device_browser\n",
      "9573       28032    MIUI Browser\n",
      "1695592    28032  Chrome Webview\n",
      "\n",
      "--- id_user = 192469 | differing columns: ['device_browser', 'device_platform'] ---\n",
      "        id_user device_browser device_platform\n",
      "65614    192469         Chrome          tablet\n",
      "620512   192469  Chrome Mobile          mobile\n",
      "\n",
      "--- id_user = 2366713 | differing columns: ['device_browser'] ---\n",
      "         id_user  device_browser\n",
      "823905   2366713   Chrome Mobile\n",
      "1701467  2366713  Chrome Webview\n",
      "\n",
      "--- id_user = 162003 | differing columns: ['device_browser'] ---\n",
      "         id_user  device_browser\n",
      "55215     162003    MIUI Browser\n",
      "1726055   162003  Chrome Webview\n",
      "\n",
      "--- id_user = 216257 | differing columns: ['device_browser'] ---\n",
      "        id_user device_browser\n",
      "73391    216257         Chrome\n",
      "687745   216257  Chrome Mobile\n",
      "\n",
      "--- id_user = 145745 | differing columns: ['device_browser'] ---\n",
      "         id_user  device_browser\n",
      "49554     145745    Opera Mobile\n",
      "1722365   145745  Chrome Webview\n",
      "\n",
      "--- id_user = 3853905 | differing columns: ['device_browser'] ---\n",
      "         id_user  device_browser\n",
      "1391720  3853905   Chrome Mobile\n",
      "1729538  3853905  Chrome Webview\n",
      "\n",
      "--- id_user = 146958 | differing columns: ['device_browser'] ---\n",
      "         id_user  device_browser\n",
      "49966     146958     Instabridge\n",
      "1722641   146958  Chrome Webview\n",
      "\n",
      "--- id_user = 478312 | differing columns: ['device_browser', 'device_platform'] ---\n",
      "         id_user device_browser device_platform\n",
      "158347    478312         Safari         desktop\n",
      "1560052   478312  Mobile Safari          mobile\n",
      "\n",
      "--- id_user = 246870 | differing columns: ['device_browser'] ---\n",
      "        id_user device_browser\n",
      "83270    246870         Chrome\n",
      "774392   246870  Chrome Mobile\n",
      "\n",
      "--- id_user = 2159110 | differing columns: ['device_browser'] ---\n",
      "         id_user  device_browser\n",
      "745446   2159110   Chrome Mobile\n",
      "1697494  2159110  Chrome Webview\n",
      "\n",
      "--- id_user = 376342 | differing columns: ['device_browser', 'device_platform', 'device_os'] ---\n",
      "         id_user device_browser device_platform  device_os\n",
      "125460    376342         Chrome         desktop  GNU/Linux\n",
      "1142888   376342  Chrome Mobile          mobile    Android\n",
      "\n",
      "--- id_user = 3869 | differing columns: ['device_browser'] ---\n",
      "         id_user  device_browser\n",
      "1385        3869    MIUI Browser\n",
      "1690121     3869  Chrome Webview\n",
      "\n",
      "--- id_user = 286151 | differing columns: ['device_browser'] ---\n",
      "        id_user device_browser\n",
      "96121    286151         Chrome\n",
      "886428   286151  Chrome Mobile\n",
      "\n",
      "--- id_user = 517933 | differing columns: ['device_browser', 'device_platform'] ---\n",
      "         id_user device_browser device_platform\n",
      "170822    517933         Safari         desktop\n",
      "1687274   517933  Mobile Safari          mobile\n",
      "\n",
      "--- id_user = 2247221 | differing columns: ['device_browser'] ---\n",
      "         id_user  device_browser\n",
      "778397   2247221   Chrome Mobile\n",
      "1699157  2247221  Chrome Webview\n",
      "\n",
      "--- id_user = 3262506 | differing columns: ['device_browser'] ---\n",
      "         id_user  device_browser\n",
      "1166265  3262506   Chrome Mobile\n",
      "1718288  3262506  Chrome Webview\n",
      "\n",
      "--- id_user = 242403 | differing columns: ['device_browser', 'device_platform', 'device_os'] ---\n",
      "        id_user device_browser device_platform  device_os\n",
      "81797    242403         Chrome         desktop  GNU/Linux\n",
      "762044   242403  Chrome Mobile          mobile    Android\n",
      "\n",
      "--- id_user = 240031 | differing columns: ['device_browser'] ---\n",
      "        id_user device_browser\n",
      "81033    240031         Chrome\n",
      "755091   240031  Chrome Mobile\n",
      "\n",
      "--- id_user = 2085720 | differing columns: ['device_browser'] ---\n",
      "         id_user  device_browser\n",
      "717353   2085720   Chrome Mobile\n",
      "1696105  2085720  Chrome Webview\n",
      "\n",
      "--- id_user = 326554 | differing columns: ['device_browser'] ---\n",
      "         id_user device_browser\n",
      "109333    326554         Chrome\n",
      "1000690   326554  Chrome Mobile\n",
      "\n",
      "--- id_user = 226433 | differing columns: ['device_browser'] ---\n",
      "        id_user device_browser\n",
      "76633    226433         Chrome\n",
      "716789   226433  Chrome Mobile\n",
      "\n",
      "--- id_user = 124008 | differing columns: ['device_browser'] ---\n",
      "         id_user  device_browser\n",
      "42187     124008    MIUI Browser\n",
      "1717401   124008  Chrome Webview\n",
      "\n",
      "--- id_user = 114338 | differing columns: ['device_browser'] ---\n",
      "         id_user  device_browser\n",
      "38888     114338    MIUI Browser\n",
      "1715255   114338  Chrome Webview\n",
      "\n",
      "--- id_user = 101262 | differing columns: ['device_browser'] ---\n",
      "         id_user         device_browser\n",
      "34371     101262  Microsoft Bing Search\n",
      "1748531   101262         Microsoft Edge\n",
      "\n",
      "--- id_user = 2133899 | differing columns: ['device_browser', 'device_brand', 'device_model'] ---\n",
      "         id_user  device_browser device_brand device_model\n",
      "735723   2133899   Chrome Mobile       Google      Pixel 3\n",
      "1697007  2133899  Chrome Webview         Vivo       S12 5G\n",
      "\n",
      "--- id_user = 35797 | differing columns: ['device_browser'] ---\n",
      "         id_user  device_browser\n",
      "12234      35797    MIUI Browser\n",
      "1697379    35797  Chrome Webview\n",
      "\n",
      "--- id_user = 465564 | differing columns: ['device_browser', 'device_platform'] ---\n",
      "         id_user device_browser device_platform\n",
      "154271    465564         Safari         desktop\n",
      "1518351   465564  Mobile Safari          mobile\n"
     ]
    }
   ],
   "source": [
    "all_diff_coll = []\n",
    "\n",
    "for uid in dup_ids:\n",
    "    pair = df_user_params[df_user_params['id_user'] == uid]\n",
    "\n",
    "    diff_cols = [\n",
    "        col for col in df_user_params.columns\n",
    "        if pair[col].nunique() > 1\n",
    "    ]\n",
    "    \n",
    "    print(f\"\\n--- id_user = {uid} | differing columns: {diff_cols} ---\")\n",
    "    print(pair[['id_user'] + diff_cols])\n",
    "\n",
    "    all_diff_coll.append(diff_cols)"
   ]
  },
  {
   "cell_type": "markdown",
   "id": "6db8de8f-b80c-4d89-a860-88e6f16931e2",
   "metadata": {},
   "source": [
    "We can see that most differing values correspond to different browsers. \n",
    "Additionally, there are cases where the device_platform alternates between desktop/tablet and mobile. \n",
    "\n",
    "Likewise, instances in which the same device reports different browsers may indicate that the user is being redirected to their default browser."
   ]
  },
  {
   "cell_type": "code",
   "execution_count": null,
   "id": "fe1a8466-8ac2-4136-9a1f-fccb32356076",
   "metadata": {},
   "outputs": [],
   "source": []
  },
  {
   "cell_type": "code",
   "execution_count": 11,
   "id": "ff86e5fb-bd75-4ec5-b41d-09392edb7af7",
   "metadata": {},
   "outputs": [],
   "source": [
    "device_cols = [\n",
    "    'device_browser', 'device_brand', 'device_model',\n",
    "    'device_platform', 'device_os'\n",
    "]\n",
    "\n",
    "browser_counts = df_user_params['device_browser'].value_counts()\n",
    "popularity_rank = {\n",
    "    browser: rank+1\n",
    "    for rank, browser in enumerate(browser_counts.index)\n",
    "}\n",
    "\n",
    "dupe_counts = (\n",
    "    df_user_params\n",
    "    .groupby(['id_user', 'timestamp_reg'])\n",
    "    .size()\n",
    "    .reset_index(name='n')\n",
    ")\n",
    "dupe_keys = dupe_counts[dupe_counts['n'] > 1][['id_user','timestamp_reg']]\n",
    "\n",
    "df_dupes = df_user_params.merge(dupe_keys, on=['id_user','timestamp_reg'], how='inner')\n",
    "\n",
    "df_dupes['completeness'] = df_dupes[device_cols].notna().sum(axis=1)\n",
    "\n",
    "priority_map = {'desktop': 0, 'tablet': 1, 'mobile': 2}\n",
    "df_dupes['platform_priority'] = df_dupes['device_platform'].map(priority_map)\n",
    "\n",
    "df_dupes['browser_rank'] = df_dupes['device_browser'].map(popularity_rank)\n",
    "\n",
    "\n",
    "df_sorted = df_dupes.sort_values(\n",
    "    ['id_user','timestamp_reg','completeness','platform_priority','browser_rank'],\n",
    "    ascending=[True, True, False, True, True]\n",
    ")\n",
    "\n",
    "idx_best = (\n",
    "    df_sorted\n",
    "    .groupby(['id_user','timestamp_reg'])\n",
    "    .head(1)\n",
    "    .index\n",
    ")\n",
    "\n",
    "df_best = df_sorted.loc[idx_best].drop(\n",
    "    columns=['completeness','platform_priority','browser_rank']\n",
    ")"
   ]
  },
  {
   "cell_type": "markdown",
   "id": "ecc3449b-639e-4c84-b22f-903590875409",
   "metadata": {},
   "source": [
    "Algorithm to handle duplicated user ids:\n",
    "1. For each row, count how many of the five device fields (browser, brand, model, platform, os) are non-null\n",
    "2. Rank platforms so that desktop < tablet < mobile\n",
    "3. Rank browsers by popularity"
   ]
  },
  {
   "cell_type": "code",
   "execution_count": 12,
   "id": "b2814847-74ac-49fc-9a0f-a818a5afb916",
   "metadata": {},
   "outputs": [],
   "source": [
    "dupe_keys = set(\n",
    "    df_best\n",
    "    .apply(lambda r: (r['id_user'], r['timestamp_reg']), axis=1)\n",
    ")\n",
    "\n",
    "mask_keep = df_user_params.apply(\n",
    "    lambda r: (r['id_user'], r['timestamp_reg']) not in dupe_keys,\n",
    "    axis=1\n",
    ")\n",
    "df_rest = df_user_params[mask_keep]\n",
    "\n",
    "df_user_params = pd.concat([df_rest, df_best], ignore_index=True)"
   ]
  },
  {
   "cell_type": "code",
   "execution_count": 13,
   "id": "2bbda0c9-aba1-4ac1-afaf-d5bfe7dfc05d",
   "metadata": {},
   "outputs": [],
   "source": [
    "df_user_params = df_user_params.reset_index(drop=True)"
   ]
  },
  {
   "cell_type": "code",
   "execution_count": null,
   "id": "66fd990c-bc6a-42f4-a4d6-7a95d816ec70",
   "metadata": {},
   "outputs": [],
   "source": []
  },
  {
   "cell_type": "code",
   "execution_count": 14,
   "id": "c38c8167-665b-455d-84df-2d78dcdaa808",
   "metadata": {},
   "outputs": [
    {
     "name": "stdout",
     "output_type": "stream",
     "text": [
      "USER PARAMS SHAPE: (1614200, 13)\n",
      "USER ACTIONS SHAPE: (6456809, 8)\n",
      "\n",
      "USER PARAMS DTYPES:\n",
      "id_user               int64\n",
      "timestamp_reg        object\n",
      "age                   int64\n",
      "traffic_type_id       int64\n",
      "traffic_group_id      int64\n",
      "gender               object\n",
      "country              object\n",
      "device_browser       object\n",
      "device_brand         object\n",
      "device_model         object\n",
      "device_platform      object\n",
      "device_os            object\n",
      "revenue_7d          float64\n",
      "dtype: object\n",
      "\n",
      "USER ACTIONS DTYPES:\n",
      "id_user                       int64\n",
      "timestamp_interval_start     object\n",
      "timestamp_interval_end       object\n",
      "sum_payments                float64\n",
      "cnt_payments                  int64\n",
      "sum_credits_spend             int64\n",
      "cnt_returns                   int64\n",
      "cnt_visit_other_users         int64\n",
      "dtype: object\n"
     ]
    }
   ],
   "source": [
    "print(\"USER PARAMS SHAPE:\", df_user_params.shape)\n",
    "print(\"USER ACTIONS SHAPE:\", df_user_actions.shape)\n",
    "print(\"\\nUSER PARAMS DTYPES:\")\n",
    "print(df_user_params.dtypes)\n",
    "print(\"\\nUSER ACTIONS DTYPES:\")\n",
    "print(df_user_actions.dtypes)"
   ]
  },
  {
   "cell_type": "code",
   "execution_count": 15,
   "id": "0d883fae-8fe1-48f6-b8f4-572e9c873009",
   "metadata": {},
   "outputs": [
    {
     "name": "stdout",
     "output_type": "stream",
     "text": [
      "\n",
      "MISSING VALUES - USER PARAMS:\n",
      "country              3790\n",
      "device_browser       6861\n",
      "device_brand       248037\n",
      "device_model       167552\n",
      "device_platform      6887\n",
      "device_os            6861\n",
      "dtype: int64\n",
      "\n",
      "MISSING VALUES - USER ACTIONS:\n",
      "Series([], dtype: int64)\n"
     ]
    }
   ],
   "source": [
    "print(\"\\nMISSING VALUES - USER PARAMS:\")\n",
    "print(df_user_params.isnull().sum()[df_user_params.isnull().sum() > 0])\n",
    "print(\"\\nMISSING VALUES - USER ACTIONS:\")\n",
    "print(df_user_actions.isnull().sum()[df_user_actions.isnull().sum() > 0])"
   ]
  },
  {
   "cell_type": "code",
   "execution_count": 16,
   "id": "b0add020-e163-4c5b-b882-49c6de77e25c",
   "metadata": {},
   "outputs": [
    {
     "name": "stdout",
     "output_type": "stream",
     "text": [
      "USERS IN ACTIONS BUT NOT IN PARAMS: 0\n",
      "USERS IN PARAMS BUT NOT IN ACTIONS: 0\n",
      "COMMON USERS: 1614200\n"
     ]
    }
   ],
   "source": [
    "users_params = set(df_user_params['id_user'])\n",
    "users_actions = set(df_user_actions['id_user'])\n",
    "print(\"USERS IN ACTIONS BUT NOT IN PARAMS:\", len(users_actions - users_params))\n",
    "print(\"USERS IN PARAMS BUT NOT IN ACTIONS:\", len(users_params - users_actions))\n",
    "print(\"COMMON USERS:\", len(users_params & users_actions))"
   ]
  },
  {
   "cell_type": "markdown",
   "id": "3754be46-c47a-4e99-b0fc-3a064cb3c042",
   "metadata": {},
   "source": [
    "## Handle missing values"
   ]
  },
  {
   "cell_type": "code",
   "execution_count": null,
   "id": "3768e650-139b-442c-97de-32c0a4f90321",
   "metadata": {},
   "outputs": [],
   "source": [
    "df_user_params[df_user_params.country.isnull()]"
   ]
  },
  {
   "cell_type": "code",
   "execution_count": null,
   "id": "edbf7475-1537-4014-afb6-30764a72b7b3",
   "metadata": {},
   "outputs": [],
   "source": [
    "df_user_params.country.value_counts()"
   ]
  },
  {
   "cell_type": "markdown",
   "id": "5e7715b4-03a4-47e1-9f59-8d8119f3ee27",
   "metadata": {},
   "source": [
    "Replace nan country with default value. Or in case using lightgbm don't touch the nan values as the model is able to handle them."
   ]
  },
  {
   "cell_type": "code",
   "execution_count": 21,
   "id": "0471c95c-3c1c-4db3-825e-956e75bc8039",
   "metadata": {},
   "outputs": [
    {
     "data": {
      "text/html": [
       "<div>\n",
       "<style scoped>\n",
       "    .dataframe tbody tr th:only-of-type {\n",
       "        vertical-align: middle;\n",
       "    }\n",
       "\n",
       "    .dataframe tbody tr th {\n",
       "        vertical-align: top;\n",
       "    }\n",
       "\n",
       "    .dataframe thead th {\n",
       "        text-align: right;\n",
       "    }\n",
       "</style>\n",
       "<table border=\"1\" class=\"dataframe\">\n",
       "  <thead>\n",
       "    <tr style=\"text-align: right;\">\n",
       "      <th></th>\n",
       "      <th>id_user</th>\n",
       "      <th>timestamp_reg</th>\n",
       "      <th>age</th>\n",
       "      <th>traffic_type_id</th>\n",
       "      <th>traffic_group_id</th>\n",
       "      <th>gender</th>\n",
       "      <th>country</th>\n",
       "      <th>device_browser</th>\n",
       "      <th>device_brand</th>\n",
       "      <th>device_model</th>\n",
       "      <th>device_platform</th>\n",
       "      <th>device_os</th>\n",
       "      <th>revenue_7d</th>\n",
       "    </tr>\n",
       "  </thead>\n",
       "  <tbody>\n",
       "    <tr>\n",
       "      <th>14</th>\n",
       "      <td>46</td>\n",
       "      <td>2024-09-07 13:41:45.585736+00:00</td>\n",
       "      <td>53</td>\n",
       "      <td>2</td>\n",
       "      <td>3</td>\n",
       "      <td>male</td>\n",
       "      <td>GR</td>\n",
       "      <td>NaN</td>\n",
       "      <td>NaN</td>\n",
       "      <td>NaN</td>\n",
       "      <td>NaN</td>\n",
       "      <td>NaN</td>\n",
       "      <td>0.00</td>\n",
       "    </tr>\n",
       "    <tr>\n",
       "      <th>29</th>\n",
       "      <td>112</td>\n",
       "      <td>2024-10-01 23:52:06.130475+00:00</td>\n",
       "      <td>43</td>\n",
       "      <td>1</td>\n",
       "      <td>1</td>\n",
       "      <td>male</td>\n",
       "      <td>GB</td>\n",
       "      <td>NaN</td>\n",
       "      <td>NaN</td>\n",
       "      <td>NaN</td>\n",
       "      <td>NaN</td>\n",
       "      <td>NaN</td>\n",
       "      <td>0.00</td>\n",
       "    </tr>\n",
       "    <tr>\n",
       "      <th>30</th>\n",
       "      <td>116</td>\n",
       "      <td>2024-10-02 14:17:07.836844+00:00</td>\n",
       "      <td>73</td>\n",
       "      <td>2</td>\n",
       "      <td>6</td>\n",
       "      <td>male</td>\n",
       "      <td>US</td>\n",
       "      <td>NaN</td>\n",
       "      <td>NaN</td>\n",
       "      <td>NaN</td>\n",
       "      <td>NaN</td>\n",
       "      <td>NaN</td>\n",
       "      <td>0.00</td>\n",
       "    </tr>\n",
       "    <tr>\n",
       "      <th>37</th>\n",
       "      <td>144</td>\n",
       "      <td>2024-10-13 00:50:29.631281+00:00</td>\n",
       "      <td>43</td>\n",
       "      <td>1</td>\n",
       "      <td>1</td>\n",
       "      <td>male</td>\n",
       "      <td>US</td>\n",
       "      <td>NaN</td>\n",
       "      <td>NaN</td>\n",
       "      <td>NaN</td>\n",
       "      <td>NaN</td>\n",
       "      <td>NaN</td>\n",
       "      <td>0.00</td>\n",
       "    </tr>\n",
       "    <tr>\n",
       "      <th>45</th>\n",
       "      <td>179</td>\n",
       "      <td>2024-08-13 07:21:19.350232+00:00</td>\n",
       "      <td>36</td>\n",
       "      <td>3</td>\n",
       "      <td>4</td>\n",
       "      <td>male</td>\n",
       "      <td>NZ</td>\n",
       "      <td>NaN</td>\n",
       "      <td>NaN</td>\n",
       "      <td>NaN</td>\n",
       "      <td>NaN</td>\n",
       "      <td>NaN</td>\n",
       "      <td>0.00</td>\n",
       "    </tr>\n",
       "    <tr>\n",
       "      <th>...</th>\n",
       "      <td>...</td>\n",
       "      <td>...</td>\n",
       "      <td>...</td>\n",
       "      <td>...</td>\n",
       "      <td>...</td>\n",
       "      <td>...</td>\n",
       "      <td>...</td>\n",
       "      <td>...</td>\n",
       "      <td>...</td>\n",
       "      <td>...</td>\n",
       "      <td>...</td>\n",
       "      <td>...</td>\n",
       "      <td>...</td>\n",
       "    </tr>\n",
       "    <tr>\n",
       "      <th>53242</th>\n",
       "      <td>177512</td>\n",
       "      <td>2024-11-16 13:35:51.201385+00:00</td>\n",
       "      <td>39</td>\n",
       "      <td>3</td>\n",
       "      <td>4</td>\n",
       "      <td>male</td>\n",
       "      <td>US</td>\n",
       "      <td>NaN</td>\n",
       "      <td>NaN</td>\n",
       "      <td>NaN</td>\n",
       "      <td>NaN</td>\n",
       "      <td>NaN</td>\n",
       "      <td>0.00</td>\n",
       "    </tr>\n",
       "    <tr>\n",
       "      <th>53250</th>\n",
       "      <td>177534</td>\n",
       "      <td>2024-08-03 05:16:23.928850+00:00</td>\n",
       "      <td>53</td>\n",
       "      <td>1</td>\n",
       "      <td>5</td>\n",
       "      <td>male</td>\n",
       "      <td>US</td>\n",
       "      <td>NaN</td>\n",
       "      <td>NaN</td>\n",
       "      <td>NaN</td>\n",
       "      <td>NaN</td>\n",
       "      <td>NaN</td>\n",
       "      <td>0.00</td>\n",
       "    </tr>\n",
       "    <tr>\n",
       "      <th>53272</th>\n",
       "      <td>177600</td>\n",
       "      <td>2024-11-07 05:53:27.115764+00:00</td>\n",
       "      <td>18</td>\n",
       "      <td>3</td>\n",
       "      <td>4</td>\n",
       "      <td>male</td>\n",
       "      <td>US</td>\n",
       "      <td>NaN</td>\n",
       "      <td>NaN</td>\n",
       "      <td>NaN</td>\n",
       "      <td>NaN</td>\n",
       "      <td>NaN</td>\n",
       "      <td>74.96</td>\n",
       "    </tr>\n",
       "    <tr>\n",
       "      <th>53288</th>\n",
       "      <td>177669</td>\n",
       "      <td>2024-09-23 01:02:17.906998+00:00</td>\n",
       "      <td>53</td>\n",
       "      <td>2</td>\n",
       "      <td>6</td>\n",
       "      <td>male</td>\n",
       "      <td>ES</td>\n",
       "      <td>NaN</td>\n",
       "      <td>NaN</td>\n",
       "      <td>NaN</td>\n",
       "      <td>NaN</td>\n",
       "      <td>NaN</td>\n",
       "      <td>0.00</td>\n",
       "    </tr>\n",
       "    <tr>\n",
       "      <th>53312</th>\n",
       "      <td>177765</td>\n",
       "      <td>2024-08-24 03:37:43.572624+00:00</td>\n",
       "      <td>43</td>\n",
       "      <td>2</td>\n",
       "      <td>3</td>\n",
       "      <td>female</td>\n",
       "      <td>HU</td>\n",
       "      <td>NaN</td>\n",
       "      <td>NaN</td>\n",
       "      <td>NaN</td>\n",
       "      <td>NaN</td>\n",
       "      <td>NaN</td>\n",
       "      <td>0.00</td>\n",
       "    </tr>\n",
       "  </tbody>\n",
       "</table>\n",
       "<p>6861 rows × 13 columns</p>\n",
       "</div>"
      ],
      "text/plain": [
       "       id_user                     timestamp_reg  age  traffic_type_id  \\\n",
       "14          46  2024-09-07 13:41:45.585736+00:00   53                2   \n",
       "29         112  2024-10-01 23:52:06.130475+00:00   43                1   \n",
       "30         116  2024-10-02 14:17:07.836844+00:00   73                2   \n",
       "37         144  2024-10-13 00:50:29.631281+00:00   43                1   \n",
       "45         179  2024-08-13 07:21:19.350232+00:00   36                3   \n",
       "...        ...                               ...  ...              ...   \n",
       "53242   177512  2024-11-16 13:35:51.201385+00:00   39                3   \n",
       "53250   177534  2024-08-03 05:16:23.928850+00:00   53                1   \n",
       "53272   177600  2024-11-07 05:53:27.115764+00:00   18                3   \n",
       "53288   177669  2024-09-23 01:02:17.906998+00:00   53                2   \n",
       "53312   177765  2024-08-24 03:37:43.572624+00:00   43                2   \n",
       "\n",
       "       traffic_group_id  gender country device_browser device_brand  \\\n",
       "14                    3    male      GR            NaN          NaN   \n",
       "29                    1    male      GB            NaN          NaN   \n",
       "30                    6    male      US            NaN          NaN   \n",
       "37                    1    male      US            NaN          NaN   \n",
       "45                    4    male      NZ            NaN          NaN   \n",
       "...                 ...     ...     ...            ...          ...   \n",
       "53242                 4    male      US            NaN          NaN   \n",
       "53250                 5    male      US            NaN          NaN   \n",
       "53272                 4    male      US            NaN          NaN   \n",
       "53288                 6    male      ES            NaN          NaN   \n",
       "53312                 3  female      HU            NaN          NaN   \n",
       "\n",
       "      device_model device_platform device_os  revenue_7d  \n",
       "14             NaN             NaN       NaN        0.00  \n",
       "29             NaN             NaN       NaN        0.00  \n",
       "30             NaN             NaN       NaN        0.00  \n",
       "37             NaN             NaN       NaN        0.00  \n",
       "45             NaN             NaN       NaN        0.00  \n",
       "...            ...             ...       ...         ...  \n",
       "53242          NaN             NaN       NaN        0.00  \n",
       "53250          NaN             NaN       NaN        0.00  \n",
       "53272          NaN             NaN       NaN       74.96  \n",
       "53288          NaN             NaN       NaN        0.00  \n",
       "53312          NaN             NaN       NaN        0.00  \n",
       "\n",
       "[6861 rows x 13 columns]"
      ]
     },
     "execution_count": 21,
     "metadata": {},
     "output_type": "execute_result"
    }
   ],
   "source": [
    "df_user_params[df_user_params.device_browser.isnull()]"
   ]
  },
  {
   "cell_type": "code",
   "execution_count": 17,
   "id": "f19f0675-8e03-47ff-baa9-fcf442e3c14e",
   "metadata": {},
   "outputs": [
    {
     "name": "stdout",
     "output_type": "stream",
     "text": [
      "all_other_null\n",
      "True    6861\n",
      "Name: count, dtype: int64\n"
     ]
    },
    {
     "name": "stderr",
     "output_type": "stream",
     "text": [
      "/var/tmp/ipykernel_3476167/3266175298.py:4: SettingWithCopyWarning: \n",
      "A value is trying to be set on a copy of a slice from a DataFrame.\n",
      "Try using .loc[row_indexer,col_indexer] = value instead\n",
      "\n",
      "See the caveats in the documentation: https://pandas.pydata.org/pandas-docs/stable/user_guide/indexing.html#returning-a-view-versus-a-copy\n",
      "  df_null['all_other_null'] = df_null[other_device_cols].isna().all(axis=1)\n"
     ]
    }
   ],
   "source": [
    "df_null = df_user_params[df_user_params['device_browser'].isna()]\n",
    "\n",
    "other_device_cols = ['device_brand','device_model','device_platform','device_os']\n",
    "df_null['all_other_null'] = df_null[other_device_cols].isna().all(axis=1)\n",
    "\n",
    "print(df_null['all_other_null'].value_counts())"
   ]
  },
  {
   "cell_type": "markdown",
   "id": "57195562-3a4b-4012-8c8d-1a6bfc1f8104",
   "metadata": {},
   "source": [
    "If device_browser is blank, then all other device columns are empty for those entries?"
   ]
  },
  {
   "cell_type": "code",
   "execution_count": 18,
   "id": "9fb212ca-a49c-4fbe-8e77-4ae745a4fce9",
   "metadata": {},
   "outputs": [
    {
     "data": {
      "text/html": [
       "<div>\n",
       "<style scoped>\n",
       "    .dataframe tbody tr th:only-of-type {\n",
       "        vertical-align: middle;\n",
       "    }\n",
       "\n",
       "    .dataframe tbody tr th {\n",
       "        vertical-align: top;\n",
       "    }\n",
       "\n",
       "    .dataframe thead th {\n",
       "        text-align: right;\n",
       "    }\n",
       "</style>\n",
       "<table border=\"1\" class=\"dataframe\">\n",
       "  <thead>\n",
       "    <tr style=\"text-align: right;\">\n",
       "      <th></th>\n",
       "      <th>id_user</th>\n",
       "      <th>timestamp_reg</th>\n",
       "      <th>age</th>\n",
       "      <th>traffic_type_id</th>\n",
       "      <th>traffic_group_id</th>\n",
       "      <th>gender</th>\n",
       "      <th>country</th>\n",
       "      <th>device_browser</th>\n",
       "      <th>device_brand</th>\n",
       "      <th>device_model</th>\n",
       "      <th>device_platform</th>\n",
       "      <th>device_os</th>\n",
       "      <th>revenue_7d</th>\n",
       "    </tr>\n",
       "  </thead>\n",
       "  <tbody>\n",
       "    <tr>\n",
       "      <th>4</th>\n",
       "      <td>19</td>\n",
       "      <td>2024-10-18 00:47:00.576424+00:00</td>\n",
       "      <td>73</td>\n",
       "      <td>2</td>\n",
       "      <td>8</td>\n",
       "      <td>male</td>\n",
       "      <td>US</td>\n",
       "      <td>Firefox Mobile</td>\n",
       "      <td>NaN</td>\n",
       "      <td>NaN</td>\n",
       "      <td>mobile</td>\n",
       "      <td>Android</td>\n",
       "      <td>0.0</td>\n",
       "    </tr>\n",
       "    <tr>\n",
       "      <th>9</th>\n",
       "      <td>35</td>\n",
       "      <td>2024-10-07 04:14:23.954938+00:00</td>\n",
       "      <td>63</td>\n",
       "      <td>2</td>\n",
       "      <td>6</td>\n",
       "      <td>male</td>\n",
       "      <td>US</td>\n",
       "      <td>Instabridge</td>\n",
       "      <td>NaN</td>\n",
       "      <td>NaN</td>\n",
       "      <td>mobile</td>\n",
       "      <td>Android</td>\n",
       "      <td>0.0</td>\n",
       "    </tr>\n",
       "    <tr>\n",
       "      <th>10</th>\n",
       "      <td>39</td>\n",
       "      <td>2024-09-07 03:45:13.141443+00:00</td>\n",
       "      <td>63</td>\n",
       "      <td>2</td>\n",
       "      <td>2</td>\n",
       "      <td>male</td>\n",
       "      <td>US</td>\n",
       "      <td>Firefox Mobile</td>\n",
       "      <td>NaN</td>\n",
       "      <td>NaN</td>\n",
       "      <td>mobile</td>\n",
       "      <td>Android</td>\n",
       "      <td>0.0</td>\n",
       "    </tr>\n",
       "    <tr>\n",
       "      <th>14</th>\n",
       "      <td>46</td>\n",
       "      <td>2024-09-07 13:41:45.585736+00:00</td>\n",
       "      <td>53</td>\n",
       "      <td>2</td>\n",
       "      <td>3</td>\n",
       "      <td>male</td>\n",
       "      <td>GR</td>\n",
       "      <td>NaN</td>\n",
       "      <td>NaN</td>\n",
       "      <td>NaN</td>\n",
       "      <td>NaN</td>\n",
       "      <td>NaN</td>\n",
       "      <td>0.0</td>\n",
       "    </tr>\n",
       "    <tr>\n",
       "      <th>19</th>\n",
       "      <td>73</td>\n",
       "      <td>2024-10-24 08:49:03.129424+00:00</td>\n",
       "      <td>33</td>\n",
       "      <td>3</td>\n",
       "      <td>4</td>\n",
       "      <td>male</td>\n",
       "      <td>CA</td>\n",
       "      <td>Firefox Mobile</td>\n",
       "      <td>NaN</td>\n",
       "      <td>NaN</td>\n",
       "      <td>mobile</td>\n",
       "      <td>Android</td>\n",
       "      <td>0.0</td>\n",
       "    </tr>\n",
       "    <tr>\n",
       "      <th>...</th>\n",
       "      <td>...</td>\n",
       "      <td>...</td>\n",
       "      <td>...</td>\n",
       "      <td>...</td>\n",
       "      <td>...</td>\n",
       "      <td>...</td>\n",
       "      <td>...</td>\n",
       "      <td>...</td>\n",
       "      <td>...</td>\n",
       "      <td>...</td>\n",
       "      <td>...</td>\n",
       "      <td>...</td>\n",
       "      <td>...</td>\n",
       "    </tr>\n",
       "    <tr>\n",
       "      <th>1614157</th>\n",
       "      <td>411934</td>\n",
       "      <td>2024-08-25 03:10:25.368430+00:00</td>\n",
       "      <td>53</td>\n",
       "      <td>2</td>\n",
       "      <td>6</td>\n",
       "      <td>male</td>\n",
       "      <td>US</td>\n",
       "      <td>Chrome</td>\n",
       "      <td>NaN</td>\n",
       "      <td>NaN</td>\n",
       "      <td>desktop</td>\n",
       "      <td>GNU/Linux</td>\n",
       "      <td>0.0</td>\n",
       "    </tr>\n",
       "    <tr>\n",
       "      <th>1614160</th>\n",
       "      <td>436753</td>\n",
       "      <td>2024-10-05 06:07:14.969768+00:00</td>\n",
       "      <td>43</td>\n",
       "      <td>1</td>\n",
       "      <td>1</td>\n",
       "      <td>male</td>\n",
       "      <td>AU</td>\n",
       "      <td>Chrome</td>\n",
       "      <td>NaN</td>\n",
       "      <td>Pixel 9 Pro Fold</td>\n",
       "      <td>tablet</td>\n",
       "      <td>Android</td>\n",
       "      <td>0.0</td>\n",
       "    </tr>\n",
       "    <tr>\n",
       "      <th>1614161</th>\n",
       "      <td>442486</td>\n",
       "      <td>2024-10-05 08:38:09.727376+00:00</td>\n",
       "      <td>43</td>\n",
       "      <td>1</td>\n",
       "      <td>1</td>\n",
       "      <td>male</td>\n",
       "      <td>AU</td>\n",
       "      <td>Chrome</td>\n",
       "      <td>NaN</td>\n",
       "      <td>Pixel 9 Pro Fold</td>\n",
       "      <td>tablet</td>\n",
       "      <td>Android</td>\n",
       "      <td>0.0</td>\n",
       "    </tr>\n",
       "    <tr>\n",
       "      <th>1614162</th>\n",
       "      <td>463741</td>\n",
       "      <td>2024-11-13 10:56:35.126132+00:00</td>\n",
       "      <td>23</td>\n",
       "      <td>2</td>\n",
       "      <td>6</td>\n",
       "      <td>male</td>\n",
       "      <td>GB</td>\n",
       "      <td>Chrome</td>\n",
       "      <td>NaN</td>\n",
       "      <td>NaN</td>\n",
       "      <td>desktop</td>\n",
       "      <td>GNU/Linux</td>\n",
       "      <td>0.0</td>\n",
       "    </tr>\n",
       "    <tr>\n",
       "      <th>1614187</th>\n",
       "      <td>2439849</td>\n",
       "      <td>2024-08-17 16:13:03.505356+00:00</td>\n",
       "      <td>53</td>\n",
       "      <td>1</td>\n",
       "      <td>1</td>\n",
       "      <td>male</td>\n",
       "      <td>US</td>\n",
       "      <td>Chrome Webview</td>\n",
       "      <td>NaN</td>\n",
       "      <td>ZG65 Pro</td>\n",
       "      <td>mobile</td>\n",
       "      <td>Android</td>\n",
       "      <td>0.0</td>\n",
       "    </tr>\n",
       "  </tbody>\n",
       "</table>\n",
       "<p>248037 rows × 13 columns</p>\n",
       "</div>"
      ],
      "text/plain": [
       "         id_user                     timestamp_reg  age  traffic_type_id  \\\n",
       "4             19  2024-10-18 00:47:00.576424+00:00   73                2   \n",
       "9             35  2024-10-07 04:14:23.954938+00:00   63                2   \n",
       "10            39  2024-09-07 03:45:13.141443+00:00   63                2   \n",
       "14            46  2024-09-07 13:41:45.585736+00:00   53                2   \n",
       "19            73  2024-10-24 08:49:03.129424+00:00   33                3   \n",
       "...          ...                               ...  ...              ...   \n",
       "1614157   411934  2024-08-25 03:10:25.368430+00:00   53                2   \n",
       "1614160   436753  2024-10-05 06:07:14.969768+00:00   43                1   \n",
       "1614161   442486  2024-10-05 08:38:09.727376+00:00   43                1   \n",
       "1614162   463741  2024-11-13 10:56:35.126132+00:00   23                2   \n",
       "1614187  2439849  2024-08-17 16:13:03.505356+00:00   53                1   \n",
       "\n",
       "         traffic_group_id gender country  device_browser device_brand  \\\n",
       "4                       8   male      US  Firefox Mobile          NaN   \n",
       "9                       6   male      US     Instabridge          NaN   \n",
       "10                      2   male      US  Firefox Mobile          NaN   \n",
       "14                      3   male      GR             NaN          NaN   \n",
       "19                      4   male      CA  Firefox Mobile          NaN   \n",
       "...                   ...    ...     ...             ...          ...   \n",
       "1614157                 6   male      US          Chrome          NaN   \n",
       "1614160                 1   male      AU          Chrome          NaN   \n",
       "1614161                 1   male      AU          Chrome          NaN   \n",
       "1614162                 6   male      GB          Chrome          NaN   \n",
       "1614187                 1   male      US  Chrome Webview          NaN   \n",
       "\n",
       "             device_model device_platform  device_os  revenue_7d  \n",
       "4                     NaN          mobile    Android         0.0  \n",
       "9                     NaN          mobile    Android         0.0  \n",
       "10                    NaN          mobile    Android         0.0  \n",
       "14                    NaN             NaN        NaN         0.0  \n",
       "19                    NaN          mobile    Android         0.0  \n",
       "...                   ...             ...        ...         ...  \n",
       "1614157               NaN         desktop  GNU/Linux         0.0  \n",
       "1614160  Pixel 9 Pro Fold          tablet    Android         0.0  \n",
       "1614161  Pixel 9 Pro Fold          tablet    Android         0.0  \n",
       "1614162               NaN         desktop  GNU/Linux         0.0  \n",
       "1614187          ZG65 Pro          mobile    Android         0.0  \n",
       "\n",
       "[248037 rows x 13 columns]"
      ]
     },
     "execution_count": 18,
     "metadata": {},
     "output_type": "execute_result"
    }
   ],
   "source": [
    "df_user_params[df_user_params.device_brand.isnull()]"
   ]
  },
  {
   "cell_type": "markdown",
   "id": "a0bb9cb0-8816-47fa-b7ce-8c36a6bfd9a1",
   "metadata": {},
   "source": [
    "Can be replaced or using the mdoel that can handle nans"
   ]
  },
  {
   "cell_type": "code",
   "execution_count": 19,
   "id": "123ac274-2b83-44db-a7bd-9b40329086d1",
   "metadata": {},
   "outputs": [
    {
     "data": {
      "text/html": [
       "<div>\n",
       "<style scoped>\n",
       "    .dataframe tbody tr th:only-of-type {\n",
       "        vertical-align: middle;\n",
       "    }\n",
       "\n",
       "    .dataframe tbody tr th {\n",
       "        vertical-align: top;\n",
       "    }\n",
       "\n",
       "    .dataframe thead th {\n",
       "        text-align: right;\n",
       "    }\n",
       "</style>\n",
       "<table border=\"1\" class=\"dataframe\">\n",
       "  <thead>\n",
       "    <tr style=\"text-align: right;\">\n",
       "      <th></th>\n",
       "      <th>id_user</th>\n",
       "      <th>timestamp_reg</th>\n",
       "      <th>age</th>\n",
       "      <th>traffic_type_id</th>\n",
       "      <th>traffic_group_id</th>\n",
       "      <th>gender</th>\n",
       "      <th>country</th>\n",
       "      <th>device_browser</th>\n",
       "      <th>device_brand</th>\n",
       "      <th>device_model</th>\n",
       "      <th>device_platform</th>\n",
       "      <th>device_os</th>\n",
       "      <th>revenue_7d</th>\n",
       "    </tr>\n",
       "  </thead>\n",
       "  <tbody>\n",
       "    <tr>\n",
       "      <th>4</th>\n",
       "      <td>19</td>\n",
       "      <td>2024-10-18 00:47:00.576424+00:00</td>\n",
       "      <td>73</td>\n",
       "      <td>2</td>\n",
       "      <td>8</td>\n",
       "      <td>male</td>\n",
       "      <td>US</td>\n",
       "      <td>Firefox Mobile</td>\n",
       "      <td>NaN</td>\n",
       "      <td>NaN</td>\n",
       "      <td>mobile</td>\n",
       "      <td>Android</td>\n",
       "      <td>0.0</td>\n",
       "    </tr>\n",
       "    <tr>\n",
       "      <th>9</th>\n",
       "      <td>35</td>\n",
       "      <td>2024-10-07 04:14:23.954938+00:00</td>\n",
       "      <td>63</td>\n",
       "      <td>2</td>\n",
       "      <td>6</td>\n",
       "      <td>male</td>\n",
       "      <td>US</td>\n",
       "      <td>Instabridge</td>\n",
       "      <td>NaN</td>\n",
       "      <td>NaN</td>\n",
       "      <td>mobile</td>\n",
       "      <td>Android</td>\n",
       "      <td>0.0</td>\n",
       "    </tr>\n",
       "    <tr>\n",
       "      <th>10</th>\n",
       "      <td>39</td>\n",
       "      <td>2024-09-07 03:45:13.141443+00:00</td>\n",
       "      <td>63</td>\n",
       "      <td>2</td>\n",
       "      <td>2</td>\n",
       "      <td>male</td>\n",
       "      <td>US</td>\n",
       "      <td>Firefox Mobile</td>\n",
       "      <td>NaN</td>\n",
       "      <td>NaN</td>\n",
       "      <td>mobile</td>\n",
       "      <td>Android</td>\n",
       "      <td>0.0</td>\n",
       "    </tr>\n",
       "    <tr>\n",
       "      <th>14</th>\n",
       "      <td>46</td>\n",
       "      <td>2024-09-07 13:41:45.585736+00:00</td>\n",
       "      <td>53</td>\n",
       "      <td>2</td>\n",
       "      <td>3</td>\n",
       "      <td>male</td>\n",
       "      <td>GR</td>\n",
       "      <td>NaN</td>\n",
       "      <td>NaN</td>\n",
       "      <td>NaN</td>\n",
       "      <td>NaN</td>\n",
       "      <td>NaN</td>\n",
       "      <td>0.0</td>\n",
       "    </tr>\n",
       "    <tr>\n",
       "      <th>19</th>\n",
       "      <td>73</td>\n",
       "      <td>2024-10-24 08:49:03.129424+00:00</td>\n",
       "      <td>33</td>\n",
       "      <td>3</td>\n",
       "      <td>4</td>\n",
       "      <td>male</td>\n",
       "      <td>CA</td>\n",
       "      <td>Firefox Mobile</td>\n",
       "      <td>NaN</td>\n",
       "      <td>NaN</td>\n",
       "      <td>mobile</td>\n",
       "      <td>Android</td>\n",
       "      <td>0.0</td>\n",
       "    </tr>\n",
       "    <tr>\n",
       "      <th>...</th>\n",
       "      <td>...</td>\n",
       "      <td>...</td>\n",
       "      <td>...</td>\n",
       "      <td>...</td>\n",
       "      <td>...</td>\n",
       "      <td>...</td>\n",
       "      <td>...</td>\n",
       "      <td>...</td>\n",
       "      <td>...</td>\n",
       "      <td>...</td>\n",
       "      <td>...</td>\n",
       "      <td>...</td>\n",
       "      <td>...</td>\n",
       "    </tr>\n",
       "    <tr>\n",
       "      <th>1614172</th>\n",
       "      <td>508635</td>\n",
       "      <td>2024-08-19 13:05:28.180567+00:00</td>\n",
       "      <td>73</td>\n",
       "      <td>1</td>\n",
       "      <td>1</td>\n",
       "      <td>male</td>\n",
       "      <td>US</td>\n",
       "      <td>Safari</td>\n",
       "      <td>Apple</td>\n",
       "      <td>NaN</td>\n",
       "      <td>desktop</td>\n",
       "      <td>Mac</td>\n",
       "      <td>0.0</td>\n",
       "    </tr>\n",
       "    <tr>\n",
       "      <th>1614173</th>\n",
       "      <td>511773</td>\n",
       "      <td>2024-09-23 20:50:30.819416+00:00</td>\n",
       "      <td>49</td>\n",
       "      <td>3</td>\n",
       "      <td>4</td>\n",
       "      <td>male</td>\n",
       "      <td>US</td>\n",
       "      <td>Safari</td>\n",
       "      <td>Apple</td>\n",
       "      <td>NaN</td>\n",
       "      <td>desktop</td>\n",
       "      <td>Mac</td>\n",
       "      <td>0.0</td>\n",
       "    </tr>\n",
       "    <tr>\n",
       "      <th>1614174</th>\n",
       "      <td>516691</td>\n",
       "      <td>2024-08-22 05:53:03.364640+00:00</td>\n",
       "      <td>30</td>\n",
       "      <td>3</td>\n",
       "      <td>4</td>\n",
       "      <td>male</td>\n",
       "      <td>US</td>\n",
       "      <td>Safari</td>\n",
       "      <td>Apple</td>\n",
       "      <td>NaN</td>\n",
       "      <td>desktop</td>\n",
       "      <td>Mac</td>\n",
       "      <td>0.0</td>\n",
       "    </tr>\n",
       "    <tr>\n",
       "      <th>1614175</th>\n",
       "      <td>517933</td>\n",
       "      <td>2024-09-05 10:42:40.950603+00:00</td>\n",
       "      <td>49</td>\n",
       "      <td>3</td>\n",
       "      <td>4</td>\n",
       "      <td>male</td>\n",
       "      <td>US</td>\n",
       "      <td>Safari</td>\n",
       "      <td>Apple</td>\n",
       "      <td>NaN</td>\n",
       "      <td>desktop</td>\n",
       "      <td>Mac</td>\n",
       "      <td>0.0</td>\n",
       "    </tr>\n",
       "    <tr>\n",
       "      <th>1614177</th>\n",
       "      <td>518306</td>\n",
       "      <td>2024-09-09 03:39:54.067737+00:00</td>\n",
       "      <td>43</td>\n",
       "      <td>2</td>\n",
       "      <td>3</td>\n",
       "      <td>male</td>\n",
       "      <td>US</td>\n",
       "      <td>Safari</td>\n",
       "      <td>Apple</td>\n",
       "      <td>NaN</td>\n",
       "      <td>desktop</td>\n",
       "      <td>Mac</td>\n",
       "      <td>0.0</td>\n",
       "    </tr>\n",
       "  </tbody>\n",
       "</table>\n",
       "<p>167552 rows × 13 columns</p>\n",
       "</div>"
      ],
      "text/plain": [
       "         id_user                     timestamp_reg  age  traffic_type_id  \\\n",
       "4             19  2024-10-18 00:47:00.576424+00:00   73                2   \n",
       "9             35  2024-10-07 04:14:23.954938+00:00   63                2   \n",
       "10            39  2024-09-07 03:45:13.141443+00:00   63                2   \n",
       "14            46  2024-09-07 13:41:45.585736+00:00   53                2   \n",
       "19            73  2024-10-24 08:49:03.129424+00:00   33                3   \n",
       "...          ...                               ...  ...              ...   \n",
       "1614172   508635  2024-08-19 13:05:28.180567+00:00   73                1   \n",
       "1614173   511773  2024-09-23 20:50:30.819416+00:00   49                3   \n",
       "1614174   516691  2024-08-22 05:53:03.364640+00:00   30                3   \n",
       "1614175   517933  2024-09-05 10:42:40.950603+00:00   49                3   \n",
       "1614177   518306  2024-09-09 03:39:54.067737+00:00   43                2   \n",
       "\n",
       "         traffic_group_id gender country  device_browser device_brand  \\\n",
       "4                       8   male      US  Firefox Mobile          NaN   \n",
       "9                       6   male      US     Instabridge          NaN   \n",
       "10                      2   male      US  Firefox Mobile          NaN   \n",
       "14                      3   male      GR             NaN          NaN   \n",
       "19                      4   male      CA  Firefox Mobile          NaN   \n",
       "...                   ...    ...     ...             ...          ...   \n",
       "1614172                 1   male      US          Safari        Apple   \n",
       "1614173                 4   male      US          Safari        Apple   \n",
       "1614174                 4   male      US          Safari        Apple   \n",
       "1614175                 4   male      US          Safari        Apple   \n",
       "1614177                 3   male      US          Safari        Apple   \n",
       "\n",
       "        device_model device_platform device_os  revenue_7d  \n",
       "4                NaN          mobile   Android         0.0  \n",
       "9                NaN          mobile   Android         0.0  \n",
       "10               NaN          mobile   Android         0.0  \n",
       "14               NaN             NaN       NaN         0.0  \n",
       "19               NaN          mobile   Android         0.0  \n",
       "...              ...             ...       ...         ...  \n",
       "1614172          NaN         desktop       Mac         0.0  \n",
       "1614173          NaN         desktop       Mac         0.0  \n",
       "1614174          NaN         desktop       Mac         0.0  \n",
       "1614175          NaN         desktop       Mac         0.0  \n",
       "1614177          NaN         desktop       Mac         0.0  \n",
       "\n",
       "[167552 rows x 13 columns]"
      ]
     },
     "execution_count": 19,
     "metadata": {},
     "output_type": "execute_result"
    }
   ],
   "source": [
    "df_user_params[df_user_params.device_model.isnull()]"
   ]
  },
  {
   "cell_type": "markdown",
   "id": "564ed323-3067-436a-b1d7-2c8110bcc59d",
   "metadata": {},
   "source": [
    "Can be replaced or using the model that can handle nans"
   ]
  },
  {
   "cell_type": "code",
   "execution_count": 20,
   "id": "ca6ad52f-8710-4151-b02a-237ebf18e34a",
   "metadata": {},
   "outputs": [
    {
     "data": {
      "text/html": [
       "<div>\n",
       "<style scoped>\n",
       "    .dataframe tbody tr th:only-of-type {\n",
       "        vertical-align: middle;\n",
       "    }\n",
       "\n",
       "    .dataframe tbody tr th {\n",
       "        vertical-align: top;\n",
       "    }\n",
       "\n",
       "    .dataframe thead th {\n",
       "        text-align: right;\n",
       "    }\n",
       "</style>\n",
       "<table border=\"1\" class=\"dataframe\">\n",
       "  <thead>\n",
       "    <tr style=\"text-align: right;\">\n",
       "      <th></th>\n",
       "      <th>id_user</th>\n",
       "      <th>timestamp_reg</th>\n",
       "      <th>age</th>\n",
       "      <th>traffic_type_id</th>\n",
       "      <th>traffic_group_id</th>\n",
       "      <th>gender</th>\n",
       "      <th>country</th>\n",
       "      <th>device_browser</th>\n",
       "      <th>device_brand</th>\n",
       "      <th>device_model</th>\n",
       "      <th>device_platform</th>\n",
       "      <th>device_os</th>\n",
       "      <th>revenue_7d</th>\n",
       "    </tr>\n",
       "  </thead>\n",
       "  <tbody>\n",
       "    <tr>\n",
       "      <th>14</th>\n",
       "      <td>46</td>\n",
       "      <td>2024-09-07 13:41:45.585736+00:00</td>\n",
       "      <td>53</td>\n",
       "      <td>2</td>\n",
       "      <td>3</td>\n",
       "      <td>male</td>\n",
       "      <td>GR</td>\n",
       "      <td>NaN</td>\n",
       "      <td>NaN</td>\n",
       "      <td>NaN</td>\n",
       "      <td>NaN</td>\n",
       "      <td>NaN</td>\n",
       "      <td>0.00</td>\n",
       "    </tr>\n",
       "    <tr>\n",
       "      <th>29</th>\n",
       "      <td>112</td>\n",
       "      <td>2024-10-01 23:52:06.130475+00:00</td>\n",
       "      <td>43</td>\n",
       "      <td>1</td>\n",
       "      <td>1</td>\n",
       "      <td>male</td>\n",
       "      <td>GB</td>\n",
       "      <td>NaN</td>\n",
       "      <td>NaN</td>\n",
       "      <td>NaN</td>\n",
       "      <td>NaN</td>\n",
       "      <td>NaN</td>\n",
       "      <td>0.00</td>\n",
       "    </tr>\n",
       "    <tr>\n",
       "      <th>30</th>\n",
       "      <td>116</td>\n",
       "      <td>2024-10-02 14:17:07.836844+00:00</td>\n",
       "      <td>73</td>\n",
       "      <td>2</td>\n",
       "      <td>6</td>\n",
       "      <td>male</td>\n",
       "      <td>US</td>\n",
       "      <td>NaN</td>\n",
       "      <td>NaN</td>\n",
       "      <td>NaN</td>\n",
       "      <td>NaN</td>\n",
       "      <td>NaN</td>\n",
       "      <td>0.00</td>\n",
       "    </tr>\n",
       "    <tr>\n",
       "      <th>37</th>\n",
       "      <td>144</td>\n",
       "      <td>2024-10-13 00:50:29.631281+00:00</td>\n",
       "      <td>43</td>\n",
       "      <td>1</td>\n",
       "      <td>1</td>\n",
       "      <td>male</td>\n",
       "      <td>US</td>\n",
       "      <td>NaN</td>\n",
       "      <td>NaN</td>\n",
       "      <td>NaN</td>\n",
       "      <td>NaN</td>\n",
       "      <td>NaN</td>\n",
       "      <td>0.00</td>\n",
       "    </tr>\n",
       "    <tr>\n",
       "      <th>45</th>\n",
       "      <td>179</td>\n",
       "      <td>2024-08-13 07:21:19.350232+00:00</td>\n",
       "      <td>36</td>\n",
       "      <td>3</td>\n",
       "      <td>4</td>\n",
       "      <td>male</td>\n",
       "      <td>NZ</td>\n",
       "      <td>NaN</td>\n",
       "      <td>NaN</td>\n",
       "      <td>NaN</td>\n",
       "      <td>NaN</td>\n",
       "      <td>NaN</td>\n",
       "      <td>0.00</td>\n",
       "    </tr>\n",
       "    <tr>\n",
       "      <th>...</th>\n",
       "      <td>...</td>\n",
       "      <td>...</td>\n",
       "      <td>...</td>\n",
       "      <td>...</td>\n",
       "      <td>...</td>\n",
       "      <td>...</td>\n",
       "      <td>...</td>\n",
       "      <td>...</td>\n",
       "      <td>...</td>\n",
       "      <td>...</td>\n",
       "      <td>...</td>\n",
       "      <td>...</td>\n",
       "      <td>...</td>\n",
       "    </tr>\n",
       "    <tr>\n",
       "      <th>53250</th>\n",
       "      <td>177534</td>\n",
       "      <td>2024-08-03 05:16:23.928850+00:00</td>\n",
       "      <td>53</td>\n",
       "      <td>1</td>\n",
       "      <td>5</td>\n",
       "      <td>male</td>\n",
       "      <td>US</td>\n",
       "      <td>NaN</td>\n",
       "      <td>NaN</td>\n",
       "      <td>NaN</td>\n",
       "      <td>NaN</td>\n",
       "      <td>NaN</td>\n",
       "      <td>0.00</td>\n",
       "    </tr>\n",
       "    <tr>\n",
       "      <th>53272</th>\n",
       "      <td>177600</td>\n",
       "      <td>2024-11-07 05:53:27.115764+00:00</td>\n",
       "      <td>18</td>\n",
       "      <td>3</td>\n",
       "      <td>4</td>\n",
       "      <td>male</td>\n",
       "      <td>US</td>\n",
       "      <td>NaN</td>\n",
       "      <td>NaN</td>\n",
       "      <td>NaN</td>\n",
       "      <td>NaN</td>\n",
       "      <td>NaN</td>\n",
       "      <td>74.96</td>\n",
       "    </tr>\n",
       "    <tr>\n",
       "      <th>53288</th>\n",
       "      <td>177669</td>\n",
       "      <td>2024-09-23 01:02:17.906998+00:00</td>\n",
       "      <td>53</td>\n",
       "      <td>2</td>\n",
       "      <td>6</td>\n",
       "      <td>male</td>\n",
       "      <td>ES</td>\n",
       "      <td>NaN</td>\n",
       "      <td>NaN</td>\n",
       "      <td>NaN</td>\n",
       "      <td>NaN</td>\n",
       "      <td>NaN</td>\n",
       "      <td>0.00</td>\n",
       "    </tr>\n",
       "    <tr>\n",
       "      <th>53312</th>\n",
       "      <td>177765</td>\n",
       "      <td>2024-08-24 03:37:43.572624+00:00</td>\n",
       "      <td>43</td>\n",
       "      <td>2</td>\n",
       "      <td>3</td>\n",
       "      <td>female</td>\n",
       "      <td>HU</td>\n",
       "      <td>NaN</td>\n",
       "      <td>NaN</td>\n",
       "      <td>NaN</td>\n",
       "      <td>NaN</td>\n",
       "      <td>NaN</td>\n",
       "      <td>0.00</td>\n",
       "    </tr>\n",
       "    <tr>\n",
       "      <th>138122</th>\n",
       "      <td>461003</td>\n",
       "      <td>2024-09-27 04:41:11.106424+00:00</td>\n",
       "      <td>53</td>\n",
       "      <td>2</td>\n",
       "      <td>8</td>\n",
       "      <td>male</td>\n",
       "      <td>GB</td>\n",
       "      <td>Chrome</td>\n",
       "      <td>NaN</td>\n",
       "      <td>NaN</td>\n",
       "      <td>NaN</td>\n",
       "      <td>UNK</td>\n",
       "      <td>0.00</td>\n",
       "    </tr>\n",
       "  </tbody>\n",
       "</table>\n",
       "<p>6887 rows × 13 columns</p>\n",
       "</div>"
      ],
      "text/plain": [
       "        id_user                     timestamp_reg  age  traffic_type_id  \\\n",
       "14           46  2024-09-07 13:41:45.585736+00:00   53                2   \n",
       "29          112  2024-10-01 23:52:06.130475+00:00   43                1   \n",
       "30          116  2024-10-02 14:17:07.836844+00:00   73                2   \n",
       "37          144  2024-10-13 00:50:29.631281+00:00   43                1   \n",
       "45          179  2024-08-13 07:21:19.350232+00:00   36                3   \n",
       "...         ...                               ...  ...              ...   \n",
       "53250    177534  2024-08-03 05:16:23.928850+00:00   53                1   \n",
       "53272    177600  2024-11-07 05:53:27.115764+00:00   18                3   \n",
       "53288    177669  2024-09-23 01:02:17.906998+00:00   53                2   \n",
       "53312    177765  2024-08-24 03:37:43.572624+00:00   43                2   \n",
       "138122   461003  2024-09-27 04:41:11.106424+00:00   53                2   \n",
       "\n",
       "        traffic_group_id  gender country device_browser device_brand  \\\n",
       "14                     3    male      GR            NaN          NaN   \n",
       "29                     1    male      GB            NaN          NaN   \n",
       "30                     6    male      US            NaN          NaN   \n",
       "37                     1    male      US            NaN          NaN   \n",
       "45                     4    male      NZ            NaN          NaN   \n",
       "...                  ...     ...     ...            ...          ...   \n",
       "53250                  5    male      US            NaN          NaN   \n",
       "53272                  4    male      US            NaN          NaN   \n",
       "53288                  6    male      ES            NaN          NaN   \n",
       "53312                  3  female      HU            NaN          NaN   \n",
       "138122                 8    male      GB         Chrome          NaN   \n",
       "\n",
       "       device_model device_platform device_os  revenue_7d  \n",
       "14              NaN             NaN       NaN        0.00  \n",
       "29              NaN             NaN       NaN        0.00  \n",
       "30              NaN             NaN       NaN        0.00  \n",
       "37              NaN             NaN       NaN        0.00  \n",
       "45              NaN             NaN       NaN        0.00  \n",
       "...             ...             ...       ...         ...  \n",
       "53250           NaN             NaN       NaN        0.00  \n",
       "53272           NaN             NaN       NaN       74.96  \n",
       "53288           NaN             NaN       NaN        0.00  \n",
       "53312           NaN             NaN       NaN        0.00  \n",
       "138122          NaN             NaN       UNK        0.00  \n",
       "\n",
       "[6887 rows x 13 columns]"
      ]
     },
     "execution_count": 20,
     "metadata": {},
     "output_type": "execute_result"
    }
   ],
   "source": [
    "df_user_params[df_user_params.device_platform.isnull()]"
   ]
  },
  {
   "cell_type": "markdown",
   "id": "38498a46-49df-4e80-b11b-bc2c52492df8",
   "metadata": {},
   "source": [
    "df_user_params[df_user_params.device_os.isnull()]"
   ]
  },
  {
   "cell_type": "code",
   "execution_count": null,
   "id": "baaffd14-d266-41cc-9368-05fd24499fe7",
   "metadata": {},
   "outputs": [],
   "source": []
  },
  {
   "cell_type": "markdown",
   "id": "d9c0091f-0283-4620-a92d-5f1059c5dd20",
   "metadata": {},
   "source": [
    "### timestamp values"
   ]
  },
  {
   "cell_type": "markdown",
   "id": "633d356b-5098-4da0-96be-d944155d7432",
   "metadata": {},
   "source": [
    "Check for incorrect timestamp values."
   ]
  },
  {
   "cell_type": "code",
   "execution_count": 21,
   "id": "b9478bc4-b5af-4fe0-b761-eae3feda164f",
   "metadata": {},
   "outputs": [],
   "source": [
    "ts = pd.to_datetime(df_user_params['timestamp_reg'], errors='coerce', utc=True)"
   ]
  },
  {
   "cell_type": "code",
   "execution_count": 22,
   "id": "54b5f326-8f43-4f15-9d8b-983d33e7a5ca",
   "metadata": {},
   "outputs": [
    {
     "data": {
      "text/plain": [
       "Timestamp('2024-09-28 01:32:16.011076+0000', tz='UTC')"
      ]
     },
     "execution_count": 22,
     "metadata": {},
     "output_type": "execute_result"
    }
   ],
   "source": [
    "ts.iloc[0]"
   ]
  },
  {
   "cell_type": "code",
   "execution_count": 23,
   "id": "8b5babbc-333c-4d59-b5e6-948120c05902",
   "metadata": {},
   "outputs": [
    {
     "name": "stdout",
     "output_type": "stream",
     "text": [
      "Found 2 non-standard timestamps:\n",
      "['2024-11-07 03:35:37+00:00' '2024-10-23 20:08:18+00:00']\n"
     ]
    }
   ],
   "source": [
    "bad = df_user_params[\n",
    "    ts.isna() & df_user_params['timestamp_reg'].notna()\n",
    "]\n",
    "\n",
    "print(f\"Found {len(bad)} non-standard timestamps:\")\n",
    "print(bad['timestamp_reg'].unique()[:10])"
   ]
  },
  {
   "cell_type": "code",
   "execution_count": 24,
   "id": "33527103-f175-4cee-9c0c-fc22f03e1155",
   "metadata": {},
   "outputs": [],
   "source": [
    "def parse_mixed_timestamps(timestamp_series):\n",
    "    ts1 = pd.to_datetime(timestamp_series, format='%Y-%m-%d %H:%M:%S.%f%z', errors='coerce', utc=True)\n",
    "    \n",
    "    failed_mask = ts1.isna() & timestamp_series.notna()\n",
    "    ts2 = pd.to_datetime(timestamp_series[failed_mask], format='%Y-%m-%d %H:%M:%S%z', errors='coerce', utc=True)\n",
    "    \n",
    "    ts1[failed_mask] = ts2\n",
    "    return ts1\n",
    "\n",
    "df_user_params['timestamp_reg'] = parse_mixed_timestamps(df_user_params['timestamp_reg'])"
   ]
  },
  {
   "cell_type": "code",
   "execution_count": null,
   "id": "1667881f-8cbe-4cb2-a9af-1fd56d758852",
   "metadata": {},
   "outputs": [],
   "source": []
  },
  {
   "cell_type": "code",
   "execution_count": 25,
   "id": "1d60ec34-7973-4c28-a1d3-2d9bf8622f3d",
   "metadata": {},
   "outputs": [],
   "source": [
    "ts_start = pd.to_datetime(df_user_actions['timestamp_interval_start'], errors='coerce')\n",
    "ts_end = pd.to_datetime(df_user_actions['timestamp_interval_end'], errors='coerce')"
   ]
  },
  {
   "cell_type": "code",
   "execution_count": 26,
   "id": "5f43c400-9c72-46a5-88a0-71964101324a",
   "metadata": {},
   "outputs": [
    {
     "name": "stdout",
     "output_type": "stream",
     "text": [
      "Found 8 non-standard timestamps:\n",
      "['2024-11-07 03:35:37+00:00' '2024-11-07 09:35:37+00:00'\n",
      " '2024-11-07 15:35:37+00:00' '2024-11-07 21:35:37+00:00'\n",
      " '2024-10-23 20:08:18+00:00' '2024-10-24 02:08:18+00:00'\n",
      " '2024-10-24 08:08:18+00:00' '2024-10-24 14:08:18+00:00']\n"
     ]
    }
   ],
   "source": [
    "bad_start = df_user_actions[\n",
    "    ts_start.isna() & df_user_actions['timestamp_interval_start'].notna()\n",
    "]\n",
    "\n",
    "print(f\"Found {len(bad_start)} non-standard timestamps:\")\n",
    "print(bad_start['timestamp_interval_start'].unique()[:10])"
   ]
  },
  {
   "cell_type": "code",
   "execution_count": 27,
   "id": "cbd71ca0-74d0-42f1-9ea1-f26b72eaf3f2",
   "metadata": {},
   "outputs": [],
   "source": [
    "df_user_actions['timestamp_interval_start'] = parse_mixed_timestamps(df_user_actions['timestamp_interval_start'])\n",
    "df_user_actions['timestamp_interval_end'] = parse_mixed_timestamps(df_user_actions['timestamp_interval_end'])"
   ]
  },
  {
   "cell_type": "code",
   "execution_count": null,
   "id": "3a92a520-aea4-4d08-8b74-8a8681d1d3db",
   "metadata": {},
   "outputs": [],
   "source": []
  },
  {
   "cell_type": "markdown",
   "id": "d4e456b8-961f-48d2-9ddf-88e7d30d50d5",
   "metadata": {},
   "source": [
    "Check for invalid patterns in datetimes"
   ]
  },
  {
   "cell_type": "code",
   "execution_count": 28,
   "id": "63f65fc2-6ccf-4375-adf9-dc4c0015a11d",
   "metadata": {
    "scrolled": true
   },
   "outputs": [
    {
     "name": "stdout",
     "output_type": "stream",
     "text": [
      "\n",
      "INVALID TIME INTERVALS (start >= end): 0\n"
     ]
    }
   ],
   "source": [
    "print(\"\\nINVALID TIME INTERVALS (start >= end):\", \n",
    "     (df_user_actions['timestamp_interval_start'] >= df_user_actions['timestamp_interval_end']).sum())"
   ]
  },
  {
   "cell_type": "code",
   "execution_count": 29,
   "id": "3a1d9a72-7f26-471e-aeaf-9e1d004aac92",
   "metadata": {},
   "outputs": [
    {
     "name": "stdout",
     "output_type": "stream",
     "text": [
      "Users where registration > action start: 0\n",
      "Users where registration > action end: 0\n"
     ]
    }
   ],
   "source": [
    "merged_ts = df_user_actions.merge(\n",
    "    df_user_params[['id_user', 'timestamp_reg']], \n",
    "    on='id_user', \n",
    "    how='inner'\n",
    ")\n",
    "\n",
    "reg_after_start = (merged_ts['timestamp_reg'] > merged_ts['timestamp_interval_start']).sum()\n",
    "print(f\"Users where registration > action start: {reg_after_start}\")\n",
    "\n",
    "reg_after_end = (merged_ts['timestamp_reg'] > merged_ts['timestamp_interval_end']).sum()\n",
    "print(f\"Users where registration > action end: {reg_after_end}\")"
   ]
  },
  {
   "cell_type": "code",
   "execution_count": 30,
   "id": "910f8156-6f16-4ab5-8cf4-a2218520a4bc",
   "metadata": {},
   "outputs": [
    {
     "name": "stdout",
     "output_type": "stream",
     "text": [
      "\n",
      "Min days: 0\n",
      "Max days: 0\n"
     ]
    }
   ],
   "source": [
    "merged_ts['days_reg_to_action'] = (merged_ts['timestamp_interval_start'] - merged_ts['timestamp_reg']).dt.days\n",
    "\n",
    "print(f\"\\nMin days: {merged_ts['days_reg_to_action'].min()}\")\n",
    "print(f\"Max days: {merged_ts['days_reg_to_action'].max()}\")"
   ]
  },
  {
   "cell_type": "code",
   "execution_count": 31,
   "id": "e5c2159d-3b11-4a69-a9c4-d53befec2049",
   "metadata": {},
   "outputs": [
    {
     "data": {
      "image/png": "[encoded data removed]",
      "text/plain": [
       "<Figure size 1500x800 with 1 Axes>"
      ]
     },
     "metadata": {},
     "output_type": "display_data"
    }
   ],
   "source": [
    "daily_counts = (\n",
    "    df_user_params['timestamp_reg']\n",
    "      .dt.date\n",
    "      .value_counts()\n",
    "      .sort_index()\n",
    ")\n",
    "\n",
    "plt.figure(figsize=(15, 8))\n",
    "plt.plot(daily_counts.index, daily_counts.values, linewidth=2, color='#2E86AB', alpha=0.8)\n",
    "plt.fill_between(daily_counts.index, daily_counts.values, alpha=0.3, color='#2E86AB')\n",
    "\n",
    "plt.title('Daily User Registrations Over Time', fontsize=16, fontweight='bold', pad=20)\n",
    "plt.xlabel('Date', fontsize=12)\n",
    "plt.ylabel('Number of Registrations', fontsize=12)\n",
    "\n",
    "plt.xticks(rotation=45)\n",
    "plt.gca().xaxis.set_major_locator(plt.MaxNLocator(10))\n",
    "\n",
    "plt.grid(True, alpha=0.3, linestyle='--')\n",
    "plt.tight_layout()\n",
    "plt.show()"
   ]
  },
  {
   "cell_type": "code",
   "execution_count": null,
   "id": "db7ec540-9343-4293-a0cb-d1c005e6eb0a",
   "metadata": {},
   "outputs": [],
   "source": []
  },
  {
   "cell_type": "markdown",
   "id": "81b8144d-5b27-41ef-9f3d-177666601e5f",
   "metadata": {},
   "source": [
    "### Check for outliers"
   ]
  },
  {
   "cell_type": "code",
   "execution_count": 32,
   "id": "12c3fbc7-6982-489a-9e15-20efd32a40d1",
   "metadata": {},
   "outputs": [
    {
     "name": "stdout",
     "output_type": "stream",
     "text": [
      "\n",
      "AGE (<13 or >100): 22\n"
     ]
    }
   ],
   "source": [
    "print(\"\\nAGE (<13 or >100):\", ((df_user_params['age'] < 13) | (df_user_params['age'] > 100)).sum())"
   ]
  },
  {
   "cell_type": "code",
   "execution_count": 33,
   "id": "e87d87a9-1ca2-4141-963e-1dcc97f35bf5",
   "metadata": {},
   "outputs": [
    {
     "name": "stdout",
     "output_type": "stream",
     "text": [
      "Age 95: 682 users\n",
      "Age 96: 564 users\n",
      "Age 97: 549 users\n",
      "Age 98: 2048 users\n",
      "Age 99: 8 users\n",
      "Age 100: 14 users\n"
     ]
    }
   ],
   "source": [
    "for age in range(95, 101):\n",
    "   count = (df_user_params['age'] == age).sum()\n",
    "   print(f\"Age {age}: {count} users\")"
   ]
  },
  {
   "cell_type": "markdown",
   "id": "b7104c34-1356-4125-b652-954ddbccbc70",
   "metadata": {},
   "source": [
    "The thr is >98 to mark as invalid age."
   ]
  },
  {
   "cell_type": "code",
   "execution_count": 34,
   "id": "9c2397ea-a209-4535-ba18-5e66432cd881",
   "metadata": {
    "scrolled": true
   },
   "outputs": [
    {
     "data": {
      "text/html": [
       "<div>\n",
       "<style scoped>\n",
       "    .dataframe tbody tr th:only-of-type {\n",
       "        vertical-align: middle;\n",
       "    }\n",
       "\n",
       "    .dataframe tbody tr th {\n",
       "        vertical-align: top;\n",
       "    }\n",
       "\n",
       "    .dataframe thead th {\n",
       "        text-align: right;\n",
       "    }\n",
       "</style>\n",
       "<table border=\"1\" class=\"dataframe\">\n",
       "  <thead>\n",
       "    <tr style=\"text-align: right;\">\n",
       "      <th></th>\n",
       "      <th>id_user</th>\n",
       "      <th>timestamp_reg</th>\n",
       "      <th>age</th>\n",
       "      <th>traffic_type_id</th>\n",
       "      <th>traffic_group_id</th>\n",
       "      <th>gender</th>\n",
       "      <th>country</th>\n",
       "      <th>device_browser</th>\n",
       "      <th>device_brand</th>\n",
       "      <th>device_model</th>\n",
       "      <th>device_platform</th>\n",
       "      <th>device_os</th>\n",
       "      <th>revenue_7d</th>\n",
       "    </tr>\n",
       "  </thead>\n",
       "  <tbody>\n",
       "    <tr>\n",
       "      <th>18133</th>\n",
       "      <td>60905</td>\n",
       "      <td>2024-08-23 12:55:59.171020+00:00</td>\n",
       "      <td>0</td>\n",
       "      <td>3</td>\n",
       "      <td>4</td>\n",
       "      <td>male</td>\n",
       "      <td>US</td>\n",
       "      <td>NaN</td>\n",
       "      <td>NaN</td>\n",
       "      <td>NaN</td>\n",
       "      <td>NaN</td>\n",
       "      <td>NaN</td>\n",
       "      <td>0.0</td>\n",
       "    </tr>\n",
       "    <tr>\n",
       "      <th>63250</th>\n",
       "      <td>210602</td>\n",
       "      <td>2024-08-13 22:10:09.504020+00:00</td>\n",
       "      <td>0</td>\n",
       "      <td>2</td>\n",
       "      <td>9</td>\n",
       "      <td>male</td>\n",
       "      <td>US</td>\n",
       "      <td>Chrome</td>\n",
       "      <td>NaN</td>\n",
       "      <td>NaN</td>\n",
       "      <td>desktop</td>\n",
       "      <td>Windows</td>\n",
       "      <td>0.0</td>\n",
       "    </tr>\n",
       "    <tr>\n",
       "      <th>149641</th>\n",
       "      <td>499133</td>\n",
       "      <td>2024-08-24 12:40:32.100659+00:00</td>\n",
       "      <td>0</td>\n",
       "      <td>2</td>\n",
       "      <td>8</td>\n",
       "      <td>male</td>\n",
       "      <td>NaN</td>\n",
       "      <td>Safari</td>\n",
       "      <td>Apple</td>\n",
       "      <td>NaN</td>\n",
       "      <td>desktop</td>\n",
       "      <td>Mac</td>\n",
       "      <td>0.0</td>\n",
       "    </tr>\n",
       "    <tr>\n",
       "      <th>160760</th>\n",
       "      <td>536238</td>\n",
       "      <td>2024-11-04 12:07:35.105352+00:00</td>\n",
       "      <td>0</td>\n",
       "      <td>2</td>\n",
       "      <td>11</td>\n",
       "      <td>male</td>\n",
       "      <td>ZA</td>\n",
       "      <td>Firefox</td>\n",
       "      <td>NaN</td>\n",
       "      <td>NaN</td>\n",
       "      <td>desktop</td>\n",
       "      <td>Windows</td>\n",
       "      <td>0.0</td>\n",
       "    </tr>\n",
       "    <tr>\n",
       "      <th>481020</th>\n",
       "      <td>1606243</td>\n",
       "      <td>2024-11-19 01:46:29.926133+00:00</td>\n",
       "      <td>0</td>\n",
       "      <td>2</td>\n",
       "      <td>3</td>\n",
       "      <td>male</td>\n",
       "      <td>US</td>\n",
       "      <td>Facebook</td>\n",
       "      <td>Samsung</td>\n",
       "      <td>SM-S711U</td>\n",
       "      <td>mobile</td>\n",
       "      <td>Android</td>\n",
       "      <td>0.0</td>\n",
       "    </tr>\n",
       "    <tr>\n",
       "      <th>669544</th>\n",
       "      <td>2233605</td>\n",
       "      <td>2024-11-15 20:54:23.744659+00:00</td>\n",
       "      <td>0</td>\n",
       "      <td>2</td>\n",
       "      <td>6</td>\n",
       "      <td>male</td>\n",
       "      <td>CA</td>\n",
       "      <td>Chrome Mobile</td>\n",
       "      <td>Samsung</td>\n",
       "      <td>Galaxy S21 FE 5G</td>\n",
       "      <td>mobile</td>\n",
       "      <td>Android</td>\n",
       "      <td>0.0</td>\n",
       "    </tr>\n",
       "    <tr>\n",
       "      <th>935939</th>\n",
       "      <td>3122331</td>\n",
       "      <td>2024-08-14 03:00:27.367986+00:00</td>\n",
       "      <td>0</td>\n",
       "      <td>3</td>\n",
       "      <td>4</td>\n",
       "      <td>male</td>\n",
       "      <td>NaN</td>\n",
       "      <td>Chrome Mobile</td>\n",
       "      <td>Samsung</td>\n",
       "      <td>SM-S146VL</td>\n",
       "      <td>mobile</td>\n",
       "      <td>Android</td>\n",
       "      <td>0.0</td>\n",
       "    </tr>\n",
       "    <tr>\n",
       "      <th>953131</th>\n",
       "      <td>3179952</td>\n",
       "      <td>2024-10-24 06:00:39.143262+00:00</td>\n",
       "      <td>0</td>\n",
       "      <td>3</td>\n",
       "      <td>4</td>\n",
       "      <td>male</td>\n",
       "      <td>NaN</td>\n",
       "      <td>Chrome Mobile</td>\n",
       "      <td>Motorola</td>\n",
       "      <td>Moto G 5G</td>\n",
       "      <td>mobile</td>\n",
       "      <td>Android</td>\n",
       "      <td>0.0</td>\n",
       "    </tr>\n",
       "    <tr>\n",
       "      <th>1026094</th>\n",
       "      <td>3421905</td>\n",
       "      <td>2024-08-26 12:40:30.475240+00:00</td>\n",
       "      <td>0</td>\n",
       "      <td>1</td>\n",
       "      <td>7</td>\n",
       "      <td>male</td>\n",
       "      <td>NaN</td>\n",
       "      <td>Chrome Mobile</td>\n",
       "      <td>Samsung</td>\n",
       "      <td>Galaxy S23</td>\n",
       "      <td>mobile</td>\n",
       "      <td>Android</td>\n",
       "      <td>0.0</td>\n",
       "    </tr>\n",
       "    <tr>\n",
       "      <th>1060875</th>\n",
       "      <td>3538225</td>\n",
       "      <td>2024-11-14 05:43:02.225411+00:00</td>\n",
       "      <td>0</td>\n",
       "      <td>2</td>\n",
       "      <td>6</td>\n",
       "      <td>male</td>\n",
       "      <td>CA</td>\n",
       "      <td>Chrome Mobile</td>\n",
       "      <td>Samsung</td>\n",
       "      <td>Galaxy S21 FE 5G</td>\n",
       "      <td>mobile</td>\n",
       "      <td>Android</td>\n",
       "      <td>0.0</td>\n",
       "    </tr>\n",
       "    <tr>\n",
       "      <th>1066373</th>\n",
       "      <td>3556670</td>\n",
       "      <td>2024-09-01 10:03:58.403453+00:00</td>\n",
       "      <td>0</td>\n",
       "      <td>3</td>\n",
       "      <td>4</td>\n",
       "      <td>male</td>\n",
       "      <td>DE</td>\n",
       "      <td>Chrome Mobile</td>\n",
       "      <td>Motorola</td>\n",
       "      <td>Moto G54 5G</td>\n",
       "      <td>mobile</td>\n",
       "      <td>Android</td>\n",
       "      <td>0.0</td>\n",
       "    </tr>\n",
       "    <tr>\n",
       "      <th>1091587</th>\n",
       "      <td>3640374</td>\n",
       "      <td>2024-09-03 04:40:30.580903+00:00</td>\n",
       "      <td>0</td>\n",
       "      <td>2</td>\n",
       "      <td>2</td>\n",
       "      <td>male</td>\n",
       "      <td>NaN</td>\n",
       "      <td>Chrome Mobile</td>\n",
       "      <td>Motorola</td>\n",
       "      <td>Moto g play</td>\n",
       "      <td>mobile</td>\n",
       "      <td>Android</td>\n",
       "      <td>0.0</td>\n",
       "    </tr>\n",
       "    <tr>\n",
       "      <th>1360034</th>\n",
       "      <td>4534615</td>\n",
       "      <td>2024-09-16 14:58:29.782151+00:00</td>\n",
       "      <td>0</td>\n",
       "      <td>3</td>\n",
       "      <td>4</td>\n",
       "      <td>male</td>\n",
       "      <td>US</td>\n",
       "      <td>Mobile Safari</td>\n",
       "      <td>Apple</td>\n",
       "      <td>iPhone</td>\n",
       "      <td>mobile</td>\n",
       "      <td>iOS</td>\n",
       "      <td>0.0</td>\n",
       "    </tr>\n",
       "    <tr>\n",
       "      <th>1469289</th>\n",
       "      <td>4897431</td>\n",
       "      <td>2024-08-19 05:08:10.688904+00:00</td>\n",
       "      <td>0</td>\n",
       "      <td>1</td>\n",
       "      <td>1</td>\n",
       "      <td>female</td>\n",
       "      <td>PL</td>\n",
       "      <td>Chrome Webview</td>\n",
       "      <td>Xiaomi</td>\n",
       "      <td>Redmi Note 12S</td>\n",
       "      <td>mobile</td>\n",
       "      <td>Android</td>\n",
       "      <td>0.0</td>\n",
       "    </tr>\n",
       "    <tr>\n",
       "      <th>1576216</th>\n",
       "      <td>5253632</td>\n",
       "      <td>2024-08-17 03:40:30.840847+00:00</td>\n",
       "      <td>0</td>\n",
       "      <td>1</td>\n",
       "      <td>7</td>\n",
       "      <td>male</td>\n",
       "      <td>NaN</td>\n",
       "      <td>Chrome Mobile iOS</td>\n",
       "      <td>Apple</td>\n",
       "      <td>iPhone</td>\n",
       "      <td>mobile</td>\n",
       "      <td>iOS</td>\n",
       "      <td>0.0</td>\n",
       "    </tr>\n",
       "    <tr>\n",
       "      <th>1599832</th>\n",
       "      <td>5332388</td>\n",
       "      <td>2024-08-14 03:00:25.174633+00:00</td>\n",
       "      <td>0</td>\n",
       "      <td>3</td>\n",
       "      <td>4</td>\n",
       "      <td>male</td>\n",
       "      <td>NaN</td>\n",
       "      <td>Google Search App</td>\n",
       "      <td>Apple</td>\n",
       "      <td>iPhone</td>\n",
       "      <td>mobile</td>\n",
       "      <td>iOS</td>\n",
       "      <td>0.0</td>\n",
       "    </tr>\n",
       "  </tbody>\n",
       "</table>\n",
       "</div>"
      ],
      "text/plain": [
       "         id_user                    timestamp_reg  age  traffic_type_id  \\\n",
       "18133      60905 2024-08-23 12:55:59.171020+00:00    0                3   \n",
       "63250     210602 2024-08-13 22:10:09.504020+00:00    0                2   \n",
       "149641    499133 2024-08-24 12:40:32.100659+00:00    0                2   \n",
       "160760    536238 2024-11-04 12:07:35.105352+00:00    0                2   \n",
       "481020   1606243 2024-11-19 01:46:29.926133+00:00    0                2   \n",
       "669544   2233605 2024-11-15 20:54:23.744659+00:00    0                2   \n",
       "935939   3122331 2024-08-14 03:00:27.367986+00:00    0                3   \n",
       "953131   3179952 2024-10-24 06:00:39.143262+00:00    0                3   \n",
       "1026094  3421905 2024-08-26 12:40:30.475240+00:00    0                1   \n",
       "1060875  3538225 2024-11-14 05:43:02.225411+00:00    0                2   \n",
       "1066373  3556670 2024-09-01 10:03:58.403453+00:00    0                3   \n",
       "1091587  3640374 2024-09-03 04:40:30.580903+00:00    0                2   \n",
       "1360034  4534615 2024-09-16 14:58:29.782151+00:00    0                3   \n",
       "1469289  4897431 2024-08-19 05:08:10.688904+00:00    0                1   \n",
       "1576216  5253632 2024-08-17 03:40:30.840847+00:00    0                1   \n",
       "1599832  5332388 2024-08-14 03:00:25.174633+00:00    0                3   \n",
       "\n",
       "         traffic_group_id  gender country     device_browser device_brand  \\\n",
       "18133                   4    male      US                NaN          NaN   \n",
       "63250                   9    male      US             Chrome          NaN   \n",
       "149641                  8    male     NaN             Safari        Apple   \n",
       "160760                 11    male      ZA            Firefox          NaN   \n",
       "481020                  3    male      US           Facebook      Samsung   \n",
       "669544                  6    male      CA      Chrome Mobile      Samsung   \n",
       "935939                  4    male     NaN      Chrome Mobile      Samsung   \n",
       "953131                  4    male     NaN      Chrome Mobile     Motorola   \n",
       "1026094                 7    male     NaN      Chrome Mobile      Samsung   \n",
       "1060875                 6    male      CA      Chrome Mobile      Samsung   \n",
       "1066373                 4    male      DE      Chrome Mobile     Motorola   \n",
       "1091587                 2    male     NaN      Chrome Mobile     Motorola   \n",
       "1360034                 4    male      US      Mobile Safari        Apple   \n",
       "1469289                 1  female      PL     Chrome Webview       Xiaomi   \n",
       "1576216                 7    male     NaN  Chrome Mobile iOS        Apple   \n",
       "1599832                 4    male     NaN  Google Search App        Apple   \n",
       "\n",
       "             device_model device_platform device_os  revenue_7d  \n",
       "18133                 NaN             NaN       NaN         0.0  \n",
       "63250                 NaN         desktop   Windows         0.0  \n",
       "149641                NaN         desktop       Mac         0.0  \n",
       "160760                NaN         desktop   Windows         0.0  \n",
       "481020           SM-S711U          mobile   Android         0.0  \n",
       "669544   Galaxy S21 FE 5G          mobile   Android         0.0  \n",
       "935939          SM-S146VL          mobile   Android         0.0  \n",
       "953131          Moto G 5G          mobile   Android         0.0  \n",
       "1026094        Galaxy S23          mobile   Android         0.0  \n",
       "1060875  Galaxy S21 FE 5G          mobile   Android         0.0  \n",
       "1066373       Moto G54 5G          mobile   Android         0.0  \n",
       "1091587       Moto g play          mobile   Android         0.0  \n",
       "1360034            iPhone          mobile       iOS         0.0  \n",
       "1469289    Redmi Note 12S          mobile   Android         0.0  \n",
       "1576216            iPhone          mobile       iOS         0.0  \n",
       "1599832            iPhone          mobile       iOS         0.0  "
      ]
     },
     "execution_count": 34,
     "metadata": {},
     "output_type": "execute_result"
    }
   ],
   "source": [
    "df_user_params[df_user_params['age'] == 0]"
   ]
  },
  {
   "cell_type": "code",
   "execution_count": 35,
   "id": "62a7617a-c0fb-4515-a830-f2c1232e4a7c",
   "metadata": {
    "scrolled": true
   },
   "outputs": [],
   "source": [
    "df_user_params['age'] = df_user_params['age'].mask(\n",
    "    (df_user_params['age'] == 0) | (df_user_params['age'] > 98),\n",
    "    other=pd.NA\n",
    ")"
   ]
  },
  {
   "cell_type": "markdown",
   "id": "0da5bb2c-0f80-4197-9656-e6ec012e3016",
   "metadata": {},
   "source": [
    "Mark these ages as Nan. Also, these rows can be invalid in general."
   ]
  },
  {
   "cell_type": "code",
   "execution_count": 36,
   "id": "2b84befb-9e7d-4747-a3e4-2f911a4f26ea",
   "metadata": {},
   "outputs": [
    {
     "data": {
      "image/png": "[encoded data removed]",
      "text/plain": [
       "<Figure size 1000x600 with 1 Axes>"
      ]
     },
     "metadata": {},
     "output_type": "display_data"
    },
    {
     "name": "stdout",
     "output_type": "stream",
     "text": [
      "Age stats: Min=16.0, Max=98.0\n",
      "Median age: 53.0\n"
     ]
    }
   ],
   "source": [
    "plt.figure(figsize=(10, 6))\n",
    "plt.hist(df_user_params['age'], bins=50, edgecolor='black', alpha=0.7)\n",
    "plt.title('Age Distribution')\n",
    "plt.xlabel('Age')\n",
    "plt.ylabel('Count')\n",
    "plt.grid(True, alpha=0.3)\n",
    "plt.show()\n",
    "\n",
    "print(f\"Age stats: Min={df_user_params['age'].min()}, Max={df_user_params['age'].max()}\")\n",
    "print(f\"Median age: {df_user_params['age'].median()}\")"
   ]
  },
  {
   "cell_type": "code",
   "execution_count": 37,
   "id": "72f9c69b-c502-4bfc-bbbe-4990bc32e794",
   "metadata": {},
   "outputs": [
    {
     "data": {
      "text/plain": [
       "traffic_type_id\n",
       "1    811128\n",
       "2    707505\n",
       "3     95567\n",
       "Name: count, dtype: int64"
      ]
     },
     "execution_count": 37,
     "metadata": {},
     "output_type": "execute_result"
    }
   ],
   "source": [
    "df_user_params.traffic_type_id.value_counts()"
   ]
  },
  {
   "cell_type": "code",
   "execution_count": 38,
   "id": "83c211df-9fe2-492b-b279-eb6fb7aa99ef",
   "metadata": {},
   "outputs": [
    {
     "data": {
      "text/plain": [
       "traffic_group_id\n",
       "1     583569\n",
       "3     255638\n",
       "5     176531\n",
       "6     149742\n",
       "4      95567\n",
       "8      89405\n",
       "2      63788\n",
       "11     54070\n",
       "7      51028\n",
       "9      47548\n",
       "10     27348\n",
       "12     19966\n",
       "Name: count, dtype: int64"
      ]
     },
     "execution_count": 38,
     "metadata": {},
     "output_type": "execute_result"
    }
   ],
   "source": [
    "df_user_params.traffic_group_id.value_counts()"
   ]
  },
  {
   "cell_type": "code",
   "execution_count": 39,
   "id": "bc9dad8e-f0af-4353-97b5-37b335885531",
   "metadata": {},
   "outputs": [
    {
     "data": {
      "text/html": [
       "<div>\n",
       "<style scoped>\n",
       "    .dataframe tbody tr th:only-of-type {\n",
       "        vertical-align: middle;\n",
       "    }\n",
       "\n",
       "    .dataframe tbody tr th {\n",
       "        vertical-align: top;\n",
       "    }\n",
       "\n",
       "    .dataframe thead th {\n",
       "        text-align: right;\n",
       "    }\n",
       "</style>\n",
       "<table border=\"1\" class=\"dataframe\">\n",
       "  <thead>\n",
       "    <tr style=\"text-align: right;\">\n",
       "      <th>traffic_group_id</th>\n",
       "      <th>1</th>\n",
       "      <th>2</th>\n",
       "      <th>3</th>\n",
       "      <th>4</th>\n",
       "      <th>5</th>\n",
       "      <th>6</th>\n",
       "      <th>7</th>\n",
       "      <th>8</th>\n",
       "      <th>9</th>\n",
       "      <th>10</th>\n",
       "      <th>11</th>\n",
       "      <th>12</th>\n",
       "    </tr>\n",
       "    <tr>\n",
       "      <th>traffic_type_id</th>\n",
       "      <th></th>\n",
       "      <th></th>\n",
       "      <th></th>\n",
       "      <th></th>\n",
       "      <th></th>\n",
       "      <th></th>\n",
       "      <th></th>\n",
       "      <th></th>\n",
       "      <th></th>\n",
       "      <th></th>\n",
       "      <th></th>\n",
       "      <th></th>\n",
       "    </tr>\n",
       "  </thead>\n",
       "  <tbody>\n",
       "    <tr>\n",
       "      <th>1</th>\n",
       "      <td>583569</td>\n",
       "      <td>0</td>\n",
       "      <td>0</td>\n",
       "      <td>0</td>\n",
       "      <td>176531</td>\n",
       "      <td>0</td>\n",
       "      <td>51028</td>\n",
       "      <td>0</td>\n",
       "      <td>0</td>\n",
       "      <td>0</td>\n",
       "      <td>0</td>\n",
       "      <td>0</td>\n",
       "    </tr>\n",
       "    <tr>\n",
       "      <th>2</th>\n",
       "      <td>0</td>\n",
       "      <td>63788</td>\n",
       "      <td>255638</td>\n",
       "      <td>0</td>\n",
       "      <td>0</td>\n",
       "      <td>149742</td>\n",
       "      <td>0</td>\n",
       "      <td>89405</td>\n",
       "      <td>47548</td>\n",
       "      <td>27348</td>\n",
       "      <td>54070</td>\n",
       "      <td>19966</td>\n",
       "    </tr>\n",
       "    <tr>\n",
       "      <th>3</th>\n",
       "      <td>0</td>\n",
       "      <td>0</td>\n",
       "      <td>0</td>\n",
       "      <td>95567</td>\n",
       "      <td>0</td>\n",
       "      <td>0</td>\n",
       "      <td>0</td>\n",
       "      <td>0</td>\n",
       "      <td>0</td>\n",
       "      <td>0</td>\n",
       "      <td>0</td>\n",
       "      <td>0</td>\n",
       "    </tr>\n",
       "  </tbody>\n",
       "</table>\n",
       "</div>"
      ],
      "text/plain": [
       "traffic_group_id      1      2       3      4       5       6      7      8   \\\n",
       "traffic_type_id                                                                \n",
       "1                 583569      0       0      0  176531       0  51028      0   \n",
       "2                      0  63788  255638      0       0  149742      0  89405   \n",
       "3                      0      0       0  95567       0       0      0      0   \n",
       "\n",
       "traffic_group_id     9      10     11     12  \n",
       "traffic_type_id                               \n",
       "1                     0      0      0      0  \n",
       "2                 47548  27348  54070  19966  \n",
       "3                     0      0      0      0  "
      ]
     },
     "execution_count": 39,
     "metadata": {},
     "output_type": "execute_result"
    }
   ],
   "source": [
    "pd.crosstab(\n",
    "    df_user_params['traffic_type_id'],\n",
    "    df_user_params['traffic_group_id']\n",
    ")"
   ]
  },
  {
   "cell_type": "code",
   "execution_count": 40,
   "id": "11cd93cd-8214-45b8-bf22-e3efbb154620",
   "metadata": {},
   "outputs": [
    {
     "data": {
      "text/plain": [
       "gender\n",
       "male      1418474\n",
       "female     195726\n",
       "Name: count, dtype: int64"
      ]
     },
     "execution_count": 40,
     "metadata": {},
     "output_type": "execute_result"
    }
   ],
   "source": [
    "df_user_params.gender.value_counts()"
   ]
  },
  {
   "cell_type": "code",
   "execution_count": 41,
   "id": "5c08848f-581a-41bf-bd01-495e4fc20172",
   "metadata": {},
   "outputs": [
    {
     "name": "stdout",
     "output_type": "stream",
     "text": [
      "Unrecognized codes: [nan, 'XK']\n"
     ]
    }
   ],
   "source": [
    "import pycountry\n",
    "\n",
    "codes = df_user_params.country.unique().tolist()\n",
    "\n",
    "valid_codes = {c.alpha_2 for c in pycountry.countries}\n",
    "\n",
    "invalid = [c for c in codes if c and c not in valid_codes]\n",
    "print(\"Unrecognized codes:\", invalid)"
   ]
  },
  {
   "cell_type": "markdown",
   "id": "c50acec6-33e1-4739-9542-dbd9242aa3f5",
   "metadata": {},
   "source": [
    "XK is suppsoed to be Kosovo."
   ]
  },
  {
   "cell_type": "code",
   "execution_count": 42,
   "id": "43647e74-3453-4b2c-82b4-51c10b4776b1",
   "metadata": {},
   "outputs": [
    {
     "data": {
      "text/plain": [
       "device_browser\n",
       "Chrome Mobile         642088\n",
       "Facebook              346545\n",
       "Mobile Safari         169492\n",
       "Instagram App          96185\n",
       "Chrome                 85981\n",
       "                       ...  \n",
       "Hawk Turbo Browser         1\n",
       "QtWebEngine                1\n",
       "SeaMonkey                  1\n",
       "Baidu Browser              1\n",
       "Internet Explorer          1\n",
       "Name: count, Length: 127, dtype: int64"
      ]
     },
     "execution_count": 42,
     "metadata": {},
     "output_type": "execute_result"
    }
   ],
   "source": [
    "df_user_params.device_browser.value_counts()"
   ]
  },
  {
   "cell_type": "code",
   "execution_count": 43,
   "id": "93492a13-4f54-4078-a855-0059c2fe0bcb",
   "metadata": {},
   "outputs": [
    {
     "name": "stdout",
     "output_type": "stream",
     "text": [
      "Top 20 browsers:\n",
      " device_browser\n",
      "Chrome Mobile            642088\n",
      "Facebook                 346545\n",
      "Mobile Safari            169492\n",
      "Instagram App             96185\n",
      "Chrome                    85981\n",
      "Samsung Browser           56462\n",
      "Chrome Webview            34071\n",
      "Microsoft Edge            30930\n",
      "Chrome Mobile iOS         30668\n",
      "Google Search App         24565\n",
      "Safari                    16167\n",
      "Firefox                   14445\n",
      "Facebook Lite             13285\n",
      "TikTok                     6950\n",
      "Opera Mobile               6568\n",
      "Firefox Mobile             5656\n",
      "Opera                      4265\n",
      "Mobile Silk                3168\n",
      "Snapchat                   3036\n",
      "Huawei Browser Mobile      1705\n",
      "Name: count, dtype: int64\n",
      "\n",
      "Number of unique browser strings: 127\n",
      "\n",
      "Browsers with <1000 users (102):\n",
      "['Firefox Mobile iOS', 'Aloha Browser', 'HeyTapBrowser', 'Opera GX', 'vivo Browser', 'Avast Secure Browser', 'Yandex Browser', 'UNK', 'UC Browser', 'Kik', 'NetFront', 'AOL Desktop', 'AVG Secure Browser', 'Oculus Browser', 'DuckDuckGo Privacy Browser', 'Iron', 'Microsoft Bing Search', 'Pinterest', 'Ecosia', '360 Browser', 'AdBlock Browser', 'CCleaner', 'Android Browser', 'WPS Office', 'Baidu Spark', 'LinkedIn', 'Delta Browser', 'Quark', 'Facebook Messenger Lite', 'WeChat', 'QQ Browser', 'Brave', 'Mint Browser', 'RDDocuments', 'Openwave Mobile Browser', 'Chromium', 'Naver', 'Whale Browser', 'Microsoft Start', 'Edge WebView', 'Waterfox', 'Seznam Browser', 'Oppo Browser', 'UC Browser Turbo', 'Puffin', 'Baidu Box App', 'Facebook Messenger', 'Venus Browser', 'Line', 'Flipboard App', 'CoolBrowser', 'Kindle Browser', 'HiSearch', 'Kode Browser', 'Opera Devices', 'Aloha Browser Lite', 'Ghostery Privacy Browser', 'Tenta Browser', 'Meizu Browser', 'Sogou Explorer', 'Yahoo! Japan', 'PrivacyWall', 'Soul Browser', 'Maxthon', 'Reddit', 'EUI Browser', 'Atom', 'Meta Business Suite', 'Yandex Browser Lite', 'Viasat Browser', 'OceanHero', 'hola! Browser', 'Hago', 'Jio Browser', 'Hawk Quick Browser', 'Firefox Rocket', 'AOL Shield Pro', 'Daum', 'Realme Browser', 'Web Explorer', 'UBrowser', 'Pale Moon', 't-online.de Browser', 'Firefox Focus', 'Smart Lenovo Browser', 'Petal Search App', 'Vivaldi', 'Chrome Frame', 'APN Browser', 'Stargon', 'CM Browser', 'Pi Browser', 'Lovense Browser', 'Mypal', 'Bloket', 'Steam In-Game Overlay', 'Wolvic', 'Hawk Turbo Browser', 'QtWebEngine', 'SeaMonkey', 'Baidu Browser', 'Internet Explorer']\n"
     ]
    }
   ],
   "source": [
    "counts = df_user_params['device_browser'].value_counts()\n",
    "\n",
    "print(\"Top 20 browsers:\\n\", counts.head(20))\n",
    "print(\"\\nNumber of unique browser strings:\", len(counts))\n",
    "\n",
    "rare = counts[counts < 1000].index.tolist()\n",
    "print(f\"\\nBrowsers with <1000 users ({len(rare)}):\")\n",
    "print(rare)"
   ]
  },
  {
   "cell_type": "code",
   "execution_count": 44,
   "id": "c38cdf5b-e696-4316-adda-b491dabecead",
   "metadata": {},
   "outputs": [
    {
     "data": {
      "text/plain": [
       "device_brand\n",
       "Samsung      523830\n",
       "Apple        417688\n",
       "Motorola     158157\n",
       "Xiaomi        42947\n",
       "Huawei        28928\n",
       "              ...  \n",
       "JAY-Tech          1\n",
       "EXO               1\n",
       "Prestigio         1\n",
       "Cwowdefu          1\n",
       "MicroMax          1\n",
       "Name: count, Length: 356, dtype: int64"
      ]
     },
     "execution_count": 44,
     "metadata": {},
     "output_type": "execute_result"
    }
   ],
   "source": [
    "df_user_params.device_brand.value_counts()"
   ]
  },
  {
   "cell_type": "code",
   "execution_count": 45,
   "id": "ca039d8c-355d-4b98-a7d4-840876b51470",
   "metadata": {
    "scrolled": true
   },
   "outputs": [
    {
     "name": "stdout",
     "output_type": "stream",
     "text": [
      "Top 20 device brands:\n",
      " device_brand\n",
      "Samsung         523830\n",
      "Apple           417688\n",
      "NaN             248037\n",
      "Motorola        158157\n",
      "Xiaomi           42947\n",
      "Huawei           28928\n",
      "OPPO             27320\n",
      "Tecno Mobile     16337\n",
      "Google           14643\n",
      "Nokia            13951\n",
      "TCL              12746\n",
      "Infinix          10734\n",
      "LG                9523\n",
      "Vivo              9367\n",
      "OnePlus           7880\n",
      "ZTE               6196\n",
      "iTel              5531\n",
      "Realme            5376\n",
      "T-Mobile          5276\n",
      "Blu               5069\n",
      "Name: count, dtype: int64\n",
      "\n",
      "Brands with fewer than 100 users (295):\n",
      "['Vodacom', 'Acer', 'Fujitsu', 'Zuum', 'Unihertz', 'Sonim', 'Cellution', 'MobiWire', 'Symphony', 'NUU Mobile', 'Multilaser', 'Gplus', 'ComTrade Tesla', 'General Mobile', 'Anker', 'Kalley', 'Verizon', 'Moxee', 'Vsmart', 'RIM', 'Doro', 'Crosscall', 'Lava', 'IMO Mobile', 'Kodak', 'RCA Tablets', 'AGM', 'Kazuna', 'Condor', 'Nintendo', 'OpelMobile', 'Leagoo', 'Bmobile', 'Gionee', 'Philco', 'Logic', 'Teclast', 'Ravoz', 'Hammer', 'Noblex', 'Turbo-X', 'MobiIoT', 'Mara', 'Explay', 'Walton', 'Hyundai', 'LT Mobile', 'Benco', 'Ruio', 'F150', 'Positivo', 'LeEco', 'A1', 'Toshiba', 'Microsoft', 'Koobee', 'Zebra', 'Ace', 'X-TIGI', 'DEXP', 'Chuwi', 'Coopers', 'Casper', 'bq', 'Orange', 'iHunt', 'Fairphone', 'Lanix', 'OSCAL', 'Hurricane', 'MTC', 'Positivo BGH', 'DIXON', 'AllDocube', 'Gigaset', 'Neffos', 'Echo Mobiles', 'Premio', 'Razer', 'OMIX', 'Honeywell', 'Digiland', 'Kocaso', 'SuperSonic', 'Palm', 'Innostream', 'CORN', 'Smartisan', 'QLink', 'Aligator', 'Aspera', 'TechPad', 'Telma', 'JREN', 'Packard Bell', 'Gtel', 'Inoi', 'MIXC', 'Mito', 'RED', 'Insignia', 'MyPhone', 'Spark', 'Danew', 'JPay', 'MBOX', 'Andowl', 'Wileyfox', 'Hotwav', 'Krüger&Matz', 'Digi', 'F+', 'Quest', 'Vestel', 'Sony Ericsson', 'Unonu', 'Irbis', 'KT-Tech', 'HERO', 'Hi Nova', 'Digit4G', 'Pritom', 'Tibuta', 'G-TiDE', 'Logicom', 'iSWAG', 'Dcode', 'Mecer', 'Vankyo', 'KRIP', 'Dell', 'RugGear', 'Brondi', 'Digicel', 'Essential', 'Vonino', 'Just5', 'Yezz', 'Archos', 'DoCoMo', 'Vastking', 'Sico', 'FNB', 'Mitsui', 'Essentielb', 'Cyrus', 'Hoozo', 'TOSCIDO', 'Venturer', 'Philips', 'Hi', 'TecToy', 'Alba', 'Smooth Mobile', 'QMobile', 'Rokit', 'Azumi Mobile', 'Intex', 'Obi', 'M4tel', 'Sugar', 'Rakuten', 'Konka', 'Fondi', 'Sigma', 'FOSSiBOT', 'China Mobile', 'Land Rover', 'Telefunken', 'Bush', 'EWIS', 'Ghia', 'Siragon', 'Jumper', 'AIDATA', 'FoxxD', 'GOCLEVER', 'Urovo', 'Hometech', 'Bubblegum', 'Medion', 'SPC', 'Simbans', 'Connex', 'FiGi', 'Odys', 'Sunmax', 'AOC', 'Starlight', 'Ditecma', 'Cherry Mobile', 'KRONO', 'HP', 'Skyworth', 'Haier', 'Advance', 'Accent', 'Energizer', 'Santin', 'MAXVI', 'Quantum', 'Mint', 'Datalogic', 'NOA', 'ANS', 'Electroneum', 'neoCore', 'Chainway', 'ClearPHONE', 'INSYS', 'COMPUMAX', 'Figgers', 'Newland', 'Conceptum', 'BMAX', 'JVC', 'Jio', 'BMXC', 'OneLern', 'STK', 'Dragon Touch', 'Sunvell', 'Ematic', 'Maze', 'Pantech', 'DIJITSU', 'PULID', 'Fero', 'iPro', 'YUMKEM', 'Surge', 'Kanji', 'UNIWA', 'FiGO', 'Blaupunkt', 'Gooweel', 'Vernee', 'YOTOPT', 'True', 'Uniqcell', 'Elephone', 'Gome', 'Hafury', 'Altice', 'Helio', 'Naomi Phone', 'iBrit', 'Homtom', 'Fonos', 'Zeeker', 'Polaroid', 'Panasonic', 'Alps', 'Umax', 'SuperBOX', 'STG Telecom', 'EXO', 'Mediacom', 'Sylvania', 'Sprint', 'Contixo', 'Yes', 'Allview', 'Tesco', 'Mione', 'SFR', 'MOVISUN', 'Turkcell', 'Daewoo', 'nJoy', 'IKU Mobile', 'Beelink', 'Gree', 'iOcean', 'Melrose', 'Karbonn', 'Conquest', 'eSTAR', 'MwalimuPlus', 'H96', 'Nabi', 'Awow', 'High Q', 'Luna', 'Doov', 'VGO TEL', 'Teracube', 'Touchmate', 'Beista', 'Trident', 'JAY-Tech', 'Prestigio', 'Landvo', 'Cwowdefu', 'MicroMax']\n"
     ]
    }
   ],
   "source": [
    "brand_counts = df_user_params['device_brand'].value_counts(dropna=False)\n",
    "\n",
    "print(\"Top 20 device brands:\\n\", brand_counts.head(20))\n",
    "\n",
    "threshold = 100\n",
    "\n",
    "rare_brands = brand_counts[brand_counts < threshold].index.tolist()\n",
    "\n",
    "print(f\"\\nBrands with fewer than {threshold} users ({len(rare_brands)}):\")\n",
    "print(rare_brands)"
   ]
  },
  {
   "cell_type": "code",
   "execution_count": 46,
   "id": "155961c6-84ed-4390-924d-5d37c63d95dd",
   "metadata": {},
   "outputs": [
    {
     "data": {
      "text/plain": [
       "device_model\n",
       "iPhone           258495\n",
       "Moto g play       33225\n",
       "Galaxy A14 5G     30068\n",
       "SM-A156U          27184\n",
       "Moto G 5G         22776\n",
       "                  ...  \n",
       "AH9210                1\n",
       "Clear M950            1\n",
       "C12 Pro               1\n",
       "Griffe T2             1\n",
       "RKF54A                1\n",
       "Name: count, Length: 7198, dtype: int64"
      ]
     },
     "execution_count": 46,
     "metadata": {},
     "output_type": "execute_result"
    }
   ],
   "source": [
    "df_user_params.device_model.value_counts()"
   ]
  },
  {
   "cell_type": "code",
   "execution_count": 47,
   "id": "44cbe387-197d-4fea-bc4b-1c9093a2ecec",
   "metadata": {},
   "outputs": [
    {
     "data": {
      "image/png": "[encoded data removed]",
      "text/plain": [
       "<Figure size 1000x600 with 1 Axes>"
      ]
     },
     "metadata": {},
     "output_type": "display_data"
    }
   ],
   "source": [
    "model_counts = df_user_params['device_model'].value_counts()\n",
    "\n",
    "plt.figure(figsize=(10, 6))\n",
    "plt.hist(model_counts, bins=50)\n",
    "plt.title('Distribution of Device Model Frequencies')\n",
    "plt.xlabel('Occurrences per Device Model')\n",
    "plt.ylabel('Number of Device Models')\n",
    "plt.tight_layout()\n",
    "plt.show()"
   ]
  },
  {
   "cell_type": "markdown",
   "id": "081c43da-4c82-4a72-b0ae-cee74e1333f0",
   "metadata": {},
   "source": [
    "Need to be normalized"
   ]
  },
  {
   "cell_type": "code",
   "execution_count": 48,
   "id": "d93eebba-216b-4926-80f2-9d5bf316f47b",
   "metadata": {},
   "outputs": [
    {
     "data": {
      "text/plain": [
       "device_platform\n",
       "mobile     1435760\n",
       "desktop     137111\n",
       "tablet       33479\n",
       "tv             636\n",
       "console        326\n",
       "car              1\n",
       "Name: count, dtype: int64"
      ]
     },
     "execution_count": 48,
     "metadata": {},
     "output_type": "execute_result"
    }
   ],
   "source": [
    "df_user_params.device_platform.value_counts()"
   ]
  },
  {
   "cell_type": "code",
   "execution_count": 49,
   "id": "7741b4dd-e4c9-4814-8038-91e2be12cc59",
   "metadata": {},
   "outputs": [
    {
     "data": {
      "text/html": [
       "<div>\n",
       "<style scoped>\n",
       "    .dataframe tbody tr th:only-of-type {\n",
       "        vertical-align: middle;\n",
       "    }\n",
       "\n",
       "    .dataframe tbody tr th {\n",
       "        vertical-align: top;\n",
       "    }\n",
       "\n",
       "    .dataframe thead th {\n",
       "        text-align: right;\n",
       "    }\n",
       "</style>\n",
       "<table border=\"1\" class=\"dataframe\">\n",
       "  <thead>\n",
       "    <tr style=\"text-align: right;\">\n",
       "      <th></th>\n",
       "      <th>id_user</th>\n",
       "      <th>timestamp_reg</th>\n",
       "      <th>age</th>\n",
       "      <th>traffic_type_id</th>\n",
       "      <th>traffic_group_id</th>\n",
       "      <th>gender</th>\n",
       "      <th>country</th>\n",
       "      <th>device_browser</th>\n",
       "      <th>device_brand</th>\n",
       "      <th>device_model</th>\n",
       "      <th>device_platform</th>\n",
       "      <th>device_os</th>\n",
       "      <th>revenue_7d</th>\n",
       "    </tr>\n",
       "  </thead>\n",
       "  <tbody>\n",
       "    <tr>\n",
       "      <th>103129</th>\n",
       "      <td>343447</td>\n",
       "      <td>2024-11-10 21:41:19.002740+00:00</td>\n",
       "      <td>50.0</td>\n",
       "      <td>1</td>\n",
       "      <td>1</td>\n",
       "      <td>male</td>\n",
       "      <td>CO</td>\n",
       "      <td>Chrome</td>\n",
       "      <td>Alps</td>\n",
       "      <td>8227L demo</td>\n",
       "      <td>car</td>\n",
       "      <td>Android</td>\n",
       "      <td>0.0</td>\n",
       "    </tr>\n",
       "  </tbody>\n",
       "</table>\n",
       "</div>"
      ],
      "text/plain": [
       "        id_user                    timestamp_reg   age  traffic_type_id  \\\n",
       "103129   343447 2024-11-10 21:41:19.002740+00:00  50.0                1   \n",
       "\n",
       "        traffic_group_id gender country device_browser device_brand  \\\n",
       "103129                 1   male      CO         Chrome         Alps   \n",
       "\n",
       "       device_model device_platform device_os  revenue_7d  \n",
       "103129   8227L demo             car   Android         0.0  "
      ]
     },
     "execution_count": 49,
     "metadata": {},
     "output_type": "execute_result"
    }
   ],
   "source": [
    "df_user_params[df_user_params.device_platform == 'car']"
   ]
  },
  {
   "cell_type": "markdown",
   "id": "857bf44b-95f0-4c82-8b4e-48880385ee1d",
   "metadata": {},
   "source": [
    "Filter car out."
   ]
  },
  {
   "cell_type": "code",
   "execution_count": 50,
   "id": "8f64dc00-8e5a-47de-ade5-448475901de0",
   "metadata": {},
   "outputs": [],
   "source": [
    "df_user_params = df_user_params[df_user_params['device_platform'] != 'car']"
   ]
  },
  {
   "cell_type": "code",
   "execution_count": 51,
   "id": "8adb3e7f-56c6-4812-84c6-368d3e345ea3",
   "metadata": {},
   "outputs": [
    {
     "data": {
      "text/plain": [
       "device_os\n",
       "Android           1073572\n",
       "iOS                392420\n",
       "Windows             99736\n",
       "Mac                 23156\n",
       "Chrome OS            8423\n",
       "GNU/Linux            6698\n",
       "iPadOS               2112\n",
       "PlayStation           289\n",
       "UNK                   265\n",
       "Ubuntu                216\n",
       "KaiOS                 202\n",
       "Tizen                 114\n",
       "HarmonyOS              86\n",
       "Nintendo               37\n",
       "Fedora                  4\n",
       "Android TV              3\n",
       "Windows Phone           2\n",
       "Fire OS                 1\n",
       "ClearOS Mobile          1\n",
       "Wear OS                 1\n",
       "Name: count, dtype: int64"
      ]
     },
     "execution_count": 51,
     "metadata": {},
     "output_type": "execute_result"
    }
   ],
   "source": [
    "df_user_params.device_os.value_counts()"
   ]
  },
  {
   "cell_type": "code",
   "execution_count": null,
   "id": "3dfdb9ab-3849-40d0-b16d-c05a439da6f9",
   "metadata": {},
   "outputs": [],
   "source": []
  },
  {
   "cell_type": "code",
   "execution_count": 52,
   "id": "c909019f-0b13-4c3b-9e93-d5b361eca09d",
   "metadata": {},
   "outputs": [
    {
     "name": "stdout",
     "output_type": "stream",
     "text": [
      "NEGATIVE 7-DAY REVENUE: 0\n"
     ]
    }
   ],
   "source": [
    "print(\"NEGATIVE 7-DAY REVENUE:\", (df_user_params['revenue_7d'] < 0).sum())"
   ]
  },
  {
   "cell_type": "code",
   "execution_count": 53,
   "id": "2f3b7a05-f429-4b2e-acc8-a89797d4d6a1",
   "metadata": {},
   "outputs": [
    {
     "data": {
      "text/plain": [
       "revenue_7d\n",
       "0.00      1579810\n",
       "1.50         7026\n",
       "9.99         5382\n",
       "5.00         5097\n",
       "11.49        1248\n",
       "           ...   \n",
       "57.28           1\n",
       "32.35           1\n",
       "171.41          1\n",
       "579.91          1\n",
       "61.70           1\n",
       "Name: count, Length: 3056, dtype: int64"
      ]
     },
     "execution_count": 53,
     "metadata": {},
     "output_type": "execute_result"
    }
   ],
   "source": [
    "df_user_params.revenue_7d.value_counts()"
   ]
  },
  {
   "cell_type": "code",
   "execution_count": 54,
   "id": "0b479250-9294-4bc8-abc2-6e388451ed1b",
   "metadata": {},
   "outputs": [
    {
     "name": "stdout",
     "output_type": "stream",
     "text": [
      "Revenue bins and their counts:\n",
      "revenue_7d\n",
      "[0.0, 0.0001)         1579810\n",
      "[0.0001, 1.0)               0\n",
      "[1.0, 2.0)               8721\n",
      "[2.0, 3.0)                101\n",
      "[3.0, 4.0)                  2\n",
      "[4.0, 5.0)                  2\n",
      "[5.0, 10.0)             11441\n",
      "[10.0, 50.0)             8157\n",
      "[50.0, 100.0)            2195\n",
      "[100.0, 500.0)           3102\n",
      "[500.0, 1000.0)           419\n",
      "[1000.0, 20409.58)        248\n",
      "Name: count, dtype: int64\n"
     ]
    }
   ],
   "source": [
    "revenue = df_user_params['revenue_7d'].fillna(0)\n",
    "\n",
    "bins = [0, 0.0001, 1, 2, 3, 4, 5, 10, 50, 100, 500, 1000, revenue.max()]\n",
    "\n",
    "cats = pd.cut(revenue, bins=bins, right=False)\n",
    "\n",
    "counts = cats.value_counts().sort_index()\n",
    "\n",
    "print(\"Revenue bins and their counts:\")\n",
    "print(counts)"
   ]
  },
  {
   "cell_type": "code",
   "execution_count": null,
   "id": "fecd99cb-0788-4d78-86d0-d8cc4fb4858f",
   "metadata": {},
   "outputs": [],
   "source": []
  },
  {
   "cell_type": "code",
   "execution_count": 55,
   "id": "9e1c5d39-86ff-4053-85ba-8572823cf337",
   "metadata": {},
   "outputs": [
    {
     "data": {
      "text/plain": [
       "sum_payments\n",
       "0.00      6427758\n",
       "9.99         6306\n",
       "1.50         5841\n",
       "5.00         4420\n",
       "11.49         894\n",
       "           ...   \n",
       "42.50           1\n",
       "344.56          1\n",
       "31.32           1\n",
       "25.79           1\n",
       "14.92           1\n",
       "Name: count, Length: 1550, dtype: int64"
      ]
     },
     "execution_count": 55,
     "metadata": {},
     "output_type": "execute_result"
    }
   ],
   "source": [
    "df_user_actions.sum_payments.value_counts()"
   ]
  },
  {
   "cell_type": "code",
   "execution_count": 56,
   "id": "05b440ff-4f40-473d-a761-01aaa2f9fbf2",
   "metadata": {},
   "outputs": [
    {
     "name": "stdout",
     "output_type": "stream",
     "text": [
      "payments bins and their counts:\n",
      "sum_payments\n",
      "[0.0, 0.0001)       6427758\n",
      "[0.0001, 1.0)             0\n",
      "[1.0, 2.0)             6416\n",
      "[2.0, 3.0)              948\n",
      "[3.0, 4.0)                0\n",
      "[4.0, 5.0)                1\n",
      "[5.0, 10.0)           11540\n",
      "[10.0, 50.0)           6766\n",
      "[50.0, 100.0)          1688\n",
      "[100.0, 500.0)         1652\n",
      "[500.0, 1000.0)          30\n",
      "[1000.0, 2446.8)          9\n",
      "Name: count, dtype: int64\n"
     ]
    }
   ],
   "source": [
    "payments = df_user_actions['sum_payments'].fillna(0)\n",
    "\n",
    "bins = [0, 0.0001, 1, 2, 3, 4, 5, 10, 50, 100, 500, 1000, payments.max()]\n",
    "\n",
    "cats = pd.cut(payments, bins=bins, right=False)\n",
    "\n",
    "counts = cats.value_counts().sort_index()\n",
    "\n",
    "print(\"payments bins and their counts:\")\n",
    "print(counts)"
   ]
  },
  {
   "cell_type": "code",
   "execution_count": 57,
   "id": "8f8f2398-57a3-45a9-8485-81a273381e6a",
   "metadata": {},
   "outputs": [
    {
     "name": "stdout",
     "output_type": "stream",
     "text": [
      "\n",
      "FIRST-DAY PAYMENTS > 7-DAY REVENUE: 3456\n",
      "PAYMENTS BUT ZERO 7-DAY REVENUE: 186\n",
      "7-DAY REVENUE BUT NO FIRST-DAY PAYMENTS: 108692\n"
     ]
    }
   ],
   "source": [
    "merged = df_user_actions.merge(df_user_params[['id_user', 'revenue_7d']], on='id_user', how='inner')\n",
    "print(\"\\nFIRST-DAY PAYMENTS > 7-DAY REVENUE:\", (merged['sum_payments'] > merged['revenue_7d']).sum())\n",
    "print(\"PAYMENTS BUT ZERO 7-DAY REVENUE:\", ((merged['sum_payments'] > 0) & (merged['revenue_7d'] == 0)).sum())\n",
    "print(\"7-DAY REVENUE BUT NO FIRST-DAY PAYMENTS:\", ((merged['revenue_7d'] > 0) & (merged['sum_payments'] == 0)).sum())"
   ]
  },
  {
   "cell_type": "code",
   "execution_count": 58,
   "id": "2bde61e2-bf36-49b7-b3df-809e49fcc723",
   "metadata": {},
   "outputs": [
    {
     "data": {
      "text/html": [
       "<div>\n",
       "<style scoped>\n",
       "    .dataframe tbody tr th:only-of-type {\n",
       "        vertical-align: middle;\n",
       "    }\n",
       "\n",
       "    .dataframe tbody tr th {\n",
       "        vertical-align: top;\n",
       "    }\n",
       "\n",
       "    .dataframe thead th {\n",
       "        text-align: right;\n",
       "    }\n",
       "</style>\n",
       "<table border=\"1\" class=\"dataframe\">\n",
       "  <thead>\n",
       "    <tr style=\"text-align: right;\">\n",
       "      <th></th>\n",
       "      <th>id_user</th>\n",
       "      <th>timestamp_interval_start</th>\n",
       "      <th>timestamp_interval_end</th>\n",
       "      <th>sum_payments</th>\n",
       "      <th>cnt_payments</th>\n",
       "      <th>sum_credits_spend</th>\n",
       "      <th>cnt_returns</th>\n",
       "      <th>cnt_visit_other_users</th>\n",
       "      <th>revenue_7d</th>\n",
       "    </tr>\n",
       "  </thead>\n",
       "  <tbody>\n",
       "    <tr>\n",
       "      <th>3896</th>\n",
       "      <td>3442908</td>\n",
       "      <td>2024-08-20 08:01:47.089699+00:00</td>\n",
       "      <td>2024-08-20 14:01:47.089699+00:00</td>\n",
       "      <td>2.33</td>\n",
       "      <td>1</td>\n",
       "      <td>18</td>\n",
       "      <td>0</td>\n",
       "      <td>3</td>\n",
       "      <td>1.94</td>\n",
       "    </tr>\n",
       "    <tr>\n",
       "      <th>3980</th>\n",
       "      <td>434449</td>\n",
       "      <td>2024-08-20 08:04:23.087204+00:00</td>\n",
       "      <td>2024-08-20 14:04:23.087204+00:00</td>\n",
       "      <td>1.50</td>\n",
       "      <td>1</td>\n",
       "      <td>16</td>\n",
       "      <td>0</td>\n",
       "      <td>16</td>\n",
       "      <td>0.00</td>\n",
       "    </tr>\n",
       "    <tr>\n",
       "      <th>4028</th>\n",
       "      <td>4956128</td>\n",
       "      <td>2024-08-20 08:06:34.132686+00:00</td>\n",
       "      <td>2024-08-20 14:06:34.132686+00:00</td>\n",
       "      <td>13.30</td>\n",
       "      <td>1</td>\n",
       "      <td>70</td>\n",
       "      <td>0</td>\n",
       "      <td>5</td>\n",
       "      <td>11.08</td>\n",
       "    </tr>\n",
       "    <tr>\n",
       "      <th>7308</th>\n",
       "      <td>2707737</td>\n",
       "      <td>2024-08-01 00:57:21.175728+00:00</td>\n",
       "      <td>2024-08-01 06:57:21.175728+00:00</td>\n",
       "      <td>1.94</td>\n",
       "      <td>1</td>\n",
       "      <td>0</td>\n",
       "      <td>0</td>\n",
       "      <td>6</td>\n",
       "      <td>1.62</td>\n",
       "    </tr>\n",
       "    <tr>\n",
       "      <th>8316</th>\n",
       "      <td>1829918</td>\n",
       "      <td>2024-08-01 01:25:10.681627+00:00</td>\n",
       "      <td>2024-08-01 07:25:10.681627+00:00</td>\n",
       "      <td>1.94</td>\n",
       "      <td>1</td>\n",
       "      <td>20</td>\n",
       "      <td>0</td>\n",
       "      <td>13</td>\n",
       "      <td>1.62</td>\n",
       "    </tr>\n",
       "  </tbody>\n",
       "</table>\n",
       "</div>"
      ],
      "text/plain": [
       "      id_user         timestamp_interval_start  \\\n",
       "3896  3442908 2024-08-20 08:01:47.089699+00:00   \n",
       "3980   434449 2024-08-20 08:04:23.087204+00:00   \n",
       "4028  4956128 2024-08-20 08:06:34.132686+00:00   \n",
       "7308  2707737 2024-08-01 00:57:21.175728+00:00   \n",
       "8316  1829918 2024-08-01 01:25:10.681627+00:00   \n",
       "\n",
       "               timestamp_interval_end  sum_payments  cnt_payments  \\\n",
       "3896 2024-08-20 14:01:47.089699+00:00          2.33             1   \n",
       "3980 2024-08-20 14:04:23.087204+00:00          1.50             1   \n",
       "4028 2024-08-20 14:06:34.132686+00:00         13.30             1   \n",
       "7308 2024-08-01 06:57:21.175728+00:00          1.94             1   \n",
       "8316 2024-08-01 07:25:10.681627+00:00          1.94             1   \n",
       "\n",
       "      sum_credits_spend  cnt_returns  cnt_visit_other_users  revenue_7d  \n",
       "3896                 18            0                      3        1.94  \n",
       "3980                 16            0                     16        0.00  \n",
       "4028                 70            0                      5       11.08  \n",
       "7308                  0            0                      6        1.62  \n",
       "8316                 20            0                     13        1.62  "
      ]
     },
     "execution_count": 58,
     "metadata": {},
     "output_type": "execute_result"
    }
   ],
   "source": [
    "bad1 = merged[merged['sum_payments'] > merged['revenue_7d']]\n",
    "bad1.head()"
   ]
  },
  {
   "cell_type": "markdown",
   "id": "e5bade28-18e1-4680-b9f4-30ab550e3791",
   "metadata": {},
   "source": [
    "Drop values."
   ]
  },
  {
   "cell_type": "code",
   "execution_count": 59,
   "id": "fde4b877-2e6f-48c1-899b-4550b5c33731",
   "metadata": {},
   "outputs": [],
   "source": [
    "bad_ids = bad1['id_user'].unique()\n",
    "\n",
    "df_user_params = df_user_params[~df_user_params['id_user'].isin(bad_ids)].reset_index(drop=True)\n",
    "\n",
    "df_user_actions = df_user_actions[~df_user_actions['id_user'].isin(bad_ids)].reset_index(drop=True)"
   ]
  },
  {
   "cell_type": "code",
   "execution_count": null,
   "id": "8316e98c-16aa-4956-9138-674ede654fc1",
   "metadata": {},
   "outputs": [],
   "source": []
  },
  {
   "cell_type": "code",
   "execution_count": 60,
   "id": "48775d96-0f7f-46e4-82a0-7eee98e299f2",
   "metadata": {
    "scrolled": true
   },
   "outputs": [
    {
     "data": {
      "text/plain": [
       "cnt_payments\n",
       "0     6417523\n",
       "1       18340\n",
       "2        4000\n",
       "3        1538\n",
       "4         711\n",
       "5         347\n",
       "6         194\n",
       "7         106\n",
       "8          86\n",
       "9          57\n",
       "10         40\n",
       "11         25\n",
       "12         21\n",
       "13         17\n",
       "14          8\n",
       "18          7\n",
       "16          7\n",
       "15          6\n",
       "20          4\n",
       "23          4\n",
       "17          4\n",
       "27          2\n",
       "19          2\n",
       "28          1\n",
       "26          1\n",
       "22          1\n",
       "55          1\n",
       "Name: count, dtype: int64"
      ]
     },
     "execution_count": 60,
     "metadata": {},
     "output_type": "execute_result"
    }
   ],
   "source": [
    "df_user_actions.cnt_payments.value_counts()"
   ]
  },
  {
   "cell_type": "code",
   "execution_count": 61,
   "id": "7179a507-5371-4237-a1a4-2b906dd4f719",
   "metadata": {},
   "outputs": [
    {
     "name": "stdout",
     "output_type": "stream",
     "text": [
      "credits bins and their counts:\n",
      "sum_credits_spend\n",
      "[0.0, 0.0001)        5612322\n",
      "[0.0001, 1.0)              0\n",
      "[1.0, 2.0)             16521\n",
      "[2.0, 3.0)             17706\n",
      "[3.0, 4.0)             16451\n",
      "[4.0, 5.0)             17298\n",
      "[5.0, 10.0)            82870\n",
      "[10.0, 50.0)          663700\n",
      "[50.0, 100.0)           6372\n",
      "[100.0, 500.0)          8551\n",
      "[500.0, 1000.0)          845\n",
      "[1000.0, 15730.0)        416\n",
      "Name: count, dtype: int64\n"
     ]
    }
   ],
   "source": [
    "credits = df_user_actions['sum_credits_spend'].fillna(0)\n",
    "\n",
    "bins = [0, 0.0001, 1, 2, 3, 4, 5, 10, 50, 100, 500, 1000, credits.max()]\n",
    "\n",
    "cats = pd.cut(credits, bins=bins, right=False)\n",
    "\n",
    "counts = cats.value_counts().sort_index()\n",
    "\n",
    "print(\"credits bins and their counts:\")\n",
    "print(counts)"
   ]
  },
  {
   "cell_type": "code",
   "execution_count": 62,
   "id": "515faea0-63f9-4f36-bda3-08c477767c31",
   "metadata": {},
   "outputs": [
    {
     "data": {
      "text/plain": [
       "cnt_returns\n",
       "0    6443053\n",
       "Name: count, dtype: int64"
      ]
     },
     "execution_count": 62,
     "metadata": {},
     "output_type": "execute_result"
    }
   ],
   "source": [
    "df_user_actions.cnt_returns.value_counts()"
   ]
  },
  {
   "cell_type": "code",
   "execution_count": 63,
   "id": "d9462c26-dc4e-4f6a-9bdf-8a2d4140a07d",
   "metadata": {},
   "outputs": [],
   "source": [
    "df_user_actions.drop(columns=['cnt_returns'], inplace=True)"
   ]
  },
  {
   "cell_type": "markdown",
   "id": "1216bb90-c31d-4d12-8e44-1bb65d12cee0",
   "metadata": {},
   "source": [
    "Drop cnt_returns because of zero representative values"
   ]
  },
  {
   "cell_type": "code",
   "execution_count": 64,
   "id": "4955f048-83c2-4a31-8df4-de493fad99e8",
   "metadata": {},
   "outputs": [
    {
     "data": {
      "text/plain": [
       "cnt_visit_other_users\n",
       "0      5329873\n",
       "1       347645\n",
       "2       198476\n",
       "3       132782\n",
       "4        94502\n",
       "        ...   \n",
       "260          1\n",
       "401          1\n",
       "364          1\n",
       "352          1\n",
       "343          1\n",
       "Name: count, Length: 345, dtype: int64"
      ]
     },
     "execution_count": 64,
     "metadata": {},
     "output_type": "execute_result"
    }
   ],
   "source": [
    "df_user_actions.cnt_visit_other_users.value_counts()"
   ]
  },
  {
   "cell_type": "code",
   "execution_count": 65,
   "id": "7112559a-1477-4cee-a789-8d52cd288c91",
   "metadata": {},
   "outputs": [
    {
     "name": "stdout",
     "output_type": "stream",
     "text": [
      "visits bins and their counts:\n",
      "cnt_visit_other_users\n",
      "[0.0, 0.0001)     5329873\n",
      "[0.0001, 1.0)           0\n",
      "[1.0, 2.0)         347645\n",
      "[2.0, 3.0)         198476\n",
      "[3.0, 4.0)         132782\n",
      "[4.0, 5.0)          94502\n",
      "[5.0, 10.0)        206039\n",
      "[10.0, 50.0)       126639\n",
      "[50.0, 100.0)        5688\n",
      "[100.0, 500.0)       1397\n",
      "[500.0, 851.0)         11\n",
      "Name: count, dtype: int64\n"
     ]
    }
   ],
   "source": [
    "visits = df_user_actions['cnt_visit_other_users'].fillna(0)\n",
    "\n",
    "bins = [0, 0.0001, 1, 2, 3, 4, 5, 10, 50, 100, 500, visits.max()]\n",
    "\n",
    "cats = pd.cut(visits, bins=bins, right=False)\n",
    "\n",
    "counts = cats.value_counts().sort_index()\n",
    "\n",
    "print(\"visits bins and their counts:\")\n",
    "print(counts)"
   ]
  },
  {
   "cell_type": "code",
   "execution_count": 66,
   "id": "39d29f92-8677-48dd-ab69-6a62e0b61f8e",
   "metadata": {},
   "outputs": [
    {
     "data": {
      "text/html": [
       "<div>\n",
       "<style scoped>\n",
       "    .dataframe tbody tr th:only-of-type {\n",
       "        vertical-align: middle;\n",
       "    }\n",
       "\n",
       "    .dataframe tbody tr th {\n",
       "        vertical-align: top;\n",
       "    }\n",
       "\n",
       "    .dataframe thead th {\n",
       "        text-align: right;\n",
       "    }\n",
       "</style>\n",
       "<table border=\"1\" class=\"dataframe\">\n",
       "  <thead>\n",
       "    <tr style=\"text-align: right;\">\n",
       "      <th></th>\n",
       "      <th>id_user</th>\n",
       "      <th>timestamp_interval_start</th>\n",
       "      <th>timestamp_interval_end</th>\n",
       "      <th>sum_payments</th>\n",
       "      <th>cnt_payments</th>\n",
       "      <th>sum_credits_spend</th>\n",
       "      <th>cnt_visit_other_users</th>\n",
       "    </tr>\n",
       "  </thead>\n",
       "  <tbody>\n",
       "    <tr>\n",
       "      <th>0</th>\n",
       "      <td>2672114</td>\n",
       "      <td>2024-08-20 07:07:14.493905+00:00</td>\n",
       "      <td>2024-08-20 13:07:14.493905+00:00</td>\n",
       "      <td>0.0</td>\n",
       "      <td>0</td>\n",
       "      <td>0</td>\n",
       "      <td>2</td>\n",
       "    </tr>\n",
       "    <tr>\n",
       "      <th>1</th>\n",
       "      <td>2672114</td>\n",
       "      <td>2024-08-20 13:07:14.493905+00:00</td>\n",
       "      <td>2024-08-20 19:07:14.493905+00:00</td>\n",
       "      <td>0.0</td>\n",
       "      <td>0</td>\n",
       "      <td>0</td>\n",
       "      <td>0</td>\n",
       "    </tr>\n",
       "    <tr>\n",
       "      <th>2</th>\n",
       "      <td>2672114</td>\n",
       "      <td>2024-08-20 19:07:14.493905+00:00</td>\n",
       "      <td>2024-08-21 01:07:14.493905+00:00</td>\n",
       "      <td>0.0</td>\n",
       "      <td>0</td>\n",
       "      <td>0</td>\n",
       "      <td>0</td>\n",
       "    </tr>\n",
       "    <tr>\n",
       "      <th>3</th>\n",
       "      <td>2672114</td>\n",
       "      <td>2024-08-21 01:07:14.493905+00:00</td>\n",
       "      <td>2024-08-21 07:07:14.493905+00:00</td>\n",
       "      <td>0.0</td>\n",
       "      <td>0</td>\n",
       "      <td>0</td>\n",
       "      <td>0</td>\n",
       "    </tr>\n",
       "    <tr>\n",
       "      <th>4</th>\n",
       "      <td>4314012</td>\n",
       "      <td>2024-08-20 07:07:25.610218+00:00</td>\n",
       "      <td>2024-08-20 13:07:25.610218+00:00</td>\n",
       "      <td>0.0</td>\n",
       "      <td>0</td>\n",
       "      <td>0</td>\n",
       "      <td>4</td>\n",
       "    </tr>\n",
       "    <tr>\n",
       "      <th>...</th>\n",
       "      <td>...</td>\n",
       "      <td>...</td>\n",
       "      <td>...</td>\n",
       "      <td>...</td>\n",
       "      <td>...</td>\n",
       "      <td>...</td>\n",
       "      <td>...</td>\n",
       "    </tr>\n",
       "    <tr>\n",
       "      <th>6443048</th>\n",
       "      <td>2123445</td>\n",
       "      <td>2024-09-30 09:43:23.003217+00:00</td>\n",
       "      <td>2024-09-30 15:43:23.003217+00:00</td>\n",
       "      <td>0.0</td>\n",
       "      <td>0</td>\n",
       "      <td>0</td>\n",
       "      <td>0</td>\n",
       "    </tr>\n",
       "    <tr>\n",
       "      <th>6443049</th>\n",
       "      <td>2808871</td>\n",
       "      <td>2024-09-29 15:43:26.468557+00:00</td>\n",
       "      <td>2024-09-29 21:43:26.468557+00:00</td>\n",
       "      <td>0.0</td>\n",
       "      <td>0</td>\n",
       "      <td>0</td>\n",
       "      <td>1</td>\n",
       "    </tr>\n",
       "    <tr>\n",
       "      <th>6443050</th>\n",
       "      <td>2808871</td>\n",
       "      <td>2024-09-29 21:43:26.468557+00:00</td>\n",
       "      <td>2024-09-30 03:43:26.468557+00:00</td>\n",
       "      <td>0.0</td>\n",
       "      <td>0</td>\n",
       "      <td>0</td>\n",
       "      <td>0</td>\n",
       "    </tr>\n",
       "    <tr>\n",
       "      <th>6443051</th>\n",
       "      <td>2808871</td>\n",
       "      <td>2024-09-30 03:43:26.468557+00:00</td>\n",
       "      <td>2024-09-30 09:43:26.468557+00:00</td>\n",
       "      <td>0.0</td>\n",
       "      <td>0</td>\n",
       "      <td>0</td>\n",
       "      <td>0</td>\n",
       "    </tr>\n",
       "    <tr>\n",
       "      <th>6443052</th>\n",
       "      <td>2808871</td>\n",
       "      <td>2024-09-30 09:43:26.468557+00:00</td>\n",
       "      <td>2024-09-30 15:43:26.468557+00:00</td>\n",
       "      <td>0.0</td>\n",
       "      <td>0</td>\n",
       "      <td>0</td>\n",
       "      <td>0</td>\n",
       "    </tr>\n",
       "  </tbody>\n",
       "</table>\n",
       "<p>6443053 rows × 7 columns</p>\n",
       "</div>"
      ],
      "text/plain": [
       "         id_user         timestamp_interval_start  \\\n",
       "0        2672114 2024-08-20 07:07:14.493905+00:00   \n",
       "1        2672114 2024-08-20 13:07:14.493905+00:00   \n",
       "2        2672114 2024-08-20 19:07:14.493905+00:00   \n",
       "3        2672114 2024-08-21 01:07:14.493905+00:00   \n",
       "4        4314012 2024-08-20 07:07:25.610218+00:00   \n",
       "...          ...                              ...   \n",
       "6443048  2123445 2024-09-30 09:43:23.003217+00:00   \n",
       "6443049  2808871 2024-09-29 15:43:26.468557+00:00   \n",
       "6443050  2808871 2024-09-29 21:43:26.468557+00:00   \n",
       "6443051  2808871 2024-09-30 03:43:26.468557+00:00   \n",
       "6443052  2808871 2024-09-30 09:43:26.468557+00:00   \n",
       "\n",
       "                  timestamp_interval_end  sum_payments  cnt_payments  \\\n",
       "0       2024-08-20 13:07:14.493905+00:00           0.0             0   \n",
       "1       2024-08-20 19:07:14.493905+00:00           0.0             0   \n",
       "2       2024-08-21 01:07:14.493905+00:00           0.0             0   \n",
       "3       2024-08-21 07:07:14.493905+00:00           0.0             0   \n",
       "4       2024-08-20 13:07:25.610218+00:00           0.0             0   \n",
       "...                                  ...           ...           ...   \n",
       "6443048 2024-09-30 15:43:23.003217+00:00           0.0             0   \n",
       "6443049 2024-09-29 21:43:26.468557+00:00           0.0             0   \n",
       "6443050 2024-09-30 03:43:26.468557+00:00           0.0             0   \n",
       "6443051 2024-09-30 09:43:26.468557+00:00           0.0             0   \n",
       "6443052 2024-09-30 15:43:26.468557+00:00           0.0             0   \n",
       "\n",
       "         sum_credits_spend  cnt_visit_other_users  \n",
       "0                        0                      2  \n",
       "1                        0                      0  \n",
       "2                        0                      0  \n",
       "3                        0                      0  \n",
       "4                        0                      4  \n",
       "...                    ...                    ...  \n",
       "6443048                  0                      0  \n",
       "6443049                  0                      1  \n",
       "6443050                  0                      0  \n",
       "6443051                  0                      0  \n",
       "6443052                  0                      0  \n",
       "\n",
       "[6443053 rows x 7 columns]"
      ]
     },
     "execution_count": 66,
     "metadata": {},
     "output_type": "execute_result"
    }
   ],
   "source": [
    "df_user_actions"
   ]
  },
  {
   "cell_type": "code",
   "execution_count": null,
   "id": "a548acbc-f79d-46f9-83d7-4740c82001e0",
   "metadata": {},
   "outputs": [],
   "source": []
  },
  {
   "cell_type": "markdown",
   "id": "a510bfcd-8a4f-4bfe-9803-c7735ee25fd2",
   "metadata": {},
   "source": [
    "## Column normalization"
   ]
  },
  {
   "cell_type": "code",
   "execution_count": 67,
   "id": "c5b5a220-0dd1-485a-8a6e-59c6fe01c65f",
   "metadata": {},
   "outputs": [],
   "source": [
    "df_user_params = df_user_params.drop(columns=['traffic_type_id'])"
   ]
  },
  {
   "cell_type": "markdown",
   "id": "3a7d0108-3c89-48fd-9346-2c3406656251",
   "metadata": {},
   "source": [
    "Drop the traffic type because each group implies its type"
   ]
  },
  {
   "cell_type": "code",
   "execution_count": 68,
   "id": "dda3deee-4c15-4681-bb08-412c670b477b",
   "metadata": {},
   "outputs": [
    {
     "data": {
      "text/plain": [
       "device_brand\n",
       "Samsung     522617\n",
       "Apple       416603\n",
       "Motorola    158068\n",
       "Xiaomi       42770\n",
       "Huawei       28830\n",
       "             ...  \n",
       "MOVISUN          1\n",
       "SFR              1\n",
       "Mione            1\n",
       "Kanji            1\n",
       "Contixo          1\n",
       "Name: count, Length: 355, dtype: int64"
      ]
     },
     "execution_count": 68,
     "metadata": {},
     "output_type": "execute_result"
    }
   ],
   "source": [
    "df_user_params['device_brand'].value_counts()"
   ]
  },
  {
   "cell_type": "code",
   "execution_count": 69,
   "id": "770b6e8b-08d2-455a-a049-54a04e6f7dae",
   "metadata": {},
   "outputs": [
    {
     "data": {
      "text/plain": [
       "device_brand\n",
       "samsung     522617\n",
       "apple       416603\n",
       "motorola    158068\n",
       "xiaomi       42770\n",
       "huawei       28830\n",
       "             ...  \n",
       "movisun          1\n",
       "sfr              1\n",
       "mione            1\n",
       "kanji            1\n",
       "contixo          1\n",
       "Name: count, Length: 355, dtype: int64"
      ]
     },
     "execution_count": 69,
     "metadata": {},
     "output_type": "execute_result"
    }
   ],
   "source": [
    "df_user_params['device_brand'].str.strip().str.replace(r'\\s+', ' ', regex=True).str.lower().value_counts()"
   ]
  },
  {
   "cell_type": "code",
   "execution_count": 70,
   "id": "bb949a11-49a0-4068-910c-656ec6ef66c0",
   "metadata": {},
   "outputs": [
    {
     "data": {
      "text/plain": [
       "device_brand\n",
       "OPPO    27244\n",
       "Name: count, dtype: int64"
      ]
     },
     "execution_count": 70,
     "metadata": {},
     "output_type": "execute_result"
    }
   ],
   "source": [
    "df_user_params[df_user_params['device_brand'].str.contains('oppo' ,case=False, na=False)].device_brand.value_counts()"
   ]
  },
  {
   "cell_type": "markdown",
   "id": "fdfd5300-7dc1-45f6-bead-d16b44104d9c",
   "metadata": {
    "scrolled": true
   },
   "source": [
    "Are all brands valid?"
   ]
  },
  {
   "cell_type": "code",
   "execution_count": null,
   "id": "3a7c8da6-6c29-4e74-8217-5807256bc65a",
   "metadata": {},
   "outputs": [],
   "source": []
  },
  {
   "cell_type": "code",
   "execution_count": 71,
   "id": "c5866adb-cf40-4dc0-b565-acfa953236e0",
   "metadata": {},
   "outputs": [
    {
     "data": {
      "text/plain": [
       "array(['iPhone', 'iPhone 13', 'ROG Phone 2', 'smartphone', 'Smartphone',\n",
       "       'iPhone XR', 'Pocophone F1', 'iPhone 8', 'T Phone Pro',\n",
       "       'iPhone 11 Pro Max', 'iPhone SE (2020)', 'iPhone 12 Mini',\n",
       "       'iPhone 12 Pro', 'ROG Phone 6D', 'iPhone 14 Pro Max', 'iPhone SE',\n",
       "       'iPhone 12', 'Simple Smartphone 4', 'iPhone SE (2022)',\n",
       "       'iPhone 11', 'iPhone X', 'iPhone 13 Pro', 'iPhone 13 Pro Max',\n",
       "       'iPhone 8 Plus', 'iPhone 7', 'iPhone 12 Pro Max', 'iPhone XS Max',\n",
       "       'iPhone 14 Plus', 'iPhone 14 Pro', 'iPhone 14', 'iPhone 6s',\n",
       "       'Smartphone_X5', 'iPhone 13 Mini', 'iPhone 11 Pro',\n",
       "       'iPhone 7 Plus', 'iPhone XS', 'iPhone 6', 'iPhone 6s Plus',\n",
       "       'iPhone 6 Plus', 'ROG Phone 6', 'ROG Phone 5', '5G UG Phone U23',\n",
       "       'iPhone 5S', 'ROG Phone 3', 'ThinkPhone by motorola', 'T Phone',\n",
       "       'Qua Phone', 'Phone 2', 'afriphone S10', 'Leica Leitz Phone 2',\n",
       "       'Easy Phone F-03K', 'Phone', 'PHONE', 'Qua Phone QX',\n",
       "       'Smartphone 9.1', 'Easy Phone F-42A', 'Smartphone 6.3',\n",
       "       'Amico Smartphone XL', 'ROG Phone', 'Qua Phone QZ',\n",
       "       'Leica Leitz Phone 1', 'sdk_gphone_x86_64', 'Smart Phone',\n",
       "       'Easy Phone F-01L', 'iPhone 5', 'JioPhone Next', 'Volla Phone X23'],\n",
       "      dtype=object)"
      ]
     },
     "execution_count": 71,
     "metadata": {},
     "output_type": "execute_result"
    }
   ],
   "source": [
    "df_user_params[\n",
    "    df_user_params['device_model']\n",
    "    .str.contains(\"Phone\", case=False, na=False)\n",
    "].device_model.unique()"
   ]
  },
  {
   "cell_type": "code",
   "execution_count": 72,
   "id": "ca2c4bb1-8b6c-4483-8dfa-4268c8190086",
   "metadata": {
    "scrolled": true
   },
   "outputs": [],
   "source": [
    "df_user_params['device_model_clean'] = (\n",
    "    df_user_params['device_model']\n",
    "    .fillna('')\n",
    "    .str.strip()\n",
    "    .str.lower()\n",
    ")\n",
    "\n",
    "def find_similar_models(models, threshold=98):\n",
    "    similar_groups = []\n",
    "    processed = set()\n",
    "    for i, m1 in enumerate(models):\n",
    "        if not m1 or m1 in processed:\n",
    "            continue\n",
    "        group = [m1]\n",
    "        processed.add(m1)\n",
    "        for m2 in models[i+1:]:\n",
    "            if m2 in processed:\n",
    "                continue\n",
    "            if fuzz.ratio(m1, m2) >= threshold:\n",
    "                group.append(m2)\n",
    "                processed.add(m2)\n",
    "        if len(group) > 1:\n",
    "            similar_groups.append(group)\n",
    "    return similar_groups\n",
    "\n",
    "unique_models = df_user_params['device_model_clean'].unique()\n",
    "similar_groups = find_similar_models(unique_models, threshold=98)\n",
    "\n",
    "mapping = {variant: group[0] for group in similar_groups for variant in group}\n",
    "\n",
    "df_user_params['device_model_normalized'] = (\n",
    "    df_user_params['device_model_clean']\n",
    "    .map(lambda x: mapping.get(x, x))\n",
    ")\n",
    "\n",
    "df_user_params.drop(columns=['device_model_clean'], inplace=True)"
   ]
  },
  {
   "cell_type": "code",
   "execution_count": 73,
   "id": "673d5760-e400-4dec-bc9a-fb115dc7d874",
   "metadata": {},
   "outputs": [],
   "source": [
    "df_user_params.drop(columns=['device_model'], inplace=True)"
   ]
  },
  {
   "cell_type": "code",
   "execution_count": 74,
   "id": "4ed31e5c-b639-41d7-b843-f56364df7d5b",
   "metadata": {},
   "outputs": [
    {
     "data": {
      "text/plain": [
       "device_platform\n",
       "mobile     1432774\n",
       "desktop     136754\n",
       "tablet       33403\n",
       "tv             634\n",
       "console        326\n",
       "Name: count, dtype: int64"
      ]
     },
     "execution_count": 74,
     "metadata": {},
     "output_type": "execute_result"
    }
   ],
   "source": [
    "df_user_params.device_platform.value_counts()"
   ]
  },
  {
   "cell_type": "code",
   "execution_count": 75,
   "id": "6f352004-7f6e-492a-bd7b-6e01d0b17f8f",
   "metadata": {
    "scrolled": true
   },
   "outputs": [
    {
     "data": {
      "text/plain": [
       "device_os\n",
       "Android           1071518\n",
       "iOS                391425\n",
       "Windows             99474\n",
       "Mac                 23077\n",
       "Chrome OS            8417\n",
       "GNU/Linux            6684\n",
       "iPadOS               2101\n",
       "PlayStation           289\n",
       "UNK                   265\n",
       "Ubuntu                216\n",
       "KaiOS                 202\n",
       "Tizen                 114\n",
       "HarmonyOS              86\n",
       "Nintendo               37\n",
       "Fedora                  4\n",
       "Android TV              3\n",
       "Windows Phone           2\n",
       "Fire OS                 1\n",
       "ClearOS Mobile          1\n",
       "Wear OS                 1\n",
       "Name: count, dtype: int64"
      ]
     },
     "execution_count": 75,
     "metadata": {},
     "output_type": "execute_result"
    }
   ],
   "source": [
    "df_user_params.device_os.value_counts()"
   ]
  },
  {
   "cell_type": "code",
   "execution_count": null,
   "id": "d954bbbb-24e6-4a84-9e89-4162ee5dff4f",
   "metadata": {},
   "outputs": [],
   "source": []
  },
  {
   "cell_type": "code",
   "execution_count": 76,
   "id": "801b789b-7fca-4f84-b854-22662c6ca195",
   "metadata": {},
   "outputs": [
    {
     "data": {
      "text/plain": [
       "9"
      ]
     },
     "execution_count": 76,
     "metadata": {},
     "output_type": "execute_result"
    }
   ],
   "source": [
    "frequency_counts = df_user_actions['id_user'].value_counts()\n",
    "\n",
    "(frequency_counts == 5).sum()"
   ]
  },
  {
   "cell_type": "code",
   "execution_count": 77,
   "id": "ab3b2c71-a415-404f-b6fa-3416d3b061f2",
   "metadata": {},
   "outputs": [],
   "source": [
    "ids_to_drop = frequency_counts[frequency_counts == 5].index\n",
    "\n",
    "df_user_actions = df_user_actions[~df_user_actions['id_user'].isin(ids_to_drop)].reset_index(drop=True)\n",
    "df_user_params  = df_user_params[~df_user_params['id_user'].isin(ids_to_drop)].reset_index(drop=True)"
   ]
  },
  {
   "cell_type": "code",
   "execution_count": null,
   "id": "a6ff20c8-6e9b-403d-bfac-2af205048b20",
   "metadata": {},
   "outputs": [],
   "source": []
  },
  {
   "cell_type": "code",
   "execution_count": 78,
   "id": "e51a03df-8fa3-46a0-a29d-aa8bc770a415",
   "metadata": {},
   "outputs": [],
   "source": [
    "common_ids = set(df_user_actions['id_user']).intersection(df_user_params['id_user'])\n",
    "\n",
    "df_user_actions = (\n",
    "    df_user_actions\n",
    "    [df_user_actions['id_user'].isin(common_ids)]\n",
    "    .reset_index(drop=True)\n",
    ")\n",
    "\n",
    "df_user_params = (\n",
    "    df_user_params\n",
    "    [df_user_params['id_user'].isin(common_ids)]\n",
    "    .reset_index(drop=True)\n",
    ")"
   ]
  },
  {
   "cell_type": "markdown",
   "id": "dbb3b3b4-9613-4d19-88c5-fc0edb3aa1ba",
   "metadata": {},
   "source": [
    "## Feature engineering"
   ]
  },
  {
   "cell_type": "markdown",
   "id": "a157d50c-c810-483a-beff-c90a168961c3",
   "metadata": {},
   "source": [
    "It's better to split data by id user and the date of registratiion, because the timesstamp is important here."
   ]
  },
  {
   "cell_type": "code",
   "execution_count": 79,
   "id": "fe06870c-b31f-4dc2-9a3a-f0387ed6dac0",
   "metadata": {},
   "outputs": [],
   "source": [
    "df_user_params['gender_bin'] = df_user_params['gender'].map({\n",
    "    'male':   0,\n",
    "    'female': 1\n",
    "})\n",
    "\n",
    "df_user_params.drop(columns=['gender'], inplace=True)"
   ]
  },
  {
   "cell_type": "code",
   "execution_count": null,
   "id": "21e1dd07-722b-4745-80c5-b03551826cd1",
   "metadata": {},
   "outputs": [],
   "source": []
  },
  {
   "cell_type": "code",
   "execution_count": 80,
   "id": "03b5bd3b-6118-4594-af02-cd465acd2d75",
   "metadata": {},
   "outputs": [
    {
     "name": "stderr",
     "output_type": "stream",
     "text": [
      "/var/tmp/ipykernel_3476167/2030626514.py:1: UserWarning: Converting to PeriodArray/Index representation will drop timezone information.\n",
      "  df_user_params['reg_month'] = df_user_params['timestamp_reg'].dt.to_period('M')\n"
     ]
    }
   ],
   "source": [
    "df_user_params['reg_month'] = df_user_params['timestamp_reg'].dt.to_period('M')\n",
    "\n",
    "all_months = sorted(df_user_params['reg_month'].unique())\n",
    "\n",
    "train_months = all_months[:-1]\n",
    "test_months  = all_months[-1:]"
   ]
  },
  {
   "cell_type": "code",
   "execution_count": 81,
   "id": "183b22f5-60ab-4a62-869a-88805da4a850",
   "metadata": {},
   "outputs": [
    {
     "data": {
      "text/plain": [
       "[Period('2024-08', 'M'),\n",
       " Period('2024-09', 'M'),\n",
       " Period('2024-10', 'M'),\n",
       " Period('2024-11', 'M')]"
      ]
     },
     "execution_count": 81,
     "metadata": {},
     "output_type": "execute_result"
    }
   ],
   "source": [
    "all_months"
   ]
  },
  {
   "cell_type": "code",
   "execution_count": null,
   "id": "7d6ec3c2-176a-40f4-9277-d4e621c56566",
   "metadata": {},
   "outputs": [],
   "source": []
  },
  {
   "cell_type": "code",
   "execution_count": 82,
   "id": "09a9e7e0-18b6-4478-a188-8acae7b4c8d0",
   "metadata": {},
   "outputs": [],
   "source": [
    "df_user_params_train = df_user_params[df_user_params['reg_month'].isin(train_months)].copy()\n",
    "df_user_params_test  = df_user_params[df_user_params['reg_month'].isin(test_months)].copy()"
   ]
  },
  {
   "cell_type": "code",
   "execution_count": 83,
   "id": "bd6dfabd-2443-409c-b5c3-ed6339ff943e",
   "metadata": {},
   "outputs": [],
   "source": [
    "train_ids = set(df_user_params_train['id_user'])\n",
    "test_ids  = set(df_user_params_test ['id_user'])\n",
    "\n",
    "df_user_actions_train = (\n",
    "    df_user_actions\n",
    "    [df_user_actions['id_user'].isin(train_ids)]\n",
    "    .reset_index(drop=True)\n",
    ")\n",
    "\n",
    "df_user_actions_test = (\n",
    "    df_user_actions\n",
    "    [df_user_actions['id_user'].isin(test_ids)]\n",
    "    .reset_index(drop=True)\n",
    ")"
   ]
  },
  {
   "cell_type": "code",
   "execution_count": null,
   "id": "2938adc3-8655-4585-9920-3d7b13473908",
   "metadata": {
    "scrolled": true
   },
   "outputs": [],
   "source": []
  },
  {
   "cell_type": "code",
   "execution_count": 84,
   "id": "22147cce-2cb4-44eb-ba20-97fa9aebcbf0",
   "metadata": {},
   "outputs": [],
   "source": [
    "df_user_params_train['country'] = (\n",
    "    df_user_params_train['country']\n",
    "      .str.strip()                       \n",
    "      .str.replace(r'\\s+', ' ', regex=True)  \n",
    "      .str.lower()                    \n",
    ")"
   ]
  },
  {
   "cell_type": "code",
   "execution_count": null,
   "id": "88a44cfe-ee47-4f6d-b6af-a5d8455ed7b1",
   "metadata": {
    "scrolled": true
   },
   "outputs": [],
   "source": [
    "df_user_params_train['country'].value_counts().to_dict()"
   ]
  },
  {
   "cell_type": "code",
   "execution_count": 85,
   "id": "bc1e48a3-3110-4b08-b5a0-f2a507e8eeb7",
   "metadata": {},
   "outputs": [],
   "source": [
    "train_counts = df_user_params_train['country'].value_counts()\n",
    "\n",
    "min_users = 50\n",
    "rare_countries = set(train_counts[train_counts < min_users].index)\n",
    "\n",
    "df_user_params_train['country_normalized'] = df_user_params_train['country'].where(\n",
    "    df_user_params_train['country'].isin(rare_countries) == False,\n",
    "    other='Other'\n",
    ")"
   ]
  },
  {
   "cell_type": "code",
   "execution_count": 86,
   "id": "ccd362eb-48bb-4c19-a4e1-d9fed33a4a6c",
   "metadata": {},
   "outputs": [],
   "source": [
    "df_user_params_train.drop(columns=['country'], inplace=True)"
   ]
  },
  {
   "cell_type": "code",
   "execution_count": null,
   "id": "18d76fa3-ece1-424a-a5d8-0432abc1faa2",
   "metadata": {},
   "outputs": [],
   "source": []
  },
  {
   "cell_type": "code",
   "execution_count": 87,
   "id": "c5972533-e444-471c-9248-819135c9e7d9",
   "metadata": {},
   "outputs": [],
   "source": [
    "df_user_params_train['device_browser'] = (\n",
    "    df_user_params_train['device_browser']\n",
    "      .str.strip()                             \n",
    "      .str.replace(r'\\s+', ' ', regex=True)     \n",
    "      .str.lower()\n",
    ")"
   ]
  },
  {
   "cell_type": "code",
   "execution_count": null,
   "id": "2151929b-0732-46f1-a4f9-0c2cf3b6237f",
   "metadata": {
    "scrolled": true
   },
   "outputs": [],
   "source": [
    "df_user_params_train.device_browser.value_counts().to_dict()"
   ]
  },
  {
   "cell_type": "code",
   "execution_count": 89,
   "id": "681b56d5-2ba1-4371-b113-4405b3c9a5b6",
   "metadata": {},
   "outputs": [],
   "source": [
    "browser_counts = df_user_params_train['device_browser'].value_counts()\n",
    "\n",
    "min_users = 20\n",
    "rare_browsers = set(browser_counts[browser_counts < min_users].index)\n",
    "\n",
    "df_user_params_train['browser_normalized'] = df_user_params_train['device_browser'].where(\n",
    "    ~df_user_params_train['device_browser'].isin(rare_browsers),\n",
    "    other='Other'\n",
    ")"
   ]
  },
  {
   "cell_type": "code",
   "execution_count": 90,
   "id": "cbe8af5c-8873-4bc2-95c1-bedbca42620c",
   "metadata": {},
   "outputs": [],
   "source": [
    "df_user_params_train.drop(columns=['device_browser'], inplace=True)"
   ]
  },
  {
   "cell_type": "code",
   "execution_count": null,
   "id": "3bc79e8a-b5f3-456f-b2ec-39f64cd64021",
   "metadata": {},
   "outputs": [],
   "source": []
  },
  {
   "cell_type": "code",
   "execution_count": 91,
   "id": "62ea6743-fbf7-4f28-b1bb-e0776d5fcfbb",
   "metadata": {},
   "outputs": [],
   "source": [
    "df_user_params_train['device_brand'] = (\n",
    "    df_user_params_train['device_brand']\n",
    "      .str.strip()\n",
    "      .str.replace(r'\\s+', ' ', regex=True)\n",
    "      .str.lower()\n",
    ")"
   ]
  },
  {
   "cell_type": "code",
   "execution_count": null,
   "id": "04eb72d4-3b29-4362-9528-c98aa2b1f3c0",
   "metadata": {
    "scrolled": true
   },
   "outputs": [],
   "source": [
    "df_user_params_train.device_brand.value_counts().to_dict()"
   ]
  },
  {
   "cell_type": "code",
   "execution_count": 93,
   "id": "dfa1aace-f14d-4bc1-a6c5-64b9e5ab09ae",
   "metadata": {},
   "outputs": [],
   "source": [
    "brand_counts = df_user_params_train['device_brand'].value_counts()\n",
    "\n",
    "min_users_brand = 25\n",
    "rare_brands = set(brand_counts[brand_counts < min_users_brand].index)\n",
    "\n",
    "df_user_params_train['brand_normalized'] = df_user_params_train['device_brand'].where(\n",
    "    ~df_user_params_train['device_brand'].isin(rare_brands),\n",
    "    other='Other'\n",
    ")"
   ]
  },
  {
   "cell_type": "code",
   "execution_count": 94,
   "id": "2e54feeb-e769-4971-854b-51aaa554994b",
   "metadata": {},
   "outputs": [],
   "source": [
    "df_user_params_train.drop(columns=['device_brand'], inplace=True)"
   ]
  },
  {
   "cell_type": "code",
   "execution_count": null,
   "id": "8f12efce-8f01-4f0e-b208-bbf50ba5a3c5",
   "metadata": {},
   "outputs": [],
   "source": []
  },
  {
   "cell_type": "code",
   "execution_count": 95,
   "id": "d7eccbf0-19cc-40dd-b072-04b538f7fadb",
   "metadata": {},
   "outputs": [
    {
     "data": {
      "text/plain": [
       "device_platform\n",
       "mobile     1178343\n",
       "desktop     113455\n",
       "tablet       27821\n",
       "tv             537\n",
       "console        261\n",
       "Name: count, dtype: int64"
      ]
     },
     "execution_count": 95,
     "metadata": {},
     "output_type": "execute_result"
    }
   ],
   "source": [
    "df_user_params_train.device_platform.value_counts()"
   ]
  },
  {
   "cell_type": "code",
   "execution_count": 96,
   "id": "ba54628c-a7fc-4dfd-952e-dfd5c122e56d",
   "metadata": {},
   "outputs": [],
   "source": [
    "df_user_params_train['device_platform_normalized'] = (\n",
    "    df_user_params_train['device_platform']\n",
    "      .str.strip()\n",
    "      .str.lower()\n",
    ")\n",
    "\n",
    "df_user_params_train['device_platform_normalized'] = (\n",
    "    df_user_params_train['device_platform_normalized']\n",
    "      .astype('category')\n",
    ")"
   ]
  },
  {
   "cell_type": "code",
   "execution_count": 97,
   "id": "54bc310c-25d6-4a90-bb42-766c4872eaa1",
   "metadata": {},
   "outputs": [],
   "source": [
    "df_user_params_train.drop(columns=['device_platform'], inplace=True)"
   ]
  },
  {
   "cell_type": "code",
   "execution_count": null,
   "id": "018d9a9b-340d-43eb-b163-d3d33be921dd",
   "metadata": {},
   "outputs": [],
   "source": [
    "df_user_params_train.device_os.value_counts()"
   ]
  },
  {
   "cell_type": "code",
   "execution_count": 98,
   "id": "f1f8c9e6-f83c-4784-a50e-87ba3b1b8362",
   "metadata": {},
   "outputs": [],
   "source": [
    "brand_counts = df_user_params_train['device_os'].value_counts()\n",
    "\n",
    "min_users_brand = 10\n",
    "rare_brands = set(brand_counts[brand_counts < min_users_brand].index)\n",
    "\n",
    "df_user_params_train['device_os_normalized'] = df_user_params_train['device_os'].where(\n",
    "    ~df_user_params_train['device_os'].isin(rare_brands),\n",
    "    other='Other'\n",
    ")"
   ]
  },
  {
   "cell_type": "code",
   "execution_count": 99,
   "id": "cf9278ae-db97-4f89-a3a8-aad4e796623a",
   "metadata": {},
   "outputs": [],
   "source": [
    "df_user_params_train.drop(columns=['device_os'], inplace=True)"
   ]
  },
  {
   "cell_type": "markdown",
   "id": "fc738a12-3efd-45dd-a938-ecdeea777cc9",
   "metadata": {},
   "source": [
    "The possible features with timestamp_reg  are current - timestamp_reg; Time of day; is weekend"
   ]
  },
  {
   "cell_type": "code",
   "execution_count": 100,
   "id": "15c363f1-bb8e-458a-8dae-b48732ee200d",
   "metadata": {},
   "outputs": [],
   "source": [
    "df_user_params_train['reg_weekday']= df_user_params_train['timestamp_reg'].dt.weekday\n",
    "df_user_params_train['reg_hour']   = df_user_params_train['timestamp_reg'].dt.hour"
   ]
  },
  {
   "cell_type": "code",
   "execution_count": 101,
   "id": "7b3a3ab5-81ac-4cec-8ca7-af7628367501",
   "metadata": {
    "scrolled": true
   },
   "outputs": [
    {
     "data": {
      "text/plain": [
       "browser_normalized\n",
       "chrome mobile                 516400\n",
       "facebook                      291436\n",
       "mobile safari                 141472\n",
       "instagram app                  79990\n",
       "chrome                         71279\n",
       "samsung browser                46434\n",
       "chrome webview                 28245\n",
       "chrome mobile ios              25334\n",
       "microsoft edge                 25165\n",
       "google search app              19952\n",
       "safari                         13292\n",
       "firefox                        12262\n",
       "facebook lite                  11392\n",
       "tiktok                          6077\n",
       "opera mobile                    4890\n",
       "firefox mobile                  4634\n",
       "opera                           3512\n",
       "mobile silk                     2583\n",
       "snapchat                        2565\n",
       "huawei browser mobile           1379\n",
       "instabridge                     1253\n",
       "phoenix browser                 1066\n",
       "miui browser                     990\n",
       "opera touch                      940\n",
       "twitter                          922\n",
       "firefox mobile ios               839\n",
       "aloha browser                    647\n",
       "heytapbrowser                    560\n",
       "vivo browser                     441\n",
       "opera gx                         425\n",
       "avast secure browser             409\n",
       "yandex browser                   362\n",
       "Other                            362\n",
       "uc browser                       300\n",
       "unk                              294\n",
       "kik                              285\n",
       "netfront                         261\n",
       "aol desktop                      260\n",
       "avg secure browser               249\n",
       "oculus browser                   190\n",
       "duckduckgo privacy browser       164\n",
       "iron                             124\n",
       "microsoft bing search            108\n",
       "pinterest                         97\n",
       "ecosia                            79\n",
       "360 browser                       77\n",
       "adblock browser                   70\n",
       "ccleaner                          63\n",
       "android browser                   55\n",
       "baidu spark                       31\n",
       "linkedin                          28\n",
       "facebook messenger lite           27\n",
       "wps office                        27\n",
       "wechat                            26\n",
       "delta browser                     25\n",
       "qq browser                        24\n",
       "quark                             24\n",
       "openwave mobile browser           21\n",
       "brave                             20\n",
       "Name: count, dtype: int64"
      ]
     },
     "execution_count": 101,
     "metadata": {},
     "output_type": "execute_result"
    }
   ],
   "source": [
    "df_user_params_train.browser_normalized.value_counts()"
   ]
  },
  {
   "cell_type": "code",
   "execution_count": 102,
   "id": "26f21943-6329-44da-b560-b0f9f3adc263",
   "metadata": {
    "scrolled": true
   },
   "outputs": [],
   "source": [
    "agg_specs = {\n",
    "  'sum_payments':       ['sum','mean','max','std'],\n",
    "  'cnt_payments':       ['sum'],\n",
    "  'sum_credits_spend':  ['sum'],\n",
    "  'cnt_visit_other_users': ['sum'],\n",
    "}\n",
    "\n",
    "user_agg = df_user_actions_train.groupby('id_user').agg(agg_specs)"
   ]
  },
  {
   "cell_type": "code",
   "execution_count": 103,
   "id": "b93739c1-677f-41e1-a7c2-b3379d8bc56f",
   "metadata": {},
   "outputs": [],
   "source": [
    "user_agg.columns = [\n",
    "    f\"{col}_{stat}\" \n",
    "    for col, stat in user_agg.columns\n",
    "]"
   ]
  },
  {
   "cell_type": "code",
   "execution_count": 104,
   "id": "cfeceb08-da5d-45ca-8d6d-75dcb3b23ca0",
   "metadata": {},
   "outputs": [],
   "source": [
    "df_user_params_train = df_user_params_train.merge(\n",
    "    user_agg,\n",
    "    left_on='id_user',\n",
    "    right_index=True,\n",
    "    how='left'          \n",
    ")"
   ]
  },
  {
   "cell_type": "code",
   "execution_count": null,
   "id": "27ceec3a-c185-4a54-b37e-9fd477e42e79",
   "metadata": {},
   "outputs": [],
   "source": []
  },
  {
   "cell_type": "code",
   "execution_count": 106,
   "id": "e93d1d4f-2994-4ffb-bbcd-35129cc4d06a",
   "metadata": {},
   "outputs": [],
   "source": [
    "country_counts = df_user_params_train['country_normalized'].value_counts()\n",
    "allowed_countries = set(country_counts.index)\n",
    "\n",
    "browser_counts = df_user_params_train['browser_normalized'].value_counts()\n",
    "allowed_browsers = set(browser_counts.index)\n",
    "\n",
    "brand_counts = df_user_params_train['brand_normalized'].value_counts()\n",
    "allowed_brands = set(brand_counts.index)\n",
    "\n",
    "os_counts = df_user_params_train['device_os_normalized'].value_counts()\n",
    "allowed_oses = set(os_counts.index)"
   ]
  },
  {
   "cell_type": "code",
   "execution_count": 107,
   "id": "0b9d3768-c24a-4aad-89b7-8227825470a7",
   "metadata": {},
   "outputs": [],
   "source": [
    "# -- country\n",
    "x = (df_user_params_test['country']\n",
    "      .str.strip()\n",
    "      .str.replace(r'\\s+', ' ', regex=True)\n",
    "      .str.lower()\n",
    ")\n",
    "df_user_params_test['country_normalized'] = (\n",
    "    x.where(x.isin(allowed_countries), other='Other')\n",
    "      .where(df_user_params_test['country'].notna(), other=pd.NA)\n",
    "      .astype('category')\n",
    ")\n",
    "df_user_params_test.drop(columns=['country'], inplace=True)\n",
    "\n",
    "# -- browser\n",
    "x = (df_user_params_test['device_browser']\n",
    "      .str.strip()\n",
    "      .str.replace(r'\\s+', ' ', regex=True)\n",
    "      .str.lower()\n",
    ")\n",
    "df_user_params_test['browser_normalized'] = (\n",
    "    x.where(x.isin(allowed_browsers), other='Other')\n",
    "      .where(df_user_params_test['device_browser'].notna(), other=pd.NA)\n",
    "      .astype('category')\n",
    ")\n",
    "df_user_params_test.drop(columns=['device_browser'], inplace=True)\n",
    "\n",
    "# -- brand\n",
    "x = (df_user_params_test['device_brand']\n",
    "      .str.strip()\n",
    "      .str.replace(r'\\s+', ' ', regex=True)\n",
    "      .str.lower()\n",
    ")\n",
    "df_user_params_test['brand_normalized'] = (\n",
    "    x.where(x.isin(allowed_brands), other='Other')\n",
    "      .where(df_user_params_test['device_brand'].notna(), other=pd.NA)\n",
    "      .astype('category')\n",
    ")\n",
    "df_user_params_test.drop(columns=['device_brand'], inplace=True)\n",
    "\n",
    "# -- platform (just normalize casing/spaces; no rare‐bucketing)\n",
    "df_user_params_test['device_platform_normalized'] = (\n",
    "    df_user_params_test['device_platform']\n",
    "      .str.strip()\n",
    "      .str.lower()\n",
    "      .where(df_user_params_test['device_platform'].notna(), other=pd.NA)\n",
    "      .astype('category')\n",
    ")\n",
    "df_user_params_test.drop(columns=['device_platform'], inplace=True)\n",
    "\n",
    "# -- os\n",
    "x = df_user_params_test['device_os'].str.strip().str.lower()\n",
    "df_user_params_test['device_os_normalized'] = (\n",
    "    x.where(x.isin(allowed_oses), other='Other')\n",
    "      .where(df_user_params_test['device_os'].notna(), other=pd.NA)\n",
    "      .astype('category')\n",
    ")\n",
    "df_user_params_test.drop(columns=['device_os'], inplace=True)"
   ]
  },
  {
   "cell_type": "code",
   "execution_count": 108,
   "id": "6f2c6d80-279e-4684-9852-7dee67c7662b",
   "metadata": {},
   "outputs": [],
   "source": [
    "df_user_params_test['reg_weekday'] = df_user_params_test['timestamp_reg'].dt.weekday\n",
    "df_user_params_test['reg_hour']    = df_user_params_test['timestamp_reg'].dt.hour\n",
    "\n",
    "agg_specs = {\n",
    "    'sum_payments':         ['sum','mean','max','std'],\n",
    "    'cnt_payments':         ['sum'],\n",
    "    'sum_credits_spend':    ['sum'],\n",
    "    'cnt_visit_other_users':['sum'],\n",
    "}\n",
    "\n",
    "user_agg_test = (\n",
    "    df_user_actions_test\n",
    "    .groupby('id_user')\n",
    "    .agg(agg_specs)\n",
    ")\n",
    "user_agg_test.columns = [f\"{col}_{stat}\" for col, stat in user_agg_test.columns]\n",
    "\n",
    "df_user_params_test = (\n",
    "    df_user_params_test\n",
    "    .merge(user_agg_test, left_on='id_user', right_index=True, how='left')\n",
    ")"
   ]
  },
  {
   "cell_type": "code",
   "execution_count": null,
   "id": "1e76aa55-13aa-4337-bb79-c5d0fb280a48",
   "metadata": {},
   "outputs": [],
   "source": []
  },
  {
   "cell_type": "code",
   "execution_count": 113,
   "id": "18928ccc-e12c-4793-81c4-98442c808d4e",
   "metadata": {},
   "outputs": [],
   "source": [
    "df_user_params_train['device_model_normalized'] = (\n",
    "    df_user_params_train['device_model_normalized']\n",
    "      .replace('', pd.NA)\n",
    ")\n",
    "\n",
    "df_user_params_test['device_model_normalized'] = (\n",
    "    df_user_params_test['device_model_normalized']\n",
    "      .replace('', pd.NA)\n",
    ")"
   ]
  },
  {
   "cell_type": "markdown",
   "id": "1163a11a-8c24-4324-8930-caacc11cfde0",
   "metadata": {},
   "source": [
    "## modelling"
   ]
  },
  {
   "cell_type": "code",
   "execution_count": 115,
   "id": "150e4113-3252-40f0-80cf-76dc6953f4c5",
   "metadata": {},
   "outputs": [],
   "source": [
    "FEATURES = [\n",
    "  'age', 'traffic_group_id',\n",
    "  'device_model_normalized', 'gender_bin',\n",
    "  'country_normalized', 'browser_normalized',\n",
    "  'brand_normalized', 'device_platform_normalized',\n",
    "  'device_os_normalized', 'reg_weekday',\n",
    "  'reg_hour', 'sum_payments_sum', 'sum_payments_mean',\n",
    "  'sum_payments_max', 'sum_payments_std', 'cnt_payments_sum',\n",
    "  'sum_credits_spend_sum', 'cnt_visit_other_users_sum'\n",
    "]"
   ]
  },
  {
   "cell_type": "code",
   "execution_count": 116,
   "id": "673deac3-4c05-4c44-aede-7091804e1d92",
   "metadata": {},
   "outputs": [],
   "source": [
    "TARGET = 'revenue_7d'"
   ]
  },
  {
   "cell_type": "code",
   "execution_count": 117,
   "id": "c843cac9-df44-4503-97fc-672604f22cca",
   "metadata": {},
   "outputs": [],
   "source": [
    "X_train = df_user_params_train[FEATURES].copy()\n",
    "y_train = df_user_params_train[TARGET].copy()\n",
    "\n",
    "X_test  = df_user_params_test[FEATURES].copy()\n",
    "y_test  = df_user_params_test[TARGET].copy()\n",
    "\n",
    "\n",
    "categorical_feats = [\n",
    "    'device_model_normalized',\n",
    "    'country_normalized',\n",
    "    'browser_normalized',\n",
    "    'brand_normalized',\n",
    "    'device_platform_normalized',\n",
    "    'device_os_normalized',\n",
    "    'traffic_group_id'\n",
    "]\n",
    "for col in categorical_feats:\n",
    "    X_train[col] = X_train[col].astype('category')\n",
    "    X_test[col]  = X_test[col].astype('category')"
   ]
  },
  {
   "cell_type": "code",
   "execution_count": 118,
   "id": "5eb8c07d-318a-4165-a7eb-6e5579df9cb5",
   "metadata": {},
   "outputs": [],
   "source": [
    "y_train_log = np.log1p(y_train)\n",
    "y_test_log  = np.log1p(y_test)"
   ]
  },
  {
   "cell_type": "code",
   "execution_count": 119,
   "id": "5bb1bc77-a4b6-4566-b07b-01bfca4da005",
   "metadata": {},
   "outputs": [],
   "source": [
    "lgb_train = lgb.Dataset(\n",
    "    X_train, label=y_train_log,\n",
    "    categorical_feature=categorical_feats,\n",
    "    free_raw_data=False\n",
    ")\n",
    "\n",
    "lgb_valid = lgb.Dataset(\n",
    "    X_test, label=y_test_log,\n",
    "    categorical_feature=categorical_feats,\n",
    "    reference=lgb_train,\n",
    "    free_raw_data=False\n",
    ")"
   ]
  },
  {
   "cell_type": "code",
   "execution_count": null,
   "id": "f0090f8f-e30b-43b8-8294-38814843527f",
   "metadata": {},
   "outputs": [],
   "source": []
  },
  {
   "cell_type": "code",
   "execution_count": 120,
   "id": "43cfb8b6-8f49-4272-9b19-70c4768ba6ed",
   "metadata": {},
   "outputs": [
    {
     "name": "stdout",
     "output_type": "stream",
     "text": [
      "Training until validation scores don't improve for 30 rounds\n",
      "[10]\ttrain's rmse: 0.306016\tvalid's rmse: 0.301263\n",
      "[20]\ttrain's rmse: 0.256776\tvalid's rmse: 0.254398\n",
      "[30]\ttrain's rmse: 0.236266\tvalid's rmse: 0.235416\n",
      "[40]\ttrain's rmse: 0.228108\tvalid's rmse: 0.228206\n",
      "[50]\ttrain's rmse: 0.224746\tvalid's rmse: 0.225562\n",
      "[60]\ttrain's rmse: 0.223247\tvalid's rmse: 0.224624\n",
      "[70]\ttrain's rmse: 0.222509\tvalid's rmse: 0.224288\n",
      "[80]\ttrain's rmse: 0.222029\tvalid's rmse: 0.22418\n",
      "[90]\ttrain's rmse: 0.22162\tvalid's rmse: 0.224144\n",
      "[100]\ttrain's rmse: 0.221244\tvalid's rmse: 0.224161\n",
      "[110]\ttrain's rmse: 0.220892\tvalid's rmse: 0.224188\n",
      "Early stopping, best iteration is:\n",
      "[88]\ttrain's rmse: 0.221702\tvalid's rmse: 0.224144\n",
      "CPU times: user 37.7 s, sys: 219 ms, total: 37.9 s\n",
      "Wall time: 3.77 s\n"
     ]
    }
   ],
   "source": [
    "%%time\n",
    "\n",
    "params = {\n",
    "    'objective': 'regression',\n",
    "    'metric': 'rmse',\n",
    "    'boosting_type': 'gbdt',\n",
    "    'learning_rate': 0.05,\n",
    "    'num_leaves': 31,\n",
    "    'min_data_in_leaf': 20,\n",
    "    'feature_pre_filter': False,\n",
    "    'verbose': -1\n",
    "}\n",
    "\n",
    "gbm = lgb.train(\n",
    "    params,\n",
    "    lgb_train,\n",
    "    num_boost_round=300,\n",
    "    valid_sets=[lgb_train, lgb_valid],\n",
    "    valid_names=['train','valid'],\n",
    "    callbacks=[\n",
    "        lgb.early_stopping(30),      \n",
    "        lgb.log_evaluation(10)\n",
    "    ]\n",
    ")"
   ]
  },
  {
   "cell_type": "code",
   "execution_count": 121,
   "id": "6d4816ec-eb43-495c-b5e9-18e31d2b7bb4",
   "metadata": {},
   "outputs": [
    {
     "name": "stdout",
     "output_type": "stream",
     "text": [
      "RMSLE (log‐space RMSE): 0.2241\n",
      "Original‐scale RMSE:   20.2168\n",
      "Original‐scale MAE:    0.6895\n"
     ]
    }
   ],
   "source": [
    "y_pred_log = gbm.predict(X_test, num_iteration=gbm.best_iteration)\n",
    "\n",
    "y_pred = np.expm1(y_pred_log)\n",
    "\n",
    "rmsle = np.sqrt(mean_squared_error(y_test_log, y_pred_log))\n",
    "\n",
    "rmse  = np.sqrt(mean_squared_error(y_test, y_pred))\n",
    "\n",
    "mae   = mean_absolute_error(y_test, y_pred)\n",
    "\n",
    "print(f\"RMSLE (log‐space RMSE): {rmsle:.4f}\")\n",
    "print(f\"Original‐scale RMSE:   {rmse:.4f}\")\n",
    "print(f\"Original‐scale MAE:    {mae:.4f}\")"
   ]
  },
  {
   "cell_type": "code",
   "execution_count": 122,
   "id": "96cb8e24-7fa7-477e-8156-817ce43ce60b",
   "metadata": {},
   "outputs": [
    {
     "name": "stdout",
     "output_type": "stream",
     "text": [
      "R²: 0.4753\n"
     ]
    }
   ],
   "source": [
    "r2 = r2_score(y_test, y_pred)\n",
    "print(f\"R²: {r2:.4f}\")"
   ]
  },
  {
   "cell_type": "code",
   "execution_count": 123,
   "id": "9e59e203-dc48-4dce-b713-dfe657e70672",
   "metadata": {},
   "outputs": [
    {
     "name": "stdout",
     "output_type": "stream",
     "text": [
      "Pinball loss @ median (α=0.5): 0.3448\n",
      "Pinball loss @ 90th pct (α=0.9): 0.5353\n"
     ]
    }
   ],
   "source": [
    "ql_median = mean_pinball_loss(y_test, y_pred, alpha=0.5)\n",
    "ql_90pct   = mean_pinball_loss(y_test, y_pred, alpha=0.9)\n",
    "print(f\"Pinball loss @ median (α=0.5): {ql_median:.4f}\")\n",
    "print(f\"Pinball loss @ 90th pct (α=0.9): {ql_90pct:.4f}\")"
   ]
  },
  {
   "cell_type": "code",
   "execution_count": 124,
   "id": "8cc582f8-4572-40cc-b4ff-1b4e7b42dea8",
   "metadata": {},
   "outputs": [
    {
     "name": "stdout",
     "output_type": "stream",
     "text": [
      "Coverage of top 1% spenders: 68.097%\n"
     ]
    }
   ],
   "source": [
    "K = 0.01\n",
    "n_top = int(len(y_test) * K)\n",
    "\n",
    "top_actual_idx = np.argsort(y_test.values)[-n_top:]\n",
    "\n",
    "top_pred_idx   = np.argsort(y_pred)[-n_top:]\n",
    "\n",
    "coverage = len(set(top_actual_idx).intersection(top_pred_idx)) / n_top\n",
    "print(f\"Coverage of top {int(K*100)}% spenders: {coverage:.3%}\")"
   ]
  },
  {
   "cell_type": "code",
   "execution_count": 125,
   "id": "a6e63be2-220c-4df4-99cd-b25a8c655130",
   "metadata": {},
   "outputs": [
    {
     "name": "stdout",
     "output_type": "stream",
     "text": [
      "                       feature          gain\n",
      "0             sum_payments_max  1.168734e+06\n",
      "1             sum_payments_sum  4.285147e+05\n",
      "2             sum_payments_std  1.638854e+04\n",
      "3    cnt_visit_other_users_sum  1.594534e+04\n",
      "4      device_model_normalized  7.281534e+03\n",
      "5                          age  6.146040e+03\n",
      "6             traffic_group_id  1.789179e+03\n",
      "7           country_normalized  1.217923e+03\n",
      "8        sum_credits_spend_sum  1.176851e+03\n",
      "9             cnt_payments_sum  1.164205e+03\n",
      "10                    reg_hour  9.527105e+02\n",
      "11                 reg_weekday  3.982442e+02\n",
      "12          browser_normalized  2.535610e+02\n",
      "13                  gender_bin  9.438609e+01\n",
      "14        device_os_normalized  8.024020e+01\n",
      "15            brand_normalized  4.064743e+01\n",
      "16  device_platform_normalized  0.000000e+00\n",
      "17           sum_payments_mean  0.000000e+00\n"
     ]
    }
   ],
   "source": [
    "importance = gbm.feature_importance(importance_type='gain')\n",
    "feature_names = gbm.feature_name()\n",
    "\n",
    "fi_df = pd.DataFrame({\n",
    "    'feature': feature_names,\n",
    "    'gain': importance\n",
    "}).sort_values('gain', ascending=False).reset_index(drop=True)\n",
    "\n",
    "print(fi_df)"
   ]
  },
  {
   "cell_type": "code",
   "execution_count": 126,
   "id": "7f273ee8-440e-4591-8936-4aeb50861f3b",
   "metadata": {},
   "outputs": [
    {
     "data": {
      "image/png": "[encoded data removed]",
      "text/plain": [
       "<Figure size 1000x800 with 1 Axes>"
      ]
     },
     "metadata": {},
     "output_type": "display_data"
    }
   ],
   "source": [
    "plt.figure(figsize=(10, 8))\n",
    "plt.barh(fi_df['feature'], fi_df['gain'])\n",
    "plt.xlabel('Gain')\n",
    "plt.title('Feature Importance by Gain')\n",
    "plt.tight_layout()\n",
    "plt.show()"
   ]
  },
  {
   "cell_type": "markdown",
   "id": "e7131ce7-217f-4ea6-b397-23a7a9064520",
   "metadata": {},
   "source": [
    "We can say that:\n",
    "Payment behavior on day 1 is the strongest feature. Users who pay more immediately are highly likely to spend more over the subsequent week.\n",
    "Demographics and \"device\" features add only marginal incremental lift beyond that. \n",
    "\n",
    "Weak features can be dropped."
   ]
  },
  {
   "cell_type": "code",
   "execution_count": null,
   "id": "2fda9654-8d81-4de5-b2a0-ff97828aea11",
   "metadata": {},
   "outputs": [],
   "source": []
  },
  {
   "cell_type": "code",
   "execution_count": null,
   "id": "8c34c584-70eb-471b-bd4e-f99aa5e6f6bc",
   "metadata": {},
   "outputs": [],
   "source": []
  }
 ],
 "metadata": {
  "kernelspec": {
   "display_name": "Python (base)",
   "language": "python",
   "name": "base"
  },
  "language_info": {
   "codemirror_mode": {
    "name": "ipython",
    "version": 3
   },
   "file_extension": ".py",
   "mimetype": "text/x-python",
   "name": "python",
   "nbconvert_exporter": "python",
   "pygments_lexer": "ipython3",
   "version": "3.12.8"
  }
 },
 "nbformat": 4,
 "nbformat_minor": 5
}
